{
  "cells": [
    {
      "cell_type": "markdown",
      "metadata": {
        "id": "beADODeGPe7H"
      },
      "source": [
        "## Pandas 과제\n",
        "\n",
        "Tabular data의 경우 모델을 돌리기에 앞서서 pandas를 통한 전처리가 많이 필요합니다.\n",
        "\n",
        "다음 과제에서는 판다스에서 가장 자주 쓰이는 함수들을 다룹니다.\n",
        "\n",
        "구글에 올라와 있는 판다스 연습문제 200제 중 중복되는 것, 불필요하다고 생각되는 것을 제외하여 과제를 만들게 되었습니다.\n",
        "\n",
        "넘파이 관련 문제들도 있었지만 판다스로만 과제를 구성하게 되었고, 그것들도 풀어보고 싶은 분들은 아래 출처를 남겨 놓았으니 참고하세요.\n",
        "\n",
        "약 150개 정도로 문제 수가 많지만 기초적인 문제들이 많기 때문에 시간이 좀 걸릴 뿐 큰 어려움은 없을 거라 생각합니다.\n",
        "\n",
        "문제를 풀다보면 부자연스러운 문제도 많이 있지만 그냥 연습 삼아 풀어보시기 바랍니다.\n",
        "\n",
        "관련 csv파일들은 별도의 파일에 담아놓았습니다.\n",
        "\n",
        "\n",
        " 발제자: DA 23기 양진성\n",
        "\n",
        "\n",
        "\n",
        "\n"
      ]
    },
    {
      "cell_type": "markdown",
      "metadata": {
        "id": "LDnagT4ZPe7J"
      },
      "source": [
        "### 출처\n",
        "\n",
        "Author: Avi Chawla\n",
        "\n",
        "LinkedIn: https://www.linkedin.com/in/avi-chawla/\n",
        "\n",
        "Read my blogs here: https://medium.com/@avi_chawla"
      ]
    },
    {
      "cell_type": "markdown",
      "metadata": {
        "id": "QQ80fJBVPe7K"
      },
      "source": [
        "- **Pandas**\n",
        "\n",
        "1. Pandas Notebook 1: [Link](https://deepnote.com/workspace/avi-chawla-695b-aee6f4ef-2d50-4fb6-9ef2-20ee1022995a/project/Pandas-Notebook-1-d693ac55-6455-40cf-ae34-867c6a02014e/%2Fnotebook.ipynb)\n",
        "2. Pandas Notebook 2: [Link](https://deepnote.com/workspace/avi-chawla-695b-aee6f4ef-2d50-4fb6-9ef2-20ee1022995a/project/Pandas-Notebook-employee-dataset-7e3b6755-5d4b-464b-9b75-9c84667ae3bd/%2Fnotebook.ipynb)\n",
        "\n",
        "3. Pandas Notebook 3: [Link](https://deepnote.com/workspace/avi-chawla-695b-aee6f4ef-2d50-4fb6-9ef2-20ee1022995a/project/Pandas-Notebook-employee-part-2-adc5a3ee-5f61-4725-8e46-ccb07899acfc/%2Fnotebook.ipynb)\n",
        "\n",
        "4. Pandas Notebook 4: [Link](https://deepnote.com/workspace/avi-chawla-695b-aee6f4ef-2d50-4fb6-9ef2-20ee1022995a/project/Pandas-after-employee-f84e02a1-fb6a-428e-af90-8dd99855749a/%2Fnotebook.ipynb) **(This Notebook)**\n",
        "\n",
        "- **NumPy**\n",
        "\n",
        "1. NumPy Notebook 1: [Link](https://deepnote.com/workspace/avi-chawla-695b-aee6f4ef-2d50-4fb6-9ef2-20ee1022995a/project/Numpy-part-1-9b9979f2-b708-4292-b466-3d0157564c91/%2Fnotebook.ipynb)\n",
        "\n",
        "2. NumPy Notebook 2: [Link](https://deepnote.com/workspace/avi-chawla-695b-aee6f4ef-2d50-4fb6-9ef2-20ee1022995a/project/NumPy-Notebook-2-4456411e-2ddd-426d-8027-4881080027db/%2Fnotebook.ipynb)\n",
        "\n",
        "3. NumPy Notebook 3: [Link](https://deepnote.com/workspace/avi-chawla-695b-aee6f4ef-2d50-4fb6-9ef2-20ee1022995a/project/NumPy-Notebook-3-e6587114-b580-4249-b599-540de859e603/%2Fnotebook.ipynb)\n",
        "\n",
        "- **SQL**\n",
        "\n",
        "1. SQL Notebook 1: [Link](https://deepnote.com/workspace/avi-chawla-695b-aee6f4ef-2d50-4fb6-9ef2-20ee1022995a/project/SQL-Notebook-1-eac9d782-a9b1-4e84-a1f9-af14080a6121/%2Fnotebook.ipynb)\n",
        "\n",
        "2. SQL Notebook 2: [Link](https://deepnote.com/workspace/avi-chawla-695b-aee6f4ef-2d50-4fb6-9ef2-20ee1022995a/project/SQL-Notebook-2-1914b214-be03-44a1-be63-ad99e98be639/%2Fnotebook.ipynb)"
      ]
    },
    {
      "cell_type": "markdown",
      "metadata": {
        "cell_id": "bac3049910b240b998ba02c52dd9a7cf",
        "deepnote_cell_type": "text-cell-h1",
        "formattedRanges": [],
        "is_collapsed": false,
        "tags": [],
        "id": "KykzE1swPe7L"
      },
      "source": [
        "# Pandas Notebook 1"
      ]
    },
    {
      "cell_type": "code",
      "source": [
        "from google.colab import drive\n",
        "drive.mount('/content/drive')"
      ],
      "metadata": {
        "colab": {
          "base_uri": "https://localhost:8080/"
        },
        "id": "Ra4FOY5BqMjF",
        "outputId": "70c97dc9-db8d-42a3-e85b-a64355d69b62"
      },
      "execution_count": 42,
      "outputs": [
        {
          "output_type": "stream",
          "name": "stdout",
          "text": [
            "Drive already mounted at /content/drive; to attempt to forcibly remount, call drive.mount(\"/content/drive\", force_remount=True).\n"
          ]
        }
      ]
    },
    {
      "cell_type": "code",
      "execution_count": 24,
      "metadata": {
        "allow_embed": "code",
        "cell_id": "1247c98b228f4e26a7e645554d1444a0",
        "deepnote_cell_type": "code",
        "deepnote_to_be_reexecuted": false,
        "execution_millis": 2,
        "execution_start": 1659984470280,
        "source_hash": "c76c7c51",
        "tags": [],
        "id": "rTuCOmrsPe7L"
      },
      "outputs": [],
      "source": [
        "import pandas as pd\n",
        "import numpy as np"
      ]
    },
    {
      "cell_type": "markdown",
      "metadata": {
        "cell_id": "6aaba47726e04be19708d622e44b4594",
        "deepnote_cell_type": "text-cell-h2",
        "formattedRanges": [],
        "is_collapsed": false,
        "tags": [],
        "id": "wkXGQ6jrPe7M"
      },
      "source": [
        "## Create a Pandas DataFrame"
      ]
    },
    {
      "cell_type": "markdown",
      "metadata": {
        "cell_id": "5134b361d40a48629147a7607e50e333",
        "deepnote_cell_type": "text-cell-h3",
        "formattedRanges": [],
        "is_collapsed": false,
        "tags": [],
        "id": "O1s0ril2Pe7N"
      },
      "source": [
        "### 1. Create a DataFrame from a list of lists. Name the columns \"col1\", \"col2\" and \"col3\"."
      ]
    },
    {
      "cell_type": "code",
      "execution_count": 3,
      "metadata": {
        "cell_id": "e4de38de7b714b368a3ad2cea933f99f",
        "deepnote_cell_height": 115,
        "deepnote_cell_type": "code",
        "tags": [],
        "id": "H8SnBl84Pe7O",
        "outputId": "90121030-5826-4b4f-b391-4524b138d9e4",
        "colab": {
          "base_uri": "https://localhost:8080/"
        }
      },
      "outputs": [
        {
          "output_type": "stream",
          "name": "stdout",
          "text": [
            "   col1  col2  col3\n",
            "0     1     2     3\n",
            "1     4     5     6\n"
          ]
        }
      ],
      "source": [
        "data_list = [[1,2,3], [4,5,6]]\n",
        "df = pd.DataFrame(data_list, columns=[\"col1\", \"col2\", \"col3\"])\n",
        "print(df)"
      ]
    },
    {
      "cell_type": "markdown",
      "metadata": {
        "cell_id": "f24b2e095a234294b4782e696a6e5d5a",
        "deepnote_cell_type": "text-cell-h3",
        "formattedRanges": [],
        "is_collapsed": false,
        "tags": [],
        "id": "E4pMxJivPe7P"
      },
      "source": [
        "### 2. Create a DataFrame from a list of lists. Name the columns \"col1\", \"col2\" and \"col3\". Change the data type of all columns to \"int8\"."
      ]
    },
    {
      "cell_type": "code",
      "execution_count": 4,
      "metadata": {
        "cell_id": "97d8b0c0c0f744fdb856d6fa4acf3ba8",
        "deepnote_cell_height": 133,
        "deepnote_cell_type": "code",
        "tags": [],
        "id": "GtR-rEdSPe7P",
        "outputId": "74f97289-06c6-4848-ca8a-e737e4daa78e",
        "colab": {
          "base_uri": "https://localhost:8080/"
        }
      },
      "outputs": [
        {
          "output_type": "stream",
          "name": "stdout",
          "text": [
            "   col1  col2  col3\n",
            "0     1     2     3\n",
            "1     4     5     6\n",
            "col1    int8\n",
            "col2    int8\n",
            "col3    int8\n",
            "dtype: object\n"
          ]
        }
      ],
      "source": [
        "data_list = [[1,2,3], [4,5,6]]\n",
        "\n",
        "df = pd.DataFrame(data_list, columns=[\"col1\", \"col2\", \"col3\"], dtype='int8')\n",
        "print(df)\n",
        "print(df.dtypes)"
      ]
    },
    {
      "cell_type": "markdown",
      "metadata": {
        "cell_id": "67608c871eff4c13b387c01d90efb01b",
        "deepnote_cell_type": "text-cell-h3",
        "formattedRanges": [],
        "is_collapsed": false,
        "tags": [],
        "id": "Du_NbLAlPe7Q"
      },
      "source": [
        "### 3. Create a DataFrame from a dictionary."
      ]
    },
    {
      "cell_type": "code",
      "execution_count": 8,
      "metadata": {
        "cell_id": "af6e6be1179c4a619e99a2ffc72fe2ec",
        "deepnote_cell_height": 115,
        "deepnote_cell_type": "code",
        "tags": [],
        "id": "Bb6CWBZAPe7Q",
        "outputId": "88c3bc81-26ce-4abf-aba5-2d593d8c03c7",
        "colab": {
          "base_uri": "https://localhost:8080/"
        }
      },
      "outputs": [
        {
          "output_type": "stream",
          "name": "stdout",
          "text": [
            "   col1  col2\n",
            "0     1     3\n",
            "1     2     4\n"
          ]
        }
      ],
      "source": [
        "data_dict = {'col1': [1, 2], 'col2': [3, 4]}\n",
        "\n",
        "df =pd.DataFrame(data_dict)\n",
        "print(df)"
      ]
    },
    {
      "cell_type": "markdown",
      "metadata": {
        "cell_id": "10a39af80da44666b7cd6b7c76598868",
        "deepnote_cell_type": "text-cell-h3",
        "formattedRanges": [],
        "is_collapsed": false,
        "tags": [],
        "id": "wlJa7ZlfPe7Q"
      },
      "source": [
        "### 4. Create a DataFrame from a dictionary. Change the data type to \"int8\"."
      ]
    },
    {
      "cell_type": "code",
      "execution_count": 9,
      "metadata": {
        "cell_id": "7db3f0b16fa046df8b556fab1f924448",
        "deepnote_cell_height": 133,
        "deepnote_cell_type": "code",
        "tags": [],
        "id": "I7QqJqrBPe7R",
        "outputId": "d40893d5-98b3-476c-b37e-d7a0cda74017",
        "colab": {
          "base_uri": "https://localhost:8080/"
        }
      },
      "outputs": [
        {
          "output_type": "stream",
          "name": "stdout",
          "text": [
            "   col1  col2\n",
            "0     1     3\n",
            "1     2     4\n",
            "col1    int8\n",
            "col2    int8\n",
            "dtype: object\n"
          ]
        }
      ],
      "source": [
        "data_dict = {'col1': [1, 2], 'col2': [3, 4]}\n",
        "\n",
        "df =pd.DataFrame(data_dict, dtype =\"int8\")\n",
        "print(df)\n",
        "print(df.dtypes)"
      ]
    },
    {
      "cell_type": "markdown",
      "metadata": {
        "cell_id": "c4f04239427b4dfeb371b7f85167aa59",
        "deepnote_cell_type": "text-cell-h3",
        "formattedRanges": [],
        "is_collapsed": false,
        "tags": [],
        "id": "jcc02BedPe7R"
      },
      "source": [
        "### 5. Create a DataFrame from a numpy array. Name the columns \"col1\", \"col2\" and \"col3\"."
      ]
    },
    {
      "cell_type": "code",
      "execution_count": 14,
      "metadata": {
        "cell_id": "6db2cc59b35d44308ee927877e504b67",
        "deepnote_cell_height": 115,
        "deepnote_cell_type": "code",
        "tags": [],
        "id": "6LtDEnvXPe7R",
        "outputId": "07dd8fae-2076-4bee-bac3-8c581269c463",
        "colab": {
          "base_uri": "https://localhost:8080/"
        }
      },
      "outputs": [
        {
          "output_type": "stream",
          "name": "stdout",
          "text": [
            "   col1  col2  col3\n",
            "0     1     2     3\n",
            "1     4     5     6\n"
          ]
        }
      ],
      "source": [
        "data_nparray = np.array([[1,2,3], [4,5,6]])\n",
        "df = pd.DataFrame(data_nparray, columns=[\"col1\", \"col2\", \"col3\"])\n",
        "print(df)"
      ]
    },
    {
      "cell_type": "code",
      "source": [
        "import os\n",
        "cwd = os.getcwd()\n",
        "print(\"현재 작업 디렉토리:\", cwd)"
      ],
      "metadata": {
        "colab": {
          "base_uri": "https://localhost:8080/"
        },
        "id": "-Faoyaq-PDXX",
        "outputId": "f14bee17-6a03-4d7f-a7d6-77133173354b"
      },
      "execution_count": 25,
      "outputs": [
        {
          "output_type": "stream",
          "name": "stdout",
          "text": [
            "현재 작업 디렉토리: /content\n"
          ]
        }
      ]
    },
    {
      "cell_type": "markdown",
      "metadata": {
        "cell_id": "de1e8331c49f4f5c93f0c72c4b7ba203",
        "deepnote_cell_type": "text-cell-h2",
        "formattedRanges": [],
        "is_collapsed": false,
        "tags": [],
        "id": "3N9Xe_ZiPe7S"
      },
      "source": [
        "## Input Operations from CSV in Pandas"
      ]
    },
    {
      "cell_type": "markdown",
      "metadata": {
        "cell_id": "141fc7656f334da2bbb5d43f40bec4c2",
        "deepnote_cell_type": "text-cell-h3",
        "formattedRanges": [],
        "is_collapsed": false,
        "tags": [],
        "id": "YKakQqVvPe7S"
      },
      "source": [
        "### 6. Read a CSV File."
      ]
    },
    {
      "cell_type": "code",
      "execution_count": 43,
      "metadata": {
        "cell_id": "7d5f6e2c60c741ab9f5fae8b7bf5feb0",
        "deepnote_cell_type": "code",
        "deepnote_to_be_reexecuted": false,
        "execution_millis": 1,
        "execution_start": 1659896158632,
        "source_hash": "b623e53d",
        "tags": [],
        "id": "u_F5HmvgPe7T",
        "outputId": "f69012f2-7f5f-4823-fa8c-4dfd7789e4f3",
        "colab": {
          "base_uri": "https://localhost:8080/",
          "height": 388
        }
      },
      "outputs": [
        {
          "output_type": "error",
          "ename": "FileNotFoundError",
          "evalue": "[Errno 2] No such file or directory: 'file1.csv'",
          "traceback": [
            "\u001b[0;31m---------------------------------------------------------------------------\u001b[0m",
            "\u001b[0;31mFileNotFoundError\u001b[0m                         Traceback (most recent call last)",
            "\u001b[0;32m<ipython-input-43-bf3d59b52103>\u001b[0m in \u001b[0;36m<cell line: 3>\u001b[0;34m()\u001b[0m\n\u001b[1;32m      1\u001b[0m \u001b[0mcsv_file\u001b[0m \u001b[0;34m=\u001b[0m \u001b[0;34m\"file1.csv\"\u001b[0m\u001b[0;34m\u001b[0m\u001b[0;34m\u001b[0m\u001b[0m\n\u001b[1;32m      2\u001b[0m \u001b[0;34m\u001b[0m\u001b[0m\n\u001b[0;32m----> 3\u001b[0;31m \u001b[0mdf\u001b[0m \u001b[0;34m=\u001b[0m\u001b[0mpd\u001b[0m\u001b[0;34m.\u001b[0m\u001b[0mread_csv\u001b[0m\u001b[0;34m(\u001b[0m\u001b[0mcsv_file\u001b[0m\u001b[0;34m)\u001b[0m\u001b[0;34m\u001b[0m\u001b[0;34m\u001b[0m\u001b[0m\n\u001b[0m\u001b[1;32m      4\u001b[0m \u001b[0mprint\u001b[0m\u001b[0;34m(\u001b[0m\u001b[0mdf\u001b[0m\u001b[0;34m)\u001b[0m\u001b[0;34m\u001b[0m\u001b[0;34m\u001b[0m\u001b[0m\n",
            "\u001b[0;32m/usr/local/lib/python3.10/dist-packages/pandas/util/_decorators.py\u001b[0m in \u001b[0;36mwrapper\u001b[0;34m(*args, **kwargs)\u001b[0m\n\u001b[1;32m    209\u001b[0m                 \u001b[0;32melse\u001b[0m\u001b[0;34m:\u001b[0m\u001b[0;34m\u001b[0m\u001b[0;34m\u001b[0m\u001b[0m\n\u001b[1;32m    210\u001b[0m                     \u001b[0mkwargs\u001b[0m\u001b[0;34m[\u001b[0m\u001b[0mnew_arg_name\u001b[0m\u001b[0;34m]\u001b[0m \u001b[0;34m=\u001b[0m \u001b[0mnew_arg_value\u001b[0m\u001b[0;34m\u001b[0m\u001b[0;34m\u001b[0m\u001b[0m\n\u001b[0;32m--> 211\u001b[0;31m             \u001b[0;32mreturn\u001b[0m \u001b[0mfunc\u001b[0m\u001b[0;34m(\u001b[0m\u001b[0;34m*\u001b[0m\u001b[0margs\u001b[0m\u001b[0;34m,\u001b[0m \u001b[0;34m**\u001b[0m\u001b[0mkwargs\u001b[0m\u001b[0;34m)\u001b[0m\u001b[0;34m\u001b[0m\u001b[0;34m\u001b[0m\u001b[0m\n\u001b[0m\u001b[1;32m    212\u001b[0m \u001b[0;34m\u001b[0m\u001b[0m\n\u001b[1;32m    213\u001b[0m         \u001b[0;32mreturn\u001b[0m \u001b[0mcast\u001b[0m\u001b[0;34m(\u001b[0m\u001b[0mF\u001b[0m\u001b[0;34m,\u001b[0m \u001b[0mwrapper\u001b[0m\u001b[0;34m)\u001b[0m\u001b[0;34m\u001b[0m\u001b[0;34m\u001b[0m\u001b[0m\n",
            "\u001b[0;32m/usr/local/lib/python3.10/dist-packages/pandas/util/_decorators.py\u001b[0m in \u001b[0;36mwrapper\u001b[0;34m(*args, **kwargs)\u001b[0m\n\u001b[1;32m    329\u001b[0m                     \u001b[0mstacklevel\u001b[0m\u001b[0;34m=\u001b[0m\u001b[0mfind_stack_level\u001b[0m\u001b[0;34m(\u001b[0m\u001b[0;34m)\u001b[0m\u001b[0;34m,\u001b[0m\u001b[0;34m\u001b[0m\u001b[0;34m\u001b[0m\u001b[0m\n\u001b[1;32m    330\u001b[0m                 )\n\u001b[0;32m--> 331\u001b[0;31m             \u001b[0;32mreturn\u001b[0m \u001b[0mfunc\u001b[0m\u001b[0;34m(\u001b[0m\u001b[0;34m*\u001b[0m\u001b[0margs\u001b[0m\u001b[0;34m,\u001b[0m \u001b[0;34m**\u001b[0m\u001b[0mkwargs\u001b[0m\u001b[0;34m)\u001b[0m\u001b[0;34m\u001b[0m\u001b[0;34m\u001b[0m\u001b[0m\n\u001b[0m\u001b[1;32m    332\u001b[0m \u001b[0;34m\u001b[0m\u001b[0m\n\u001b[1;32m    333\u001b[0m         \u001b[0;31m# error: \"Callable[[VarArg(Any), KwArg(Any)], Any]\" has no\u001b[0m\u001b[0;34m\u001b[0m\u001b[0;34m\u001b[0m\u001b[0m\n",
            "\u001b[0;32m/usr/local/lib/python3.10/dist-packages/pandas/io/parsers/readers.py\u001b[0m in \u001b[0;36mread_csv\u001b[0;34m(filepath_or_buffer, sep, delimiter, header, names, index_col, usecols, squeeze, prefix, mangle_dupe_cols, dtype, engine, converters, true_values, false_values, skipinitialspace, skiprows, skipfooter, nrows, na_values, keep_default_na, na_filter, verbose, skip_blank_lines, parse_dates, infer_datetime_format, keep_date_col, date_parser, dayfirst, cache_dates, iterator, chunksize, compression, thousands, decimal, lineterminator, quotechar, quoting, doublequote, escapechar, comment, encoding, encoding_errors, dialect, error_bad_lines, warn_bad_lines, on_bad_lines, delim_whitespace, low_memory, memory_map, float_precision, storage_options)\u001b[0m\n\u001b[1;32m    948\u001b[0m     \u001b[0mkwds\u001b[0m\u001b[0;34m.\u001b[0m\u001b[0mupdate\u001b[0m\u001b[0;34m(\u001b[0m\u001b[0mkwds_defaults\u001b[0m\u001b[0;34m)\u001b[0m\u001b[0;34m\u001b[0m\u001b[0;34m\u001b[0m\u001b[0m\n\u001b[1;32m    949\u001b[0m \u001b[0;34m\u001b[0m\u001b[0m\n\u001b[0;32m--> 950\u001b[0;31m     \u001b[0;32mreturn\u001b[0m \u001b[0m_read\u001b[0m\u001b[0;34m(\u001b[0m\u001b[0mfilepath_or_buffer\u001b[0m\u001b[0;34m,\u001b[0m \u001b[0mkwds\u001b[0m\u001b[0;34m)\u001b[0m\u001b[0;34m\u001b[0m\u001b[0;34m\u001b[0m\u001b[0m\n\u001b[0m\u001b[1;32m    951\u001b[0m \u001b[0;34m\u001b[0m\u001b[0m\n\u001b[1;32m    952\u001b[0m \u001b[0;34m\u001b[0m\u001b[0m\n",
            "\u001b[0;32m/usr/local/lib/python3.10/dist-packages/pandas/io/parsers/readers.py\u001b[0m in \u001b[0;36m_read\u001b[0;34m(filepath_or_buffer, kwds)\u001b[0m\n\u001b[1;32m    603\u001b[0m \u001b[0;34m\u001b[0m\u001b[0m\n\u001b[1;32m    604\u001b[0m     \u001b[0;31m# Create the parser.\u001b[0m\u001b[0;34m\u001b[0m\u001b[0;34m\u001b[0m\u001b[0m\n\u001b[0;32m--> 605\u001b[0;31m     \u001b[0mparser\u001b[0m \u001b[0;34m=\u001b[0m \u001b[0mTextFileReader\u001b[0m\u001b[0;34m(\u001b[0m\u001b[0mfilepath_or_buffer\u001b[0m\u001b[0;34m,\u001b[0m \u001b[0;34m**\u001b[0m\u001b[0mkwds\u001b[0m\u001b[0;34m)\u001b[0m\u001b[0;34m\u001b[0m\u001b[0;34m\u001b[0m\u001b[0m\n\u001b[0m\u001b[1;32m    606\u001b[0m \u001b[0;34m\u001b[0m\u001b[0m\n\u001b[1;32m    607\u001b[0m     \u001b[0;32mif\u001b[0m \u001b[0mchunksize\u001b[0m \u001b[0;32mor\u001b[0m \u001b[0miterator\u001b[0m\u001b[0;34m:\u001b[0m\u001b[0;34m\u001b[0m\u001b[0;34m\u001b[0m\u001b[0m\n",
            "\u001b[0;32m/usr/local/lib/python3.10/dist-packages/pandas/io/parsers/readers.py\u001b[0m in \u001b[0;36m__init__\u001b[0;34m(self, f, engine, **kwds)\u001b[0m\n\u001b[1;32m   1440\u001b[0m \u001b[0;34m\u001b[0m\u001b[0m\n\u001b[1;32m   1441\u001b[0m         \u001b[0mself\u001b[0m\u001b[0;34m.\u001b[0m\u001b[0mhandles\u001b[0m\u001b[0;34m:\u001b[0m \u001b[0mIOHandles\u001b[0m \u001b[0;34m|\u001b[0m \u001b[0;32mNone\u001b[0m \u001b[0;34m=\u001b[0m \u001b[0;32mNone\u001b[0m\u001b[0;34m\u001b[0m\u001b[0;34m\u001b[0m\u001b[0m\n\u001b[0;32m-> 1442\u001b[0;31m         \u001b[0mself\u001b[0m\u001b[0;34m.\u001b[0m\u001b[0m_engine\u001b[0m \u001b[0;34m=\u001b[0m \u001b[0mself\u001b[0m\u001b[0;34m.\u001b[0m\u001b[0m_make_engine\u001b[0m\u001b[0;34m(\u001b[0m\u001b[0mf\u001b[0m\u001b[0;34m,\u001b[0m \u001b[0mself\u001b[0m\u001b[0;34m.\u001b[0m\u001b[0mengine\u001b[0m\u001b[0;34m)\u001b[0m\u001b[0;34m\u001b[0m\u001b[0;34m\u001b[0m\u001b[0m\n\u001b[0m\u001b[1;32m   1443\u001b[0m \u001b[0;34m\u001b[0m\u001b[0m\n\u001b[1;32m   1444\u001b[0m     \u001b[0;32mdef\u001b[0m \u001b[0mclose\u001b[0m\u001b[0;34m(\u001b[0m\u001b[0mself\u001b[0m\u001b[0;34m)\u001b[0m \u001b[0;34m->\u001b[0m \u001b[0;32mNone\u001b[0m\u001b[0;34m:\u001b[0m\u001b[0;34m\u001b[0m\u001b[0;34m\u001b[0m\u001b[0m\n",
            "\u001b[0;32m/usr/local/lib/python3.10/dist-packages/pandas/io/parsers/readers.py\u001b[0m in \u001b[0;36m_make_engine\u001b[0;34m(self, f, engine)\u001b[0m\n\u001b[1;32m   1733\u001b[0m                 \u001b[0;32mif\u001b[0m \u001b[0;34m\"b\"\u001b[0m \u001b[0;32mnot\u001b[0m \u001b[0;32min\u001b[0m \u001b[0mmode\u001b[0m\u001b[0;34m:\u001b[0m\u001b[0;34m\u001b[0m\u001b[0;34m\u001b[0m\u001b[0m\n\u001b[1;32m   1734\u001b[0m                     \u001b[0mmode\u001b[0m \u001b[0;34m+=\u001b[0m \u001b[0;34m\"b\"\u001b[0m\u001b[0;34m\u001b[0m\u001b[0;34m\u001b[0m\u001b[0m\n\u001b[0;32m-> 1735\u001b[0;31m             self.handles = get_handle(\n\u001b[0m\u001b[1;32m   1736\u001b[0m                 \u001b[0mf\u001b[0m\u001b[0;34m,\u001b[0m\u001b[0;34m\u001b[0m\u001b[0;34m\u001b[0m\u001b[0m\n\u001b[1;32m   1737\u001b[0m                 \u001b[0mmode\u001b[0m\u001b[0;34m,\u001b[0m\u001b[0;34m\u001b[0m\u001b[0;34m\u001b[0m\u001b[0m\n",
            "\u001b[0;32m/usr/local/lib/python3.10/dist-packages/pandas/io/common.py\u001b[0m in \u001b[0;36mget_handle\u001b[0;34m(path_or_buf, mode, encoding, compression, memory_map, is_text, errors, storage_options)\u001b[0m\n\u001b[1;32m    854\u001b[0m         \u001b[0;32mif\u001b[0m \u001b[0mioargs\u001b[0m\u001b[0;34m.\u001b[0m\u001b[0mencoding\u001b[0m \u001b[0;32mand\u001b[0m \u001b[0;34m\"b\"\u001b[0m \u001b[0;32mnot\u001b[0m \u001b[0;32min\u001b[0m \u001b[0mioargs\u001b[0m\u001b[0;34m.\u001b[0m\u001b[0mmode\u001b[0m\u001b[0;34m:\u001b[0m\u001b[0;34m\u001b[0m\u001b[0;34m\u001b[0m\u001b[0m\n\u001b[1;32m    855\u001b[0m             \u001b[0;31m# Encoding\u001b[0m\u001b[0;34m\u001b[0m\u001b[0;34m\u001b[0m\u001b[0m\n\u001b[0;32m--> 856\u001b[0;31m             handle = open(\n\u001b[0m\u001b[1;32m    857\u001b[0m                 \u001b[0mhandle\u001b[0m\u001b[0;34m,\u001b[0m\u001b[0;34m\u001b[0m\u001b[0;34m\u001b[0m\u001b[0m\n\u001b[1;32m    858\u001b[0m                 \u001b[0mioargs\u001b[0m\u001b[0;34m.\u001b[0m\u001b[0mmode\u001b[0m\u001b[0;34m,\u001b[0m\u001b[0;34m\u001b[0m\u001b[0;34m\u001b[0m\u001b[0m\n",
            "\u001b[0;31mFileNotFoundError\u001b[0m: [Errno 2] No such file or directory: 'file1.csv'"
          ]
        }
      ],
      "source": [
        "csv_file = \"input_data/file1.csv\"\n",
        "\n",
        "df =pd.read_csv(csv_file)\n",
        "print(df)"
      ]
    },
    {
      "cell_type": "markdown",
      "metadata": {
        "cell_id": "8f9a70588d944fd78abeea0971687a56",
        "deepnote_cell_type": "text-cell-h3",
        "formattedRanges": [],
        "is_collapsed": false,
        "tags": [],
        "id": "g90sJh5kPe7T"
      },
      "source": [
        "### 7. Read a CSV file with delimiter \"|\"."
      ]
    },
    {
      "cell_type": "code",
      "execution_count": 45,
      "metadata": {
        "cell_id": "0f8de42d5a9b4909b6c21941137d5b04",
        "deepnote_cell_height": 115,
        "deepnote_cell_type": "code",
        "tags": [],
        "id": "BeKTQdcmPe7T",
        "outputId": "2b33c327-9d14-42b2-ec5a-a1768cb34a8d",
        "colab": {
          "base_uri": "https://localhost:8080/",
          "height": 388
        }
      },
      "outputs": [
        {
          "output_type": "error",
          "ename": "FileNotFoundError",
          "evalue": "[Errno 2] No such file or directory: 'input_data/file2.csv'",
          "traceback": [
            "\u001b[0;31m---------------------------------------------------------------------------\u001b[0m",
            "\u001b[0;31mFileNotFoundError\u001b[0m                         Traceback (most recent call last)",
            "\u001b[0;32m<ipython-input-45-e4933e963119>\u001b[0m in \u001b[0;36m<cell line: 3>\u001b[0;34m()\u001b[0m\n\u001b[1;32m      1\u001b[0m \u001b[0mcsv_file\u001b[0m \u001b[0;34m=\u001b[0m \u001b[0;34m\"input_data/file2.csv\"\u001b[0m\u001b[0;34m\u001b[0m\u001b[0;34m\u001b[0m\u001b[0m\n\u001b[1;32m      2\u001b[0m \u001b[0;34m\u001b[0m\u001b[0m\n\u001b[0;32m----> 3\u001b[0;31m \u001b[0mdf\u001b[0m \u001b[0;34m=\u001b[0m \u001b[0mpd\u001b[0m\u001b[0;34m.\u001b[0m\u001b[0mread_csv\u001b[0m\u001b[0;34m(\u001b[0m\u001b[0mcsv_file\u001b[0m\u001b[0;34m,\u001b[0m \u001b[0mdelimiter\u001b[0m\u001b[0;34m=\u001b[0m\u001b[0;34m\"|\"\u001b[0m\u001b[0;34m)\u001b[0m\u001b[0;34m\u001b[0m\u001b[0;34m\u001b[0m\u001b[0m\n\u001b[0m\u001b[1;32m      4\u001b[0m \u001b[0mprint\u001b[0m\u001b[0;34m(\u001b[0m\u001b[0mdf\u001b[0m\u001b[0;34m)\u001b[0m\u001b[0;34m\u001b[0m\u001b[0;34m\u001b[0m\u001b[0m\n",
            "\u001b[0;32m/usr/local/lib/python3.10/dist-packages/pandas/util/_decorators.py\u001b[0m in \u001b[0;36mwrapper\u001b[0;34m(*args, **kwargs)\u001b[0m\n\u001b[1;32m    209\u001b[0m                 \u001b[0;32melse\u001b[0m\u001b[0;34m:\u001b[0m\u001b[0;34m\u001b[0m\u001b[0;34m\u001b[0m\u001b[0m\n\u001b[1;32m    210\u001b[0m                     \u001b[0mkwargs\u001b[0m\u001b[0;34m[\u001b[0m\u001b[0mnew_arg_name\u001b[0m\u001b[0;34m]\u001b[0m \u001b[0;34m=\u001b[0m \u001b[0mnew_arg_value\u001b[0m\u001b[0;34m\u001b[0m\u001b[0;34m\u001b[0m\u001b[0m\n\u001b[0;32m--> 211\u001b[0;31m             \u001b[0;32mreturn\u001b[0m \u001b[0mfunc\u001b[0m\u001b[0;34m(\u001b[0m\u001b[0;34m*\u001b[0m\u001b[0margs\u001b[0m\u001b[0;34m,\u001b[0m \u001b[0;34m**\u001b[0m\u001b[0mkwargs\u001b[0m\u001b[0;34m)\u001b[0m\u001b[0;34m\u001b[0m\u001b[0;34m\u001b[0m\u001b[0m\n\u001b[0m\u001b[1;32m    212\u001b[0m \u001b[0;34m\u001b[0m\u001b[0m\n\u001b[1;32m    213\u001b[0m         \u001b[0;32mreturn\u001b[0m \u001b[0mcast\u001b[0m\u001b[0;34m(\u001b[0m\u001b[0mF\u001b[0m\u001b[0;34m,\u001b[0m \u001b[0mwrapper\u001b[0m\u001b[0;34m)\u001b[0m\u001b[0;34m\u001b[0m\u001b[0;34m\u001b[0m\u001b[0m\n",
            "\u001b[0;32m/usr/local/lib/python3.10/dist-packages/pandas/util/_decorators.py\u001b[0m in \u001b[0;36mwrapper\u001b[0;34m(*args, **kwargs)\u001b[0m\n\u001b[1;32m    329\u001b[0m                     \u001b[0mstacklevel\u001b[0m\u001b[0;34m=\u001b[0m\u001b[0mfind_stack_level\u001b[0m\u001b[0;34m(\u001b[0m\u001b[0;34m)\u001b[0m\u001b[0;34m,\u001b[0m\u001b[0;34m\u001b[0m\u001b[0;34m\u001b[0m\u001b[0m\n\u001b[1;32m    330\u001b[0m                 )\n\u001b[0;32m--> 331\u001b[0;31m             \u001b[0;32mreturn\u001b[0m \u001b[0mfunc\u001b[0m\u001b[0;34m(\u001b[0m\u001b[0;34m*\u001b[0m\u001b[0margs\u001b[0m\u001b[0;34m,\u001b[0m \u001b[0;34m**\u001b[0m\u001b[0mkwargs\u001b[0m\u001b[0;34m)\u001b[0m\u001b[0;34m\u001b[0m\u001b[0;34m\u001b[0m\u001b[0m\n\u001b[0m\u001b[1;32m    332\u001b[0m \u001b[0;34m\u001b[0m\u001b[0m\n\u001b[1;32m    333\u001b[0m         \u001b[0;31m# error: \"Callable[[VarArg(Any), KwArg(Any)], Any]\" has no\u001b[0m\u001b[0;34m\u001b[0m\u001b[0;34m\u001b[0m\u001b[0m\n",
            "\u001b[0;32m/usr/local/lib/python3.10/dist-packages/pandas/io/parsers/readers.py\u001b[0m in \u001b[0;36mread_csv\u001b[0;34m(filepath_or_buffer, sep, delimiter, header, names, index_col, usecols, squeeze, prefix, mangle_dupe_cols, dtype, engine, converters, true_values, false_values, skipinitialspace, skiprows, skipfooter, nrows, na_values, keep_default_na, na_filter, verbose, skip_blank_lines, parse_dates, infer_datetime_format, keep_date_col, date_parser, dayfirst, cache_dates, iterator, chunksize, compression, thousands, decimal, lineterminator, quotechar, quoting, doublequote, escapechar, comment, encoding, encoding_errors, dialect, error_bad_lines, warn_bad_lines, on_bad_lines, delim_whitespace, low_memory, memory_map, float_precision, storage_options)\u001b[0m\n\u001b[1;32m    948\u001b[0m     \u001b[0mkwds\u001b[0m\u001b[0;34m.\u001b[0m\u001b[0mupdate\u001b[0m\u001b[0;34m(\u001b[0m\u001b[0mkwds_defaults\u001b[0m\u001b[0;34m)\u001b[0m\u001b[0;34m\u001b[0m\u001b[0;34m\u001b[0m\u001b[0m\n\u001b[1;32m    949\u001b[0m \u001b[0;34m\u001b[0m\u001b[0m\n\u001b[0;32m--> 950\u001b[0;31m     \u001b[0;32mreturn\u001b[0m \u001b[0m_read\u001b[0m\u001b[0;34m(\u001b[0m\u001b[0mfilepath_or_buffer\u001b[0m\u001b[0;34m,\u001b[0m \u001b[0mkwds\u001b[0m\u001b[0;34m)\u001b[0m\u001b[0;34m\u001b[0m\u001b[0;34m\u001b[0m\u001b[0m\n\u001b[0m\u001b[1;32m    951\u001b[0m \u001b[0;34m\u001b[0m\u001b[0m\n\u001b[1;32m    952\u001b[0m \u001b[0;34m\u001b[0m\u001b[0m\n",
            "\u001b[0;32m/usr/local/lib/python3.10/dist-packages/pandas/io/parsers/readers.py\u001b[0m in \u001b[0;36m_read\u001b[0;34m(filepath_or_buffer, kwds)\u001b[0m\n\u001b[1;32m    603\u001b[0m \u001b[0;34m\u001b[0m\u001b[0m\n\u001b[1;32m    604\u001b[0m     \u001b[0;31m# Create the parser.\u001b[0m\u001b[0;34m\u001b[0m\u001b[0;34m\u001b[0m\u001b[0m\n\u001b[0;32m--> 605\u001b[0;31m     \u001b[0mparser\u001b[0m \u001b[0;34m=\u001b[0m \u001b[0mTextFileReader\u001b[0m\u001b[0;34m(\u001b[0m\u001b[0mfilepath_or_buffer\u001b[0m\u001b[0;34m,\u001b[0m \u001b[0;34m**\u001b[0m\u001b[0mkwds\u001b[0m\u001b[0;34m)\u001b[0m\u001b[0;34m\u001b[0m\u001b[0;34m\u001b[0m\u001b[0m\n\u001b[0m\u001b[1;32m    606\u001b[0m \u001b[0;34m\u001b[0m\u001b[0m\n\u001b[1;32m    607\u001b[0m     \u001b[0;32mif\u001b[0m \u001b[0mchunksize\u001b[0m \u001b[0;32mor\u001b[0m \u001b[0miterator\u001b[0m\u001b[0;34m:\u001b[0m\u001b[0;34m\u001b[0m\u001b[0;34m\u001b[0m\u001b[0m\n",
            "\u001b[0;32m/usr/local/lib/python3.10/dist-packages/pandas/io/parsers/readers.py\u001b[0m in \u001b[0;36m__init__\u001b[0;34m(self, f, engine, **kwds)\u001b[0m\n\u001b[1;32m   1440\u001b[0m \u001b[0;34m\u001b[0m\u001b[0m\n\u001b[1;32m   1441\u001b[0m         \u001b[0mself\u001b[0m\u001b[0;34m.\u001b[0m\u001b[0mhandles\u001b[0m\u001b[0;34m:\u001b[0m \u001b[0mIOHandles\u001b[0m \u001b[0;34m|\u001b[0m \u001b[0;32mNone\u001b[0m \u001b[0;34m=\u001b[0m \u001b[0;32mNone\u001b[0m\u001b[0;34m\u001b[0m\u001b[0;34m\u001b[0m\u001b[0m\n\u001b[0;32m-> 1442\u001b[0;31m         \u001b[0mself\u001b[0m\u001b[0;34m.\u001b[0m\u001b[0m_engine\u001b[0m \u001b[0;34m=\u001b[0m \u001b[0mself\u001b[0m\u001b[0;34m.\u001b[0m\u001b[0m_make_engine\u001b[0m\u001b[0;34m(\u001b[0m\u001b[0mf\u001b[0m\u001b[0;34m,\u001b[0m \u001b[0mself\u001b[0m\u001b[0;34m.\u001b[0m\u001b[0mengine\u001b[0m\u001b[0;34m)\u001b[0m\u001b[0;34m\u001b[0m\u001b[0;34m\u001b[0m\u001b[0m\n\u001b[0m\u001b[1;32m   1443\u001b[0m \u001b[0;34m\u001b[0m\u001b[0m\n\u001b[1;32m   1444\u001b[0m     \u001b[0;32mdef\u001b[0m \u001b[0mclose\u001b[0m\u001b[0;34m(\u001b[0m\u001b[0mself\u001b[0m\u001b[0;34m)\u001b[0m \u001b[0;34m->\u001b[0m \u001b[0;32mNone\u001b[0m\u001b[0;34m:\u001b[0m\u001b[0;34m\u001b[0m\u001b[0;34m\u001b[0m\u001b[0m\n",
            "\u001b[0;32m/usr/local/lib/python3.10/dist-packages/pandas/io/parsers/readers.py\u001b[0m in \u001b[0;36m_make_engine\u001b[0;34m(self, f, engine)\u001b[0m\n\u001b[1;32m   1733\u001b[0m                 \u001b[0;32mif\u001b[0m \u001b[0;34m\"b\"\u001b[0m \u001b[0;32mnot\u001b[0m \u001b[0;32min\u001b[0m \u001b[0mmode\u001b[0m\u001b[0;34m:\u001b[0m\u001b[0;34m\u001b[0m\u001b[0;34m\u001b[0m\u001b[0m\n\u001b[1;32m   1734\u001b[0m                     \u001b[0mmode\u001b[0m \u001b[0;34m+=\u001b[0m \u001b[0;34m\"b\"\u001b[0m\u001b[0;34m\u001b[0m\u001b[0;34m\u001b[0m\u001b[0m\n\u001b[0;32m-> 1735\u001b[0;31m             self.handles = get_handle(\n\u001b[0m\u001b[1;32m   1736\u001b[0m                 \u001b[0mf\u001b[0m\u001b[0;34m,\u001b[0m\u001b[0;34m\u001b[0m\u001b[0;34m\u001b[0m\u001b[0m\n\u001b[1;32m   1737\u001b[0m                 \u001b[0mmode\u001b[0m\u001b[0;34m,\u001b[0m\u001b[0;34m\u001b[0m\u001b[0;34m\u001b[0m\u001b[0m\n",
            "\u001b[0;32m/usr/local/lib/python3.10/dist-packages/pandas/io/common.py\u001b[0m in \u001b[0;36mget_handle\u001b[0;34m(path_or_buf, mode, encoding, compression, memory_map, is_text, errors, storage_options)\u001b[0m\n\u001b[1;32m    854\u001b[0m         \u001b[0;32mif\u001b[0m \u001b[0mioargs\u001b[0m\u001b[0;34m.\u001b[0m\u001b[0mencoding\u001b[0m \u001b[0;32mand\u001b[0m \u001b[0;34m\"b\"\u001b[0m \u001b[0;32mnot\u001b[0m \u001b[0;32min\u001b[0m \u001b[0mioargs\u001b[0m\u001b[0;34m.\u001b[0m\u001b[0mmode\u001b[0m\u001b[0;34m:\u001b[0m\u001b[0;34m\u001b[0m\u001b[0;34m\u001b[0m\u001b[0m\n\u001b[1;32m    855\u001b[0m             \u001b[0;31m# Encoding\u001b[0m\u001b[0;34m\u001b[0m\u001b[0;34m\u001b[0m\u001b[0m\n\u001b[0;32m--> 856\u001b[0;31m             handle = open(\n\u001b[0m\u001b[1;32m    857\u001b[0m                 \u001b[0mhandle\u001b[0m\u001b[0;34m,\u001b[0m\u001b[0;34m\u001b[0m\u001b[0;34m\u001b[0m\u001b[0m\n\u001b[1;32m    858\u001b[0m                 \u001b[0mioargs\u001b[0m\u001b[0;34m.\u001b[0m\u001b[0mmode\u001b[0m\u001b[0;34m,\u001b[0m\u001b[0;34m\u001b[0m\u001b[0;34m\u001b[0m\u001b[0m\n",
            "\u001b[0;31mFileNotFoundError\u001b[0m: [Errno 2] No such file or directory: 'input_data/file2.csv'"
          ]
        }
      ],
      "source": [
        "csv_file = \"input_data/file2.csv\"\n",
        "\n",
        "df = pd.read_csv(csv_file, delimiter=\"|\")\n",
        "print(df)"
      ]
    },
    {
      "cell_type": "markdown",
      "metadata": {
        "cell_id": "2c4f52473db24da6baa0a5129e176a59",
        "deepnote_cell_type": "text-cell-h3",
        "formattedRanges": [],
        "is_collapsed": false,
        "tags": [],
        "id": "kQCSSLicPe7U"
      },
      "source": [
        "### 8. Read a CSV file with no header column and use \"col1\", \"col2\" and \"col3\" as column names. The delimiter is \",\"."
      ]
    },
    {
      "cell_type": "code",
      "execution_count": null,
      "metadata": {
        "cell_id": "e84bf940f16945cd9d91441af3658be3",
        "deepnote_cell_height": 115,
        "deepnote_cell_type": "code",
        "tags": [],
        "id": "P-EtPMFOPe7U",
        "outputId": "9def46b4-59d5-4c7d-c010-66dff3419aee"
      },
      "outputs": [
        {
          "name": "stdout",
          "output_type": "stream",
          "text": [
            "   col1  col2  col3\n",
            "0     1     2     3\n",
            "1     4     5     6\n",
            "2     7     8     9\n"
          ]
        }
      ],
      "source": [
        "csv_file = \"input_data/file3.csv\"\n",
        "\n",
        "df = pd.read_csv(csv_file, delimiter=\"|\")\n",
        "print(df)"
      ]
    },
    {
      "cell_type": "markdown",
      "metadata": {
        "cell_id": "4842addbe893458f80df0837f055a5fa",
        "deepnote_cell_type": "text-cell-h3",
        "formattedRanges": [],
        "is_collapsed": false,
        "tags": [],
        "id": "BrFL-jkpPe7U"
      },
      "source": [
        "### 9. There are 3 columns in the file, namely \"col1\", \"col2\", and \"col3\". You have to read only \"col1\" and \"col3\"."
      ]
    },
    {
      "cell_type": "code",
      "execution_count": null,
      "metadata": {
        "cell_id": "602030d5cc4047efba6be2bb7084e468",
        "deepnote_cell_height": 115,
        "deepnote_cell_type": "code",
        "tags": [],
        "id": "g6-gASVZPe7V",
        "outputId": "f26ae8da-778e-4ad4-b825-6adb4d23be24"
      },
      "outputs": [
        {
          "name": "stdout",
          "output_type": "stream",
          "text": [
            "   col1  col3\n",
            "0     1     3\n",
            "1     4     6\n",
            "2     7     9\n"
          ]
        }
      ],
      "source": [
        "csv_file = \"input_data/file1.csv\"\n",
        "df = pd.read_csv(csv_file, usecols= [\"col1\", \"col3\"])\n",
        "print(df)"
      ]
    },
    {
      "cell_type": "markdown",
      "metadata": {
        "cell_id": "7810864401e849a2984e5287d89be7bc",
        "deepnote_cell_type": "text-cell-h3",
        "formattedRanges": [],
        "is_collapsed": false,
        "tags": [],
        "id": "940C9oE1Pe7V"
      },
      "source": [
        "### 10. There are 3 columns in the file, namely \"col1\", \"col2\", and \"col3\". You have to read only \"col1\" and \"col3\". Moreover, the delimiter is \"|\"."
      ]
    },
    {
      "cell_type": "code",
      "execution_count": null,
      "metadata": {
        "cell_id": "212e480c629b4a0e8949dc763a78b44b",
        "deepnote_cell_height": 115,
        "deepnote_cell_type": "code",
        "tags": [],
        "id": "sRHk1bqbPe7V",
        "outputId": "7783c150-3f21-4f4b-b912-91e36e402e8d"
      },
      "outputs": [
        {
          "name": "stdout",
          "output_type": "stream",
          "text": [
            "   col1  col3\n",
            "0     1     3\n",
            "1     4     6\n",
            "2     7     9\n"
          ]
        }
      ],
      "source": [
        "csv_file = \"input_data/file2.csv\"\n",
        "\n",
        "df =\n",
        "print(df)"
      ]
    },
    {
      "cell_type": "markdown",
      "metadata": {
        "cell_id": "1311297a04c94a60b908f99e5f355fa4",
        "deepnote_cell_type": "text-cell-h3",
        "formattedRanges": [],
        "is_collapsed": false,
        "tags": [],
        "id": "QEYVqQlvPe7V"
      },
      "source": [
        "### 11. The file \"file4.csv\" has junk characters in the first two lines. You have to read the CSV file from the 3rd line."
      ]
    },
    {
      "cell_type": "code",
      "execution_count": null,
      "metadata": {
        "cell_id": "99001d5c13b944c0a9c833b621cd995c",
        "deepnote_cell_height": 115,
        "deepnote_cell_type": "code",
        "tags": [],
        "id": "_rMsJnt_Pe7W",
        "outputId": "ceea9481-e231-4e5a-896b-8b95825b2648"
      },
      "outputs": [
        {
          "name": "stdout",
          "output_type": "stream",
          "text": [
            "   col1  col2  col3\n",
            "0     1     2     3\n",
            "1     4     5     6\n",
            "2     7     8     9\n"
          ]
        }
      ],
      "source": [
        "csv_file = \"input_data/file4.csv\"\n",
        "\n",
        "df =\n",
        "print(df)"
      ]
    },
    {
      "cell_type": "markdown",
      "metadata": {
        "cell_id": "e1b751a1ad2c4a08b4434020f09a6dc9",
        "deepnote_cell_type": "text-cell-h3",
        "formattedRanges": [],
        "is_collapsed": false,
        "tags": [],
        "id": "l1gAeKEWPe7W"
      },
      "source": [
        "### 12. There are 3 columns in the file, namely \"col1\", \"col2\", and \"col3\". While reading the CSV file, specify the data type of \"col1\" as 'int32'."
      ]
    },
    {
      "cell_type": "code",
      "execution_count": null,
      "metadata": {
        "cell_id": "3193f911f1194a71a3de98cdbcf1fe8b",
        "deepnote_cell_height": 115,
        "deepnote_cell_type": "code",
        "tags": [],
        "id": "8TO1Mc9IPe7W",
        "outputId": "e718622c-e16e-4a3b-b0ae-adbf2042306c"
      },
      "outputs": [
        {
          "name": "stdout",
          "output_type": "stream",
          "text": [
            "   col1  col2  col3\n",
            "0     1     2     3\n",
            "1     4     5     6\n",
            "2     7     8     9\n"
          ]
        }
      ],
      "source": [
        "csv_file = \"input_data/file1.csv\"\n",
        "\n",
        "df =\n",
        "print(df)"
      ]
    },
    {
      "cell_type": "markdown",
      "metadata": {
        "cell_id": "1056a6c67708428cac87081b592c3acf",
        "deepnote_cell_type": "text-cell-h3",
        "formattedRanges": [],
        "is_collapsed": false,
        "tags": [],
        "id": "z3ENfAv8Pe7W"
      },
      "source": [
        "### 13. The first column in the CSV file holds index values of the dataframe. Read it so that the first column goes as the index column of the dataframe."
      ]
    },
    {
      "cell_type": "code",
      "execution_count": null,
      "metadata": {
        "cell_id": "6b910dc50ef14e558183ece164dd34e7",
        "deepnote_cell_type": "code",
        "deepnote_to_be_reexecuted": false,
        "execution_millis": 14,
        "execution_start": 1659897460042,
        "source_hash": "6f4f6738",
        "tags": [],
        "id": "CY2m5g6gPe7X",
        "outputId": "4096a6c2-940d-4cce-f17e-0730e77daead"
      },
      "outputs": [
        {
          "name": "stdout",
          "output_type": "stream",
          "text": [
            "   col1  col2  col3\n",
            "0     1     2     3\n",
            "1     4     5     6\n",
            "2     7     8     9\n"
          ]
        }
      ],
      "source": [
        "csv_file = \"input_data/file5.csv\"\n",
        "\n",
        "df =\n",
        "print(df)"
      ]
    },
    {
      "cell_type": "markdown",
      "metadata": {
        "cell_id": "749a612e37d5450fa50cbbb1069605fa",
        "deepnote_cell_type": "text-cell-h3",
        "formattedRanges": [],
        "is_collapsed": false,
        "tags": [],
        "id": "P6NA0Iu9Pe7X"
      },
      "source": [
        "### 14. There are 9 data rows in the CSV file. Read only the first 4 of them."
      ]
    },
    {
      "cell_type": "markdown",
      "metadata": {
        "cell_id": "ed48b92ae82e461190405bad227fd38e",
        "deepnote_cell_type": "text-cell-p",
        "formattedRanges": [
          {
            "fromCodePoint": 0,
            "marks": {
              "bold": true
            },
            "toCodePoint": 100
          }
        ],
        "is_collapsed": false,
        "tags": [],
        "id": "JJ0Oo_KuPe7X"
      },
      "source": [
        "Note: You should NOT read the whole CSV file and use the head() method to select the first 4 rows. 🚫"
      ]
    },
    {
      "cell_type": "code",
      "execution_count": null,
      "metadata": {
        "cell_id": "31944423ea9f473eb632efa25beb1e3a",
        "deepnote_cell_height": 115,
        "deepnote_cell_type": "code",
        "tags": [],
        "id": "xj8-6FE-Pe7Y",
        "outputId": "935720a5-803b-497c-8a9e-72cdc3e6a28c"
      },
      "outputs": [
        {
          "name": "stdout",
          "output_type": "stream",
          "text": [
            "   col1  col2  col3\n",
            "0     1     2     3\n",
            "1     4     5     6\n",
            "2     7     8     9\n",
            "3     1     2     3\n"
          ]
        }
      ],
      "source": [
        "csv_file = \"input_data/file6.csv\"\n",
        "\n",
        "df =\n",
        "print(df)"
      ]
    },
    {
      "cell_type": "markdown",
      "metadata": {
        "cell_id": "b868eef4ed9745ddb43d318872c2b544",
        "deepnote_cell_type": "text-cell-h2",
        "formattedRanges": [],
        "is_collapsed": false,
        "tags": [],
        "id": "Ia9jtNaIPe7Y"
      },
      "source": [
        "## Output Operations to CSV in Pandas"
      ]
    },
    {
      "cell_type": "markdown",
      "metadata": {
        "cell_id": "4b17329401414c36856ca40b2b8dcbdc",
        "deepnote_cell_type": "text-cell-h3",
        "formattedRanges": [],
        "is_collapsed": false,
        "tags": [],
        "id": "UXuPWB7RPe7Y"
      },
      "source": [
        "### 16. Given the dataframe \"df\", store it to a CSV File (with the index values)."
      ]
    },
    {
      "cell_type": "code",
      "execution_count": null,
      "metadata": {
        "cell_id": "b20aa89229a7415faacffa8aa7005698",
        "deepnote_cell_type": "code",
        "deepnote_to_be_reexecuted": false,
        "execution_millis": 1,
        "execution_start": 1659898703469,
        "source_hash": "a0acabfa",
        "tags": [],
        "id": "7w7NW4jwPe7Y"
      },
      "outputs": [],
      "source": [
        "df = pd.DataFrame([[1,2,3], [4,5,6]],\n",
        "                  columns = [\"col1\", \"col2\", \"col3\"])\n",
        "\n",
        "csv_file = \"output_data/file1.csv\"\n",
        "\n",
        "## Start your code here\n",
        "\n",
        "\n",
        "\n",
        "## End your code here"
      ]
    },
    {
      "cell_type": "markdown",
      "metadata": {
        "cell_id": "87c763b753ee4fbfa191b663c4830fc8",
        "deepnote_cell_type": "text-cell-h3",
        "formattedRanges": [],
        "is_collapsed": false,
        "tags": [],
        "id": "-yyF5XxzPe7Z"
      },
      "source": [
        "### 17. Given the dataframe \"df\", store it to a CSV File without the index column this time."
      ]
    },
    {
      "cell_type": "code",
      "execution_count": null,
      "metadata": {
        "cell_id": "55d0e76c18d4462aa24a9f76a4560f48",
        "deepnote_cell_height": 241,
        "deepnote_cell_type": "code",
        "tags": [],
        "id": "qx2FkS6XPe7Z"
      },
      "outputs": [],
      "source": [
        "df = pd.DataFrame([[1,2,3], [4,5,6]],\n",
        "                  columns = [\"col1\", \"col2\", \"col3\"])\n",
        "\n",
        "csv_file = \"output_data/file2.csv\"\n",
        "\n",
        "## Start your code here\n",
        "\n",
        "\n",
        "## End your code here\n"
      ]
    },
    {
      "cell_type": "markdown",
      "metadata": {
        "cell_id": "6b27e6de89e44613a9a0b497fd8a96a0",
        "deepnote_cell_type": "text-cell-h3",
        "formattedRanges": [],
        "is_collapsed": false,
        "tags": [],
        "id": "I1u3GsTGPe7Z"
      },
      "source": [
        "### 20. Given a dataframe \"df\" with three columns -- \"col1\", \"col2\" and \"col3\". Store the DataFrame to a CSV file without the column row ( and without the index values)."
      ]
    },
    {
      "cell_type": "code",
      "execution_count": null,
      "metadata": {
        "cell_id": "52df84f7732a4015a50c32a98328d324",
        "deepnote_cell_height": 241,
        "deepnote_cell_type": "code",
        "tags": [],
        "id": "vqsWycSQPe7a"
      },
      "outputs": [],
      "source": [
        "df = pd.DataFrame([[1,2,3], [4,5,6]],\n",
        "                  columns = [\"col1\", \"col2\", \"col3\"])\n",
        "\n",
        "csv_file = \"output_data/file5.csv\"\n",
        "\n",
        "\n",
        "## Start your code here\n",
        "\n",
        "\n",
        "\n",
        "## End your code here"
      ]
    },
    {
      "cell_type": "markdown",
      "metadata": {
        "id": "d8MPhhTyPe7a"
      },
      "source": [
        "# Pandas Notebook 2"
      ]
    },
    {
      "cell_type": "markdown",
      "metadata": {
        "id": "vRFI2tUFPe7a"
      },
      "source": [
        "### 31. Read the CSV file."
      ]
    },
    {
      "cell_type": "code",
      "execution_count": 30,
      "metadata": {
        "id": "PJY-gpfTPe7a"
      },
      "outputs": [],
      "source": [
        "import pandas as pd"
      ]
    },
    {
      "cell_type": "code",
      "execution_count": 46,
      "metadata": {
        "id": "RuZ1cwTZPe7b",
        "outputId": "58fe0bc7-b16a-43fd-e6f0-44b319940960",
        "colab": {
          "base_uri": "https://localhost:8080/",
          "height": 406
        }
      },
      "outputs": [
        {
          "output_type": "error",
          "ename": "FileNotFoundError",
          "evalue": "[Errno 2] No such file or directory: 'input_data/employee_dataset.csv'",
          "traceback": [
            "\u001b[0;31m---------------------------------------------------------------------------\u001b[0m",
            "\u001b[0;31mFileNotFoundError\u001b[0m                         Traceback (most recent call last)",
            "\u001b[0;32m<ipython-input-46-e02b77f0cd56>\u001b[0m in \u001b[0;36m<cell line: 3>\u001b[0;34m()\u001b[0m\n\u001b[1;32m      1\u001b[0m \u001b[0mfile_name\u001b[0m \u001b[0;34m=\u001b[0m \u001b[0;34m\"employee_dataset.csv\"\u001b[0m\u001b[0;34m\u001b[0m\u001b[0;34m\u001b[0m\u001b[0m\n\u001b[1;32m      2\u001b[0m \u001b[0;34m\u001b[0m\u001b[0m\n\u001b[0;32m----> 3\u001b[0;31m \u001b[0mdf\u001b[0m \u001b[0;34m=\u001b[0m \u001b[0mpd\u001b[0m\u001b[0;34m.\u001b[0m\u001b[0mread_csv\u001b[0m\u001b[0;34m(\u001b[0m\u001b[0;34m'input_data/'\u001b[0m \u001b[0;34m+\u001b[0m \u001b[0mfile_name\u001b[0m\u001b[0;34m)\u001b[0m\u001b[0;34m\u001b[0m\u001b[0;34m\u001b[0m\u001b[0m\n\u001b[0m\u001b[1;32m      4\u001b[0m \u001b[0;34m\u001b[0m\u001b[0m\n\u001b[1;32m      5\u001b[0m \u001b[0mdf\u001b[0m \u001b[0;34m=\u001b[0m \u001b[0mpd\u001b[0m\u001b[0;34m.\u001b[0m\u001b[0mread_csv\u001b[0m\u001b[0;34m(\u001b[0m\u001b[0mfile_path\u001b[0m\u001b[0;34m)\u001b[0m\u001b[0;34m\u001b[0m\u001b[0;34m\u001b[0m\u001b[0m\n",
            "\u001b[0;32m/usr/local/lib/python3.10/dist-packages/pandas/util/_decorators.py\u001b[0m in \u001b[0;36mwrapper\u001b[0;34m(*args, **kwargs)\u001b[0m\n\u001b[1;32m    209\u001b[0m                 \u001b[0;32melse\u001b[0m\u001b[0;34m:\u001b[0m\u001b[0;34m\u001b[0m\u001b[0;34m\u001b[0m\u001b[0m\n\u001b[1;32m    210\u001b[0m                     \u001b[0mkwargs\u001b[0m\u001b[0;34m[\u001b[0m\u001b[0mnew_arg_name\u001b[0m\u001b[0;34m]\u001b[0m \u001b[0;34m=\u001b[0m \u001b[0mnew_arg_value\u001b[0m\u001b[0;34m\u001b[0m\u001b[0;34m\u001b[0m\u001b[0m\n\u001b[0;32m--> 211\u001b[0;31m             \u001b[0;32mreturn\u001b[0m \u001b[0mfunc\u001b[0m\u001b[0;34m(\u001b[0m\u001b[0;34m*\u001b[0m\u001b[0margs\u001b[0m\u001b[0;34m,\u001b[0m \u001b[0;34m**\u001b[0m\u001b[0mkwargs\u001b[0m\u001b[0;34m)\u001b[0m\u001b[0;34m\u001b[0m\u001b[0;34m\u001b[0m\u001b[0m\n\u001b[0m\u001b[1;32m    212\u001b[0m \u001b[0;34m\u001b[0m\u001b[0m\n\u001b[1;32m    213\u001b[0m         \u001b[0;32mreturn\u001b[0m \u001b[0mcast\u001b[0m\u001b[0;34m(\u001b[0m\u001b[0mF\u001b[0m\u001b[0;34m,\u001b[0m \u001b[0mwrapper\u001b[0m\u001b[0;34m)\u001b[0m\u001b[0;34m\u001b[0m\u001b[0;34m\u001b[0m\u001b[0m\n",
            "\u001b[0;32m/usr/local/lib/python3.10/dist-packages/pandas/util/_decorators.py\u001b[0m in \u001b[0;36mwrapper\u001b[0;34m(*args, **kwargs)\u001b[0m\n\u001b[1;32m    329\u001b[0m                     \u001b[0mstacklevel\u001b[0m\u001b[0;34m=\u001b[0m\u001b[0mfind_stack_level\u001b[0m\u001b[0;34m(\u001b[0m\u001b[0;34m)\u001b[0m\u001b[0;34m,\u001b[0m\u001b[0;34m\u001b[0m\u001b[0;34m\u001b[0m\u001b[0m\n\u001b[1;32m    330\u001b[0m                 )\n\u001b[0;32m--> 331\u001b[0;31m             \u001b[0;32mreturn\u001b[0m \u001b[0mfunc\u001b[0m\u001b[0;34m(\u001b[0m\u001b[0;34m*\u001b[0m\u001b[0margs\u001b[0m\u001b[0;34m,\u001b[0m \u001b[0;34m**\u001b[0m\u001b[0mkwargs\u001b[0m\u001b[0;34m)\u001b[0m\u001b[0;34m\u001b[0m\u001b[0;34m\u001b[0m\u001b[0m\n\u001b[0m\u001b[1;32m    332\u001b[0m \u001b[0;34m\u001b[0m\u001b[0m\n\u001b[1;32m    333\u001b[0m         \u001b[0;31m# error: \"Callable[[VarArg(Any), KwArg(Any)], Any]\" has no\u001b[0m\u001b[0;34m\u001b[0m\u001b[0;34m\u001b[0m\u001b[0m\n",
            "\u001b[0;32m/usr/local/lib/python3.10/dist-packages/pandas/io/parsers/readers.py\u001b[0m in \u001b[0;36mread_csv\u001b[0;34m(filepath_or_buffer, sep, delimiter, header, names, index_col, usecols, squeeze, prefix, mangle_dupe_cols, dtype, engine, converters, true_values, false_values, skipinitialspace, skiprows, skipfooter, nrows, na_values, keep_default_na, na_filter, verbose, skip_blank_lines, parse_dates, infer_datetime_format, keep_date_col, date_parser, dayfirst, cache_dates, iterator, chunksize, compression, thousands, decimal, lineterminator, quotechar, quoting, doublequote, escapechar, comment, encoding, encoding_errors, dialect, error_bad_lines, warn_bad_lines, on_bad_lines, delim_whitespace, low_memory, memory_map, float_precision, storage_options)\u001b[0m\n\u001b[1;32m    948\u001b[0m     \u001b[0mkwds\u001b[0m\u001b[0;34m.\u001b[0m\u001b[0mupdate\u001b[0m\u001b[0;34m(\u001b[0m\u001b[0mkwds_defaults\u001b[0m\u001b[0;34m)\u001b[0m\u001b[0;34m\u001b[0m\u001b[0;34m\u001b[0m\u001b[0m\n\u001b[1;32m    949\u001b[0m \u001b[0;34m\u001b[0m\u001b[0m\n\u001b[0;32m--> 950\u001b[0;31m     \u001b[0;32mreturn\u001b[0m \u001b[0m_read\u001b[0m\u001b[0;34m(\u001b[0m\u001b[0mfilepath_or_buffer\u001b[0m\u001b[0;34m,\u001b[0m \u001b[0mkwds\u001b[0m\u001b[0;34m)\u001b[0m\u001b[0;34m\u001b[0m\u001b[0;34m\u001b[0m\u001b[0m\n\u001b[0m\u001b[1;32m    951\u001b[0m \u001b[0;34m\u001b[0m\u001b[0m\n\u001b[1;32m    952\u001b[0m \u001b[0;34m\u001b[0m\u001b[0m\n",
            "\u001b[0;32m/usr/local/lib/python3.10/dist-packages/pandas/io/parsers/readers.py\u001b[0m in \u001b[0;36m_read\u001b[0;34m(filepath_or_buffer, kwds)\u001b[0m\n\u001b[1;32m    603\u001b[0m \u001b[0;34m\u001b[0m\u001b[0m\n\u001b[1;32m    604\u001b[0m     \u001b[0;31m# Create the parser.\u001b[0m\u001b[0;34m\u001b[0m\u001b[0;34m\u001b[0m\u001b[0m\n\u001b[0;32m--> 605\u001b[0;31m     \u001b[0mparser\u001b[0m \u001b[0;34m=\u001b[0m \u001b[0mTextFileReader\u001b[0m\u001b[0;34m(\u001b[0m\u001b[0mfilepath_or_buffer\u001b[0m\u001b[0;34m,\u001b[0m \u001b[0;34m**\u001b[0m\u001b[0mkwds\u001b[0m\u001b[0;34m)\u001b[0m\u001b[0;34m\u001b[0m\u001b[0;34m\u001b[0m\u001b[0m\n\u001b[0m\u001b[1;32m    606\u001b[0m \u001b[0;34m\u001b[0m\u001b[0m\n\u001b[1;32m    607\u001b[0m     \u001b[0;32mif\u001b[0m \u001b[0mchunksize\u001b[0m \u001b[0;32mor\u001b[0m \u001b[0miterator\u001b[0m\u001b[0;34m:\u001b[0m\u001b[0;34m\u001b[0m\u001b[0;34m\u001b[0m\u001b[0m\n",
            "\u001b[0;32m/usr/local/lib/python3.10/dist-packages/pandas/io/parsers/readers.py\u001b[0m in \u001b[0;36m__init__\u001b[0;34m(self, f, engine, **kwds)\u001b[0m\n\u001b[1;32m   1440\u001b[0m \u001b[0;34m\u001b[0m\u001b[0m\n\u001b[1;32m   1441\u001b[0m         \u001b[0mself\u001b[0m\u001b[0;34m.\u001b[0m\u001b[0mhandles\u001b[0m\u001b[0;34m:\u001b[0m \u001b[0mIOHandles\u001b[0m \u001b[0;34m|\u001b[0m \u001b[0;32mNone\u001b[0m \u001b[0;34m=\u001b[0m \u001b[0;32mNone\u001b[0m\u001b[0;34m\u001b[0m\u001b[0;34m\u001b[0m\u001b[0m\n\u001b[0;32m-> 1442\u001b[0;31m         \u001b[0mself\u001b[0m\u001b[0;34m.\u001b[0m\u001b[0m_engine\u001b[0m \u001b[0;34m=\u001b[0m \u001b[0mself\u001b[0m\u001b[0;34m.\u001b[0m\u001b[0m_make_engine\u001b[0m\u001b[0;34m(\u001b[0m\u001b[0mf\u001b[0m\u001b[0;34m,\u001b[0m \u001b[0mself\u001b[0m\u001b[0;34m.\u001b[0m\u001b[0mengine\u001b[0m\u001b[0;34m)\u001b[0m\u001b[0;34m\u001b[0m\u001b[0;34m\u001b[0m\u001b[0m\n\u001b[0m\u001b[1;32m   1443\u001b[0m \u001b[0;34m\u001b[0m\u001b[0m\n\u001b[1;32m   1444\u001b[0m     \u001b[0;32mdef\u001b[0m \u001b[0mclose\u001b[0m\u001b[0;34m(\u001b[0m\u001b[0mself\u001b[0m\u001b[0;34m)\u001b[0m \u001b[0;34m->\u001b[0m \u001b[0;32mNone\u001b[0m\u001b[0;34m:\u001b[0m\u001b[0;34m\u001b[0m\u001b[0;34m\u001b[0m\u001b[0m\n",
            "\u001b[0;32m/usr/local/lib/python3.10/dist-packages/pandas/io/parsers/readers.py\u001b[0m in \u001b[0;36m_make_engine\u001b[0;34m(self, f, engine)\u001b[0m\n\u001b[1;32m   1733\u001b[0m                 \u001b[0;32mif\u001b[0m \u001b[0;34m\"b\"\u001b[0m \u001b[0;32mnot\u001b[0m \u001b[0;32min\u001b[0m \u001b[0mmode\u001b[0m\u001b[0;34m:\u001b[0m\u001b[0;34m\u001b[0m\u001b[0;34m\u001b[0m\u001b[0m\n\u001b[1;32m   1734\u001b[0m                     \u001b[0mmode\u001b[0m \u001b[0;34m+=\u001b[0m \u001b[0;34m\"b\"\u001b[0m\u001b[0;34m\u001b[0m\u001b[0;34m\u001b[0m\u001b[0m\n\u001b[0;32m-> 1735\u001b[0;31m             self.handles = get_handle(\n\u001b[0m\u001b[1;32m   1736\u001b[0m                 \u001b[0mf\u001b[0m\u001b[0;34m,\u001b[0m\u001b[0;34m\u001b[0m\u001b[0;34m\u001b[0m\u001b[0m\n\u001b[1;32m   1737\u001b[0m                 \u001b[0mmode\u001b[0m\u001b[0;34m,\u001b[0m\u001b[0;34m\u001b[0m\u001b[0;34m\u001b[0m\u001b[0m\n",
            "\u001b[0;32m/usr/local/lib/python3.10/dist-packages/pandas/io/common.py\u001b[0m in \u001b[0;36mget_handle\u001b[0;34m(path_or_buf, mode, encoding, compression, memory_map, is_text, errors, storage_options)\u001b[0m\n\u001b[1;32m    854\u001b[0m         \u001b[0;32mif\u001b[0m \u001b[0mioargs\u001b[0m\u001b[0;34m.\u001b[0m\u001b[0mencoding\u001b[0m \u001b[0;32mand\u001b[0m \u001b[0;34m\"b\"\u001b[0m \u001b[0;32mnot\u001b[0m \u001b[0;32min\u001b[0m \u001b[0mioargs\u001b[0m\u001b[0;34m.\u001b[0m\u001b[0mmode\u001b[0m\u001b[0;34m:\u001b[0m\u001b[0;34m\u001b[0m\u001b[0;34m\u001b[0m\u001b[0m\n\u001b[1;32m    855\u001b[0m             \u001b[0;31m# Encoding\u001b[0m\u001b[0;34m\u001b[0m\u001b[0;34m\u001b[0m\u001b[0m\n\u001b[0;32m--> 856\u001b[0;31m             handle = open(\n\u001b[0m\u001b[1;32m    857\u001b[0m                 \u001b[0mhandle\u001b[0m\u001b[0;34m,\u001b[0m\u001b[0;34m\u001b[0m\u001b[0;34m\u001b[0m\u001b[0m\n\u001b[1;32m    858\u001b[0m                 \u001b[0mioargs\u001b[0m\u001b[0;34m.\u001b[0m\u001b[0mmode\u001b[0m\u001b[0;34m,\u001b[0m\u001b[0;34m\u001b[0m\u001b[0;34m\u001b[0m\u001b[0m\n",
            "\u001b[0;31mFileNotFoundError\u001b[0m: [Errno 2] No such file or directory: 'input_data/employee_dataset.csv'"
          ]
        }
      ],
      "source": [
        "file_name = \"employee_dataset.csv\"\n",
        "\n",
        "df = pd.read_csv('input_data/' + file_name)\n",
        "\n",
        "df = pd.read_csv(file_path)\n"
      ]
    },
    {
      "cell_type": "markdown",
      "metadata": {
        "id": "M98JN2YiPe7b"
      },
      "source": [
        "### 32. Print the first 5 rows."
      ]
    },
    {
      "cell_type": "code",
      "execution_count": null,
      "metadata": {
        "id": "O2PCwb1uPe7b",
        "outputId": "e2f8be26-1603-4c69-95cb-a44a5f7bbaa4"
      },
      "outputs": [
        {
          "data": {
            "text/html": [
              "<div>\n",
              "<style scoped>\n",
              "    .dataframe tbody tr th:only-of-type {\n",
              "        vertical-align: middle;\n",
              "    }\n",
              "\n",
              "    .dataframe tbody tr th {\n",
              "        vertical-align: top;\n",
              "    }\n",
              "\n",
              "    .dataframe thead th {\n",
              "        text-align: right;\n",
              "    }\n",
              "</style>\n",
              "<table border=\"1\" class=\"dataframe\">\n",
              "  <thead>\n",
              "    <tr style=\"text-align: right;\">\n",
              "      <th></th>\n",
              "      <th>Name</th>\n",
              "      <th>Company_Name</th>\n",
              "      <th>Employee_Job_Title</th>\n",
              "      <th>Employee_City</th>\n",
              "      <th>Employee_Country</th>\n",
              "      <th>Employee_Salary</th>\n",
              "      <th>Employment_Status</th>\n",
              "      <th>Employee_Rating</th>\n",
              "    </tr>\n",
              "  </thead>\n",
              "  <tbody>\n",
              "    <tr>\n",
              "      <th>0</th>\n",
              "      <td>Spencer Adkins</td>\n",
              "      <td>James and Sons</td>\n",
              "      <td>Equities trader</td>\n",
              "      <td>New Russellton</td>\n",
              "      <td>Palestinian Territory</td>\n",
              "      <td>321520</td>\n",
              "      <td>Full Time</td>\n",
              "      <td>3.9</td>\n",
              "    </tr>\n",
              "    <tr>\n",
              "      <th>1</th>\n",
              "      <td>Julie Morton</td>\n",
              "      <td>Nichols-James</td>\n",
              "      <td>Diplomatic Services operational officer</td>\n",
              "      <td>North Melissafurt</td>\n",
              "      <td>Marshall Islands</td>\n",
              "      <td>589090</td>\n",
              "      <td>Full Time</td>\n",
              "      <td>4.3</td>\n",
              "    </tr>\n",
              "    <tr>\n",
              "      <th>2</th>\n",
              "      <td>Matthew Hall</td>\n",
              "      <td>Scott Inc</td>\n",
              "      <td>Regulatory affairs officer</td>\n",
              "      <td>Wardfort</td>\n",
              "      <td>Anguilla</td>\n",
              "      <td>630890</td>\n",
              "      <td>Full Time</td>\n",
              "      <td>3.1</td>\n",
              "    </tr>\n",
              "    <tr>\n",
              "      <th>3</th>\n",
              "      <td>Brad Scott</td>\n",
              "      <td>Johnston, Fleming and Tanner</td>\n",
              "      <td>Production engineer</td>\n",
              "      <td>West Jamesview</td>\n",
              "      <td>Syrian Arab Republic</td>\n",
              "      <td>116400</td>\n",
              "      <td>Full Time</td>\n",
              "      <td>3.1</td>\n",
              "    </tr>\n",
              "    <tr>\n",
              "      <th>4</th>\n",
              "      <td>Theresa Owens</td>\n",
              "      <td>Baker, Allen and Edwards</td>\n",
              "      <td>Production engineer</td>\n",
              "      <td>Whiteside</td>\n",
              "      <td>Dominica</td>\n",
              "      <td>523499</td>\n",
              "      <td>Full Time</td>\n",
              "      <td>4.8</td>\n",
              "    </tr>\n",
              "  </tbody>\n",
              "</table>\n",
              "</div>"
            ],
            "text/plain": [
              "             Name                  Company_Name  \\\n",
              "0  Spencer Adkins                James and Sons   \n",
              "1    Julie Morton                 Nichols-James   \n",
              "2    Matthew Hall                     Scott Inc   \n",
              "3      Brad Scott  Johnston, Fleming and Tanner   \n",
              "4   Theresa Owens      Baker, Allen and Edwards   \n",
              "\n",
              "                        Employee_Job_Title      Employee_City  \\\n",
              "0                          Equities trader     New Russellton   \n",
              "1  Diplomatic Services operational officer  North Melissafurt   \n",
              "2               Regulatory affairs officer           Wardfort   \n",
              "3                      Production engineer     West Jamesview   \n",
              "4                      Production engineer          Whiteside   \n",
              "\n",
              "        Employee_Country  Employee_Salary Employment_Status  Employee_Rating  \n",
              "0  Palestinian Territory           321520         Full Time              3.9  \n",
              "1       Marshall Islands           589090         Full Time              4.3  \n",
              "2               Anguilla           630890         Full Time              3.1  \n",
              "3   Syrian Arab Republic           116400         Full Time              3.1  \n",
              "4               Dominica           523499         Full Time              4.8  "
            ]
          },
          "metadata": {},
          "output_type": "display_data"
        }
      ],
      "source": [
        "first_5_rows = df.head()\n",
        "print(first_5_rows)"
      ]
    },
    {
      "cell_type": "markdown",
      "metadata": {
        "id": "NQcqyqLJPe7c"
      },
      "source": [
        "### 33. Print the last 10 rows."
      ]
    },
    {
      "cell_type": "code",
      "execution_count": null,
      "metadata": {
        "id": "GKJy1iypPe7c",
        "outputId": "c83118ac-5da3-40e6-a298-b22c89341ff4"
      },
      "outputs": [
        {
          "data": {
            "text/html": [
              "<div>\n",
              "<style scoped>\n",
              "    .dataframe tbody tr th:only-of-type {\n",
              "        vertical-align: middle;\n",
              "    }\n",
              "\n",
              "    .dataframe tbody tr th {\n",
              "        vertical-align: top;\n",
              "    }\n",
              "\n",
              "    .dataframe thead th {\n",
              "        text-align: right;\n",
              "    }\n",
              "</style>\n",
              "<table border=\"1\" class=\"dataframe\">\n",
              "  <thead>\n",
              "    <tr style=\"text-align: right;\">\n",
              "      <th></th>\n",
              "      <th>Name</th>\n",
              "      <th>Company_Name</th>\n",
              "      <th>Employee_Job_Title</th>\n",
              "      <th>Employee_City</th>\n",
              "      <th>Employee_Country</th>\n",
              "      <th>Employee_Salary</th>\n",
              "      <th>Employment_Status</th>\n",
              "      <th>Employee_Rating</th>\n",
              "    </tr>\n",
              "  </thead>\n",
              "  <tbody>\n",
              "    <tr>\n",
              "      <th>299990</th>\n",
              "      <td>Monica Bender</td>\n",
              "      <td>Wallace, Smith and Shepard</td>\n",
              "      <td>Production engineer</td>\n",
              "      <td>New Cindychester</td>\n",
              "      <td>Bangladesh</td>\n",
              "      <td>852660</td>\n",
              "      <td>Full Time</td>\n",
              "      <td>3.0</td>\n",
              "    </tr>\n",
              "    <tr>\n",
              "      <th>299991</th>\n",
              "      <td>William Rodriguez</td>\n",
              "      <td>Scott Inc</td>\n",
              "      <td>Ergonomist</td>\n",
              "      <td>Whiteside</td>\n",
              "      <td>New Zealand</td>\n",
              "      <td>214400</td>\n",
              "      <td>Full Time</td>\n",
              "      <td>1.5</td>\n",
              "    </tr>\n",
              "    <tr>\n",
              "      <th>299992</th>\n",
              "      <td>Steven Thornton</td>\n",
              "      <td>Baker, Allen and Edwards</td>\n",
              "      <td>Patent examiner</td>\n",
              "      <td>Aliciafort</td>\n",
              "      <td>Benin</td>\n",
              "      <td>60240</td>\n",
              "      <td>Full Time</td>\n",
              "      <td>4.3</td>\n",
              "    </tr>\n",
              "    <tr>\n",
              "      <th>299993</th>\n",
              "      <td>Terry Hill</td>\n",
              "      <td>White, Mcclain and Cobb</td>\n",
              "      <td>Investment banker, corporate</td>\n",
              "      <td>New Cindychester</td>\n",
              "      <td>Sweden</td>\n",
              "      <td>414720</td>\n",
              "      <td>Intern</td>\n",
              "      <td>2.3</td>\n",
              "    </tr>\n",
              "    <tr>\n",
              "      <th>299994</th>\n",
              "      <td>Kelly Bennett</td>\n",
              "      <td>White, Mcclain and Cobb</td>\n",
              "      <td>Radiographer, therapeutic</td>\n",
              "      <td>Wardfort</td>\n",
              "      <td>Fiji</td>\n",
              "      <td>182270</td>\n",
              "      <td>Full Time</td>\n",
              "      <td>3.6</td>\n",
              "    </tr>\n",
              "    <tr>\n",
              "      <th>299995</th>\n",
              "      <td>Nancy Neal</td>\n",
              "      <td>Bullock-Carrillo</td>\n",
              "      <td>Optometrist</td>\n",
              "      <td>North Melissafurt</td>\n",
              "      <td>Samoa</td>\n",
              "      <td>99670</td>\n",
              "      <td>Intern</td>\n",
              "      <td>3.3</td>\n",
              "    </tr>\n",
              "    <tr>\n",
              "      <th>299996</th>\n",
              "      <td>Michele Butler</td>\n",
              "      <td>Johnston, Fleming and Tanner</td>\n",
              "      <td>Administrator</td>\n",
              "      <td>Aliciafort</td>\n",
              "      <td>Cuba</td>\n",
              "      <td>949580</td>\n",
              "      <td>Intern</td>\n",
              "      <td>2.6</td>\n",
              "    </tr>\n",
              "    <tr>\n",
              "      <th>299997</th>\n",
              "      <td>Lynn Wilson</td>\n",
              "      <td>Nichols-James</td>\n",
              "      <td>Administrator</td>\n",
              "      <td>New Cindychester</td>\n",
              "      <td>Bolivia</td>\n",
              "      <td>802830</td>\n",
              "      <td>Full Time</td>\n",
              "      <td>0.6</td>\n",
              "    </tr>\n",
              "    <tr>\n",
              "      <th>299998</th>\n",
              "      <td>Lindsey Keith</td>\n",
              "      <td>Nichols-James</td>\n",
              "      <td>Make</td>\n",
              "      <td>Whitakerbury</td>\n",
              "      <td>Western Sahara</td>\n",
              "      <td>257240</td>\n",
              "      <td>Full Time</td>\n",
              "      <td>2.4</td>\n",
              "    </tr>\n",
              "    <tr>\n",
              "      <th>299999</th>\n",
              "      <td>Karen Delgado</td>\n",
              "      <td>James and Sons</td>\n",
              "      <td>Actuary</td>\n",
              "      <td>New Russellton</td>\n",
              "      <td>United Kingdom</td>\n",
              "      <td>575770</td>\n",
              "      <td>Intern</td>\n",
              "      <td>3.3</td>\n",
              "    </tr>\n",
              "  </tbody>\n",
              "</table>\n",
              "</div>"
            ],
            "text/plain": [
              "                     Name                  Company_Name  \\\n",
              "299990      Monica Bender    Wallace, Smith and Shepard   \n",
              "299991  William Rodriguez                     Scott Inc   \n",
              "299992    Steven Thornton      Baker, Allen and Edwards   \n",
              "299993         Terry Hill       White, Mcclain and Cobb   \n",
              "299994      Kelly Bennett       White, Mcclain and Cobb   \n",
              "299995         Nancy Neal              Bullock-Carrillo   \n",
              "299996     Michele Butler  Johnston, Fleming and Tanner   \n",
              "299997        Lynn Wilson                 Nichols-James   \n",
              "299998      Lindsey Keith                 Nichols-James   \n",
              "299999      Karen Delgado                James and Sons   \n",
              "\n",
              "                  Employee_Job_Title      Employee_City Employee_Country  \\\n",
              "299990           Production engineer   New Cindychester       Bangladesh   \n",
              "299991                    Ergonomist          Whiteside      New Zealand   \n",
              "299992               Patent examiner         Aliciafort            Benin   \n",
              "299993  Investment banker, corporate   New Cindychester           Sweden   \n",
              "299994     Radiographer, therapeutic           Wardfort             Fiji   \n",
              "299995                   Optometrist  North Melissafurt            Samoa   \n",
              "299996                 Administrator         Aliciafort             Cuba   \n",
              "299997                 Administrator   New Cindychester          Bolivia   \n",
              "299998                          Make       Whitakerbury   Western Sahara   \n",
              "299999                       Actuary     New Russellton   United Kingdom   \n",
              "\n",
              "        Employee_Salary Employment_Status  Employee_Rating  \n",
              "299990           852660         Full Time              3.0  \n",
              "299991           214400         Full Time              1.5  \n",
              "299992            60240         Full Time              4.3  \n",
              "299993           414720            Intern              2.3  \n",
              "299994           182270         Full Time              3.6  \n",
              "299995            99670            Intern              3.3  \n",
              "299996           949580            Intern              2.6  \n",
              "299997           802830         Full Time              0.6  \n",
              "299998           257240         Full Time              2.4  \n",
              "299999           575770            Intern              3.3  "
            ]
          },
          "metadata": {},
          "output_type": "display_data"
        }
      ],
      "source": [
        "first_10_rows = df.head(10)\n",
        "print(first_10_rows)"
      ]
    },
    {
      "cell_type": "markdown",
      "metadata": {
        "id": "RQ09-bBsPe7c"
      },
      "source": [
        "### 34. Print the number of rows."
      ]
    },
    {
      "cell_type": "code",
      "execution_count": null,
      "metadata": {
        "id": "KuObAWtcPe7c",
        "outputId": "20954792-2c87-4e25-ec9e-917b25da20fa"
      },
      "outputs": [
        {
          "name": "stdout",
          "output_type": "stream",
          "text": [
            "300000\n"
          ]
        }
      ],
      "source": [
        "rows = df.shape[0]\n",
        "\n",
        "print(rows)"
      ]
    },
    {
      "cell_type": "markdown",
      "metadata": {
        "id": "36z79pvEPe7d"
      },
      "source": [
        "### 35. Print the number of columns."
      ]
    },
    {
      "cell_type": "code",
      "execution_count": null,
      "metadata": {
        "id": "gNnJ2DVPPe7d",
        "outputId": "d5eaba2c-3f0b-4d04-dea8-e8cc708cbbff"
      },
      "outputs": [
        {
          "name": "stdout",
          "output_type": "stream",
          "text": [
            "8\n"
          ]
        }
      ],
      "source": [
        "columns = df.shape[1]\n",
        "\n",
        "print(columns)"
      ]
    },
    {
      "cell_type": "markdown",
      "metadata": {
        "id": "kZaHhchmPe7d"
      },
      "source": [
        "### 36. Print all column names."
      ]
    },
    {
      "cell_type": "code",
      "execution_count": null,
      "metadata": {
        "id": "znaznLAQPe7e",
        "outputId": "e63403b2-a517-46cc-ca56-f3c8b5fe3576"
      },
      "outputs": [
        {
          "name": "stdout",
          "output_type": "stream",
          "text": [
            "Index(['Name', 'Company_Name', 'Employee_Job_Title', 'Employee_City',\n",
            "       'Employee_Country', 'Employee_Salary', 'Employment_Status',\n",
            "       'Employee_Rating'],\n",
            "      dtype='object')\n"
          ]
        }
      ],
      "source": [
        "column_names = df.columns.tolist()\n",
        "print(column_names)\n",
        "\n",
        "print(column_names)"
      ]
    },
    {
      "cell_type": "markdown",
      "metadata": {
        "id": "7eZLfNvJPe7e"
      },
      "source": [
        "### 37. Print the mean of Employee_Salary."
      ]
    },
    {
      "cell_type": "code",
      "execution_count": null,
      "metadata": {
        "id": "c-eQJUmhPe7e",
        "outputId": "1ff5c6e6-2080-4451-8912-ba4f63548147"
      },
      "outputs": [
        {
          "data": {
            "text/plain": [
              "500224.20772666665"
            ]
          },
          "metadata": {},
          "output_type": "display_data"
        }
      ],
      "source": [
        "column_mean = df[\"Employee_Salary\"].mean()\n",
        "print(column_mean)"
      ]
    },
    {
      "cell_type": "markdown",
      "metadata": {
        "id": "HO3LQ_f-Pe7f"
      },
      "source": [
        "### 38. Print the mean of Employee_Rating."
      ]
    },
    {
      "cell_type": "code",
      "execution_count": null,
      "metadata": {
        "id": "2s3dR7QIPe7f",
        "outputId": "67038b7f-3dd2-4801-d70f-5fe067346592"
      },
      "outputs": [
        {
          "data": {
            "text/plain": [
              "2.5059550000000006"
            ]
          },
          "metadata": {},
          "output_type": "display_data"
        }
      ],
      "source": [
        "column_mean = df[\"Employee_Rating\"].mean()\n",
        "print(column_mean)"
      ]
    },
    {
      "cell_type": "markdown",
      "metadata": {
        "id": "RtFXGUC-Pe7f"
      },
      "source": [
        "### 39. Print the number of distinct Company_Name."
      ]
    },
    {
      "cell_type": "code",
      "execution_count": null,
      "metadata": {
        "id": "sPow8DB7Pe7f",
        "outputId": "c9498c07-4e00-45ee-a873-4e846b4f03d2"
      },
      "outputs": [
        {
          "data": {
            "text/plain": [
              "15"
            ]
          },
          "metadata": {},
          "output_type": "display_data"
        }
      ],
      "source": [
        "number = df[\"Company_Name\"].nunique()\n",
        "print(number)"
      ]
    },
    {
      "cell_type": "markdown",
      "metadata": {
        "id": "BF38vWT_Pe7g"
      },
      "source": [
        "### 41. Print the number of employees working in the company \"Nichols-James\".  "
      ]
    },
    {
      "cell_type": "code",
      "execution_count": null,
      "metadata": {
        "id": "pfd8wPtvPe7g",
        "outputId": "f1280e9f-e1d3-4a1e-843f-7aff579ca8cc"
      },
      "outputs": [
        {
          "data": {
            "text/plain": [
              "19911"
            ]
          },
          "metadata": {},
          "output_type": "display_data"
        }
      ],
      "source": [
        "value_count = df[\"Name\"].value_counts()[\"Nichols-James\"]\n",
        "print(value_count)"
      ]
    },
    {
      "cell_type": "markdown",
      "metadata": {
        "id": "ZKzNLeK-Pe7g"
      },
      "source": [
        "### 42-44. Print the maximum, minimum and median Employee_Salary."
      ]
    },
    {
      "cell_type": "code",
      "execution_count": null,
      "metadata": {
        "id": "a7lZQiOfPe7h",
        "outputId": "2ae39ddb-70f2-4a76-eba8-bf9b86f56cfa"
      },
      "outputs": [
        {
          "data": {
            "text/plain": [
              "max    999990.0\n",
              "min         0.0\n",
              "50%    500780.0\n",
              "Name: Employee_Salary, dtype: float64"
            ]
          },
          "metadata": {},
          "output_type": "display_data"
        }
      ],
      "source": [
        "min = df[\"Employee_Salary\"].min()\n",
        "max = df[\"Employee_Salary\"].max()\n",
        "median = df[\"Employee_Salary\"].median()\n",
        "print(min)\n",
        "print(max)\n",
        "print(median)"
      ]
    },
    {
      "cell_type": "markdown",
      "metadata": {
        "id": "lhA9d_HBPe7h"
      },
      "source": [
        "### 45-49. Print the distribution of the following columns: (the frequency of individual entries)."
      ]
    },
    {
      "cell_type": "markdown",
      "metadata": {
        "id": "vmkYNF-qPe7h"
      },
      "source": [
        "1. Company_Name"
      ]
    },
    {
      "cell_type": "code",
      "execution_count": null,
      "metadata": {
        "id": "StXexFd3Pe7i",
        "outputId": "cba5807a-7e98-49b1-9497-68498da8d33b"
      },
      "outputs": [
        {
          "data": {
            "text/plain": [
              "Scott Inc                         20390\n",
              "White, Mcclain and Cobb           20261\n",
              "Thomas-Spencer                    20142\n",
              "Nelson-Li                         20132\n",
              "Taylor-Ramos                      20122\n",
              "Baker, Allen and Edwards          20084\n",
              "Matthews Inc                      20083\n",
              "Bullock-Carrillo                  20063\n",
              "Andrade LLC                       19983\n",
              "Campos, Reynolds and Mccormick    19927\n",
              "Nichols-James                     19911\n",
              "James and Sons                    19868\n",
              "Marshall-Holloway                 19859\n",
              "Johnston, Fleming and Tanner      19811\n",
              "Wallace, Smith and Shepard        19364\n",
              "Name: Company_Name, dtype: int64"
            ]
          },
          "metadata": {},
          "output_type": "display_data"
        }
      ],
      "source": [
        "value_counts = df[\"Company_Name\"].value_counts()\n",
        "print(value_counts)"
      ]
    },
    {
      "cell_type": "markdown",
      "metadata": {
        "id": "lbmPWWYdPe7i"
      },
      "source": [
        "2. Employee_Job_Title"
      ]
    },
    {
      "cell_type": "code",
      "execution_count": null,
      "metadata": {
        "id": "mUZmERtrPe7i",
        "outputId": "d13e9293-b63a-48e0-8ab8-b50a89cab31e"
      },
      "outputs": [
        {
          "data": {
            "text/plain": [
              "Diplomatic Services operational officer                  30137\n",
              "Administrator                                            15222\n",
              "Garment/textile technologist                             15183\n",
              "Trading standards officer                                15155\n",
              "Patent examiner                                          15085\n",
              "Armed forces logistics/support/administrative officer    15050\n",
              "Retail merchandiser                                      15033\n",
              "Energy manager                                           15033\n",
              "Actuary                                                  15030\n",
              "Investment banker, corporate                             15008\n",
              "Ergonomist                                               15006\n",
              "Production engineer                                      15003\n",
              "Equities trader                                          15000\n",
              "Naval architect                                          14905\n",
              "Radiographer, therapeutic                                14882\n",
              "Regulatory affairs officer                               14869\n",
              "Optometrist                                              14838\n",
              "Sales promotion account executive                        14820\n",
              "Make                                                     14741\n",
              "Name: Employee_Job_Title, dtype: int64"
            ]
          },
          "metadata": {},
          "output_type": "display_data"
        }
      ],
      "source": [
        "value_counts = df[\"Employee_Job_Title\"].value_counts()\n",
        "print(value_counts)"
      ]
    },
    {
      "cell_type": "markdown",
      "metadata": {
        "id": "K2EiOe2yPe7j"
      },
      "source": [
        "### 50. Print the company with the most number of employees."
      ]
    },
    {
      "cell_type": "code",
      "execution_count": null,
      "metadata": {
        "id": "o6tZBNTiPe7j",
        "outputId": "4d358203-4047-4e03-809c-41b84441eef6"
      },
      "outputs": [
        {
          "data": {
            "text/plain": [
              "'Scott Inc'"
            ]
          },
          "metadata": {},
          "output_type": "display_data"
        }
      ],
      "source": [
        "frequency = df[\"Company_Name\"].value_counts().idxmax()\n",
        "print(frequency)"
      ]
    },
    {
      "cell_type": "markdown",
      "metadata": {
        "id": "loGRB7JnPe7j"
      },
      "source": [
        "### 51. Print the number of employees in the above company."
      ]
    },
    {
      "cell_type": "code",
      "execution_count": null,
      "metadata": {
        "id": "VYcL64IzPe7j",
        "outputId": "855b5144-0e02-491e-fd04-d47146e4a344"
      },
      "outputs": [
        {
          "data": {
            "text/plain": [
              "20390"
            ]
          },
          "metadata": {},
          "output_type": "display_data"
        }
      ],
      "source": [
        "frequency_count = df[\"Company_Name\"].value_counts()[frequency]\n",
        "print(frequency_count)"
      ]
    },
    {
      "cell_type": "markdown",
      "metadata": {
        "id": "2XKdd2P1Pe7k"
      },
      "source": [
        "### 52. Print the company with the least number of employees."
      ]
    },
    {
      "cell_type": "code",
      "execution_count": null,
      "metadata": {
        "id": "JRHYqgqHPe7k",
        "outputId": "9d2d6862-cb2e-419f-9eab-c2f43a843812"
      },
      "outputs": [
        {
          "data": {
            "text/plain": [
              "'Wallace, Smith and Shepard'"
            ]
          },
          "metadata": {},
          "output_type": "display_data"
        }
      ],
      "source": [
        "least_frequency = df[\"Company_Name\"].value_counts().idxmin()\n",
        "print(least_frequency)"
      ]
    },
    {
      "cell_type": "markdown",
      "metadata": {
        "id": "dWV2nS53Pe7k"
      },
      "source": [
        "### 53. Print the number of employees in the above company."
      ]
    },
    {
      "cell_type": "code",
      "execution_count": null,
      "metadata": {
        "id": "gCgzjRSDPe7l",
        "outputId": "4f1dd362-b0a8-44f5-b941-c3b480f4fe9a"
      },
      "outputs": [
        {
          "data": {
            "text/plain": [
              "19364"
            ]
          },
          "metadata": {},
          "output_type": "display_data"
        }
      ],
      "source": []
    },
    {
      "cell_type": "markdown",
      "metadata": {
        "id": "Vwt8jEUlPe7l"
      },
      "source": [
        "### 54. Print the employee details with the maximum salary"
      ]
    },
    {
      "cell_type": "code",
      "execution_count": null,
      "metadata": {
        "id": "E_KOJFbUPe7l",
        "outputId": "f5de4eee-e994-4130-e5ef-e32875f9f3f4"
      },
      "outputs": [
        {
          "data": {
            "text/html": [
              "<div>\n",
              "<style scoped>\n",
              "    .dataframe tbody tr th:only-of-type {\n",
              "        vertical-align: middle;\n",
              "    }\n",
              "\n",
              "    .dataframe tbody tr th {\n",
              "        vertical-align: top;\n",
              "    }\n",
              "\n",
              "    .dataframe thead th {\n",
              "        text-align: right;\n",
              "    }\n",
              "</style>\n",
              "<table border=\"1\" class=\"dataframe\">\n",
              "  <thead>\n",
              "    <tr style=\"text-align: right;\">\n",
              "      <th></th>\n",
              "      <th>Name</th>\n",
              "      <th>Company_Name</th>\n",
              "      <th>Employee_Job_Title</th>\n",
              "      <th>Employee_City</th>\n",
              "      <th>Employee_Country</th>\n",
              "      <th>Employee_Salary</th>\n",
              "      <th>Employment_Status</th>\n",
              "      <th>Employee_Rating</th>\n",
              "    </tr>\n",
              "  </thead>\n",
              "  <tbody>\n",
              "    <tr>\n",
              "      <th>70356</th>\n",
              "      <td>Anna Lawson</td>\n",
              "      <td>Taylor-Ramos</td>\n",
              "      <td>Production engineer</td>\n",
              "      <td>Kristaburgh</td>\n",
              "      <td>Lesotho</td>\n",
              "      <td>999990</td>\n",
              "      <td>Full Time</td>\n",
              "      <td>4.0</td>\n",
              "    </tr>\n",
              "  </tbody>\n",
              "</table>\n",
              "</div>"
            ],
            "text/plain": [
              "              Name  Company_Name   Employee_Job_Title Employee_City  \\\n",
              "70356  Anna Lawson  Taylor-Ramos  Production engineer   Kristaburgh   \n",
              "\n",
              "      Employee_Country  Employee_Salary Employment_Status  Employee_Rating  \n",
              "70356          Lesotho           999990         Full Time              4.0  "
            ]
          },
          "metadata": {},
          "output_type": "display_data"
        }
      ],
      "source": []
    },
    {
      "cell_type": "markdown",
      "metadata": {
        "id": "y3gwGGlnPe7l"
      },
      "source": [
        "### 55. Print the employee details with the maximum rating"
      ]
    },
    {
      "cell_type": "code",
      "execution_count": null,
      "metadata": {
        "id": "3yPotJ-MPe7m",
        "outputId": "d02434d5-d04e-44fd-cad2-bff930c4b220"
      },
      "outputs": [
        {
          "data": {
            "text/html": [
              "<div>\n",
              "<style scoped>\n",
              "    .dataframe tbody tr th:only-of-type {\n",
              "        vertical-align: middle;\n",
              "    }\n",
              "\n",
              "    .dataframe tbody tr th {\n",
              "        vertical-align: top;\n",
              "    }\n",
              "\n",
              "    .dataframe thead th {\n",
              "        text-align: right;\n",
              "    }\n",
              "</style>\n",
              "<table border=\"1\" class=\"dataframe\">\n",
              "  <thead>\n",
              "    <tr style=\"text-align: right;\">\n",
              "      <th></th>\n",
              "      <th>Name</th>\n",
              "      <th>Company_Name</th>\n",
              "      <th>Employee_Job_Title</th>\n",
              "      <th>Employee_City</th>\n",
              "      <th>Employee_Country</th>\n",
              "      <th>Employee_Salary</th>\n",
              "      <th>Employment_Status</th>\n",
              "      <th>Employee_Rating</th>\n",
              "    </tr>\n",
              "  </thead>\n",
              "  <tbody>\n",
              "    <tr>\n",
              "      <th>124</th>\n",
              "      <td>Joshua Huffman</td>\n",
              "      <td>James and Sons</td>\n",
              "      <td>Garment/textile technologist</td>\n",
              "      <td>New Russellton</td>\n",
              "      <td>Cook Islands</td>\n",
              "      <td>694760</td>\n",
              "      <td>Full Time</td>\n",
              "      <td>5.0</td>\n",
              "    </tr>\n",
              "    <tr>\n",
              "      <th>342</th>\n",
              "      <td>Alan Carlson</td>\n",
              "      <td>Baker, Allen and Edwards</td>\n",
              "      <td>Diplomatic Services operational officer</td>\n",
              "      <td>Kristaburgh</td>\n",
              "      <td>Mongolia</td>\n",
              "      <td>491710</td>\n",
              "      <td>Intern</td>\n",
              "      <td>5.0</td>\n",
              "    </tr>\n",
              "    <tr>\n",
              "      <th>391</th>\n",
              "      <td>Lisa Summers</td>\n",
              "      <td>Johnston, Fleming and Tanner</td>\n",
              "      <td>Regulatory affairs officer</td>\n",
              "      <td>North Melissafurt</td>\n",
              "      <td>Togo</td>\n",
              "      <td>933500</td>\n",
              "      <td>Full Time</td>\n",
              "      <td>5.0</td>\n",
              "    </tr>\n",
              "    <tr>\n",
              "      <th>395</th>\n",
              "      <td>Timothy Woods</td>\n",
              "      <td>Johnston, Fleming and Tanner</td>\n",
              "      <td>Garment/textile technologist</td>\n",
              "      <td>Whiteside</td>\n",
              "      <td>United States Virgin Islands</td>\n",
              "      <td>367630</td>\n",
              "      <td>Full Time</td>\n",
              "      <td>5.0</td>\n",
              "    </tr>\n",
              "    <tr>\n",
              "      <th>415</th>\n",
              "      <td>Cameron Hawkins</td>\n",
              "      <td>Taylor-Ramos</td>\n",
              "      <td>Armed forces logistics/support/administrative ...</td>\n",
              "      <td>Wardfort</td>\n",
              "      <td>Tanzania</td>\n",
              "      <td>66570</td>\n",
              "      <td>Intern</td>\n",
              "      <td>5.0</td>\n",
              "    </tr>\n",
              "    <tr>\n",
              "      <th>...</th>\n",
              "      <td>...</td>\n",
              "      <td>...</td>\n",
              "      <td>...</td>\n",
              "      <td>...</td>\n",
              "      <td>...</td>\n",
              "      <td>...</td>\n",
              "      <td>...</td>\n",
              "      <td>...</td>\n",
              "    </tr>\n",
              "    <tr>\n",
              "      <th>299689</th>\n",
              "      <td>Michael Jordan</td>\n",
              "      <td>Johnston, Fleming and Tanner</td>\n",
              "      <td>Naval architect</td>\n",
              "      <td>Whitakerbury</td>\n",
              "      <td>Philippines</td>\n",
              "      <td>474540</td>\n",
              "      <td>Full Time</td>\n",
              "      <td>5.0</td>\n",
              "    </tr>\n",
              "    <tr>\n",
              "      <th>299855</th>\n",
              "      <td>Rebecca Garrison</td>\n",
              "      <td>Nelson-Li</td>\n",
              "      <td>Production engineer</td>\n",
              "      <td>Whitakerbury</td>\n",
              "      <td>Ireland</td>\n",
              "      <td>592530</td>\n",
              "      <td>Full Time</td>\n",
              "      <td>5.0</td>\n",
              "    </tr>\n",
              "    <tr>\n",
              "      <th>299900</th>\n",
              "      <td>Daniel Jones</td>\n",
              "      <td>Taylor-Ramos</td>\n",
              "      <td>Sales promotion account executive</td>\n",
              "      <td>Kristaburgh</td>\n",
              "      <td>Sierra Leone</td>\n",
              "      <td>32160</td>\n",
              "      <td>Full Time</td>\n",
              "      <td>5.0</td>\n",
              "    </tr>\n",
              "    <tr>\n",
              "      <th>299906</th>\n",
              "      <td>Justin Mendez</td>\n",
              "      <td>Bullock-Carrillo</td>\n",
              "      <td>Regulatory affairs officer</td>\n",
              "      <td>New Cindychester</td>\n",
              "      <td>Colombia</td>\n",
              "      <td>374540</td>\n",
              "      <td>Full Time</td>\n",
              "      <td>5.0</td>\n",
              "    </tr>\n",
              "    <tr>\n",
              "      <th>299973</th>\n",
              "      <td>Doris Miller</td>\n",
              "      <td>Andrade LLC</td>\n",
              "      <td>Armed forces logistics/support/administrative ...</td>\n",
              "      <td>Wardfort</td>\n",
              "      <td>Kazakhstan</td>\n",
              "      <td>943340</td>\n",
              "      <td>Intern</td>\n",
              "      <td>5.0</td>\n",
              "    </tr>\n",
              "  </tbody>\n",
              "</table>\n",
              "<p>2985 rows × 8 columns</p>\n",
              "</div>"
            ],
            "text/plain": [
              "                    Name                  Company_Name  \\\n",
              "124       Joshua Huffman                James and Sons   \n",
              "342         Alan Carlson      Baker, Allen and Edwards   \n",
              "391         Lisa Summers  Johnston, Fleming and Tanner   \n",
              "395        Timothy Woods  Johnston, Fleming and Tanner   \n",
              "415      Cameron Hawkins                  Taylor-Ramos   \n",
              "...                  ...                           ...   \n",
              "299689    Michael Jordan  Johnston, Fleming and Tanner   \n",
              "299855  Rebecca Garrison                     Nelson-Li   \n",
              "299900      Daniel Jones                  Taylor-Ramos   \n",
              "299906     Justin Mendez              Bullock-Carrillo   \n",
              "299973      Doris Miller                   Andrade LLC   \n",
              "\n",
              "                                       Employee_Job_Title      Employee_City  \\\n",
              "124                          Garment/textile technologist     New Russellton   \n",
              "342               Diplomatic Services operational officer        Kristaburgh   \n",
              "391                            Regulatory affairs officer  North Melissafurt   \n",
              "395                          Garment/textile technologist          Whiteside   \n",
              "415     Armed forces logistics/support/administrative ...           Wardfort   \n",
              "...                                                   ...                ...   \n",
              "299689                                    Naval architect       Whitakerbury   \n",
              "299855                                Production engineer       Whitakerbury   \n",
              "299900                  Sales promotion account executive        Kristaburgh   \n",
              "299906                         Regulatory affairs officer   New Cindychester   \n",
              "299973  Armed forces logistics/support/administrative ...           Wardfort   \n",
              "\n",
              "                    Employee_Country  Employee_Salary Employment_Status  \\\n",
              "124                     Cook Islands           694760         Full Time   \n",
              "342                         Mongolia           491710            Intern   \n",
              "391                             Togo           933500         Full Time   \n",
              "395     United States Virgin Islands           367630         Full Time   \n",
              "415                         Tanzania            66570            Intern   \n",
              "...                              ...              ...               ...   \n",
              "299689                   Philippines           474540         Full Time   \n",
              "299855                       Ireland           592530         Full Time   \n",
              "299900                  Sierra Leone            32160         Full Time   \n",
              "299906                      Colombia           374540         Full Time   \n",
              "299973                    Kazakhstan           943340            Intern   \n",
              "\n",
              "        Employee_Rating  \n",
              "124                 5.0  \n",
              "342                 5.0  \n",
              "391                 5.0  \n",
              "395                 5.0  \n",
              "415                 5.0  \n",
              "...                 ...  \n",
              "299689              5.0  \n",
              "299855              5.0  \n",
              "299900              5.0  \n",
              "299906              5.0  \n",
              "299973              5.0  \n",
              "\n",
              "[2985 rows x 8 columns]"
            ]
          },
          "metadata": {},
          "output_type": "display_data"
        }
      ],
      "source": []
    },
    {
      "cell_type": "markdown",
      "metadata": {
        "id": "pgz8LldiPe7m"
      },
      "source": [
        "### 56. Print the Company_Name with most number of employees in 'Wardfort' city."
      ]
    },
    {
      "cell_type": "code",
      "execution_count": null,
      "metadata": {
        "id": "aU9l8U7oPe7m",
        "outputId": "be87ee64-a8f8-4a79-938f-6d87474ed61f"
      },
      "outputs": [
        {
          "data": {
            "text/plain": [
              "'White, Mcclain and Cobb'"
            ]
          },
          "metadata": {},
          "output_type": "display_data"
        }
      ],
      "source": []
    },
    {
      "cell_type": "markdown",
      "metadata": {
        "id": "_doqegn7Pe7m"
      },
      "source": [
        "### 57. Change the Data type of 'Employee_Salary' column to float."
      ]
    },
    {
      "cell_type": "code",
      "execution_count": null,
      "metadata": {
        "id": "lFtrj_JvPe7n",
        "outputId": "9ef53ee2-bfda-484c-8a56-6dfba1dded04"
      },
      "outputs": [
        {
          "name": "stdout",
          "output_type": "stream",
          "text": [
            "<class 'pandas.core.frame.DataFrame'>\n",
            "RangeIndex: 300000 entries, 0 to 299999\n",
            "Data columns (total 8 columns):\n",
            " #   Column              Non-Null Count   Dtype  \n",
            "---  ------              --------------   -----  \n",
            " 0   Name                300000 non-null  object \n",
            " 1   Company_Name        300000 non-null  object \n",
            " 2   Employee_Job_Title  300000 non-null  object \n",
            " 3   Employee_City       300000 non-null  object \n",
            " 4   Employee_Country    300000 non-null  object \n",
            " 5   Employee_Salary     300000 non-null  float64\n",
            " 6   Employment_Status   300000 non-null  object \n",
            " 7   Employee_Rating     300000 non-null  float64\n",
            "dtypes: float64(2), object(6)\n",
            "memory usage: 18.3+ MB\n"
          ]
        }
      ],
      "source": []
    },
    {
      "cell_type": "markdown",
      "metadata": {
        "id": "lPsIGcWFPe7n"
      },
      "source": [
        "### 58. Print the Employee_City with the most number of 'Production engineer'."
      ]
    },
    {
      "cell_type": "code",
      "execution_count": null,
      "metadata": {
        "id": "KPbD3ZwiPe7n",
        "outputId": "d360ae7f-2e41-4b66-e941-ec6e11b8c47b"
      },
      "outputs": [
        {
          "data": {
            "text/plain": [
              "'Aliciafort'"
            ]
          },
          "metadata": {},
          "output_type": "display_data"
        }
      ],
      "source": []
    },
    {
      "cell_type": "markdown",
      "metadata": {
        "id": "wKOu4R3ZPe7o"
      },
      "source": [
        "### 60. Print the Company_Name with the highest average 'Employee_Rating'."
      ]
    },
    {
      "cell_type": "code",
      "execution_count": null,
      "metadata": {
        "id": "T_DF6WMMPe7o",
        "outputId": "54785322-e4bc-4eb8-cf98-4b5721982ed1"
      },
      "outputs": [
        {
          "data": {
            "text/plain": [
              "'Matthews Inc'"
            ]
          },
          "metadata": {},
          "output_type": "display_data"
        }
      ],
      "source": []
    },
    {
      "cell_type": "markdown",
      "metadata": {
        "id": "plWyodOaPe7o"
      },
      "source": [
        "### 61. Print the number of employees working in 'Ricardomouth' and 'Kristaburgh' location combined."
      ]
    },
    {
      "cell_type": "code",
      "execution_count": null,
      "metadata": {
        "id": "1mvb7kg4Pe7o",
        "outputId": "9a82addf-87c0-451d-f4ea-14d26cae04cd"
      },
      "outputs": [
        {
          "data": {
            "text/plain": [
              "30204"
            ]
          },
          "metadata": {},
          "output_type": "display_data"
        }
      ],
      "source": []
    },
    {
      "cell_type": "markdown",
      "metadata": {
        "id": "ryie2eUbPe7p"
      },
      "source": [
        "### 62. Print the distinct Company_Name corresponding to the 5 highest paid employees in the dataset."
      ]
    },
    {
      "cell_type": "code",
      "execution_count": null,
      "metadata": {
        "id": "Ft5TXbjwPe7p",
        "outputId": "257c3b47-c21a-442d-c764-2df103d71e7f"
      },
      "outputs": [
        {
          "data": {
            "text/plain": [
              "array(['Taylor-Ramos', 'Thomas-Spencer', 'White, Mcclain and Cobb',\n",
              "       'Campos, Reynolds and Mccormick'], dtype=object)"
            ]
          },
          "metadata": {},
          "output_type": "display_data"
        }
      ],
      "source": []
    },
    {
      "cell_type": "markdown",
      "metadata": {
        "id": "fR8doOxpPe7p"
      },
      "source": [
        "### 63. Check if there are any duplicate rows in the DataFrame."
      ]
    },
    {
      "cell_type": "code",
      "execution_count": null,
      "metadata": {
        "id": "KppX5uQUPe7p",
        "outputId": "b37b4cac-c376-41c2-d62a-bfe011b85cfd"
      },
      "outputs": [
        {
          "data": {
            "text/html": [
              "<div>\n",
              "<style scoped>\n",
              "    .dataframe tbody tr th:only-of-type {\n",
              "        vertical-align: middle;\n",
              "    }\n",
              "\n",
              "    .dataframe tbody tr th {\n",
              "        vertical-align: top;\n",
              "    }\n",
              "\n",
              "    .dataframe thead th {\n",
              "        text-align: right;\n",
              "    }\n",
              "</style>\n",
              "<table border=\"1\" class=\"dataframe\">\n",
              "  <thead>\n",
              "    <tr style=\"text-align: right;\">\n",
              "      <th></th>\n",
              "      <th>Name</th>\n",
              "      <th>Company_Name</th>\n",
              "      <th>Employee_Job_Title</th>\n",
              "      <th>Employee_City</th>\n",
              "      <th>Employee_Country</th>\n",
              "      <th>Employee_Salary</th>\n",
              "      <th>Employment_Status</th>\n",
              "      <th>Employee_Rating</th>\n",
              "    </tr>\n",
              "  </thead>\n",
              "  <tbody>\n",
              "  </tbody>\n",
              "</table>\n",
              "</div>"
            ],
            "text/plain": [
              "Empty DataFrame\n",
              "Columns: [Name, Company_Name, Employee_Job_Title, Employee_City, Employee_Country, Employee_Salary, Employment_Status, Employee_Rating]\n",
              "Index: []"
            ]
          },
          "metadata": {},
          "output_type": "display_data"
        }
      ],
      "source": []
    },
    {
      "cell_type": "markdown",
      "metadata": {
        "id": "aCNbZCHRPe7q"
      },
      "source": [
        "### 64. Check if any of the columns has NaN values."
      ]
    },
    {
      "cell_type": "code",
      "execution_count": null,
      "metadata": {
        "id": "4nDFkQI4Pe7q",
        "outputId": "2e8835a7-221e-4c36-adad-dce1c444ee41"
      },
      "outputs": [
        {
          "data": {
            "text/plain": [
              "Name                  0\n",
              "Company_Name          0\n",
              "Employee_Job_Title    0\n",
              "Employee_City         0\n",
              "Employee_Country      0\n",
              "Employee_Salary       0\n",
              "Employment_Status     0\n",
              "Employee_Rating       0\n",
              "dtype: int64"
            ]
          },
          "metadata": {},
          "output_type": "display_data"
        }
      ],
      "source": []
    },
    {
      "cell_type": "markdown",
      "metadata": {
        "id": "oG-2nU40Pe7q"
      },
      "source": [
        "### 65. Print the data type of every column in the DataFrame."
      ]
    },
    {
      "cell_type": "code",
      "execution_count": null,
      "metadata": {
        "id": "Mjs07JjUPe7q",
        "outputId": "9143da65-8423-43b4-9d33-aa61a442da10"
      },
      "outputs": [
        {
          "name": "stdout",
          "output_type": "stream",
          "text": [
            "<class 'pandas.core.frame.DataFrame'>\n",
            "RangeIndex: 300000 entries, 0 to 299999\n",
            "Data columns (total 8 columns):\n",
            " #   Column              Non-Null Count   Dtype  \n",
            "---  ------              --------------   -----  \n",
            " 0   Name                300000 non-null  object \n",
            " 1   Company_Name        300000 non-null  object \n",
            " 2   Employee_Job_Title  300000 non-null  object \n",
            " 3   Employee_City       300000 non-null  object \n",
            " 4   Employee_Country    300000 non-null  object \n",
            " 5   Employee_Salary     300000 non-null  float64\n",
            " 6   Employment_Status   300000 non-null  object \n",
            " 7   Employee_Rating     300000 non-null  float64\n",
            "dtypes: float64(2), object(6)\n",
            "memory usage: 18.3+ MB\n"
          ]
        }
      ],
      "source": []
    },
    {
      "cell_type": "markdown",
      "metadata": {
        "id": "3UqINySMPe7q"
      },
      "source": [
        "### 66. Print the Company_Name column only as a Series"
      ]
    },
    {
      "cell_type": "code",
      "execution_count": null,
      "metadata": {
        "id": "zUzEhpEQPe7r",
        "outputId": "6e891dde-7075-45ea-f224-394674513eb0"
      },
      "outputs": [
        {
          "data": {
            "text/plain": [
              "0                       James and Sons\n",
              "1                        Nichols-James\n",
              "2                            Scott Inc\n",
              "3         Johnston, Fleming and Tanner\n",
              "4             Baker, Allen and Edwards\n",
              "                      ...             \n",
              "299995                Bullock-Carrillo\n",
              "299996    Johnston, Fleming and Tanner\n",
              "299997                   Nichols-James\n",
              "299998                   Nichols-James\n",
              "299999                  James and Sons\n",
              "Name: Company_Name, Length: 300000, dtype: object"
            ]
          },
          "metadata": {},
          "output_type": "display_data"
        }
      ],
      "source": []
    },
    {
      "cell_type": "markdown",
      "metadata": {
        "id": "SroDaTjqPe7r"
      },
      "source": [
        "### 67. Print the Company_Name column only as a DataFrame"
      ]
    },
    {
      "cell_type": "code",
      "execution_count": null,
      "metadata": {
        "id": "bAF-dEwFPe7r",
        "outputId": "173d1877-03ce-4d3d-afcd-0198b32b9e19"
      },
      "outputs": [
        {
          "data": {
            "text/html": [
              "<div>\n",
              "<style scoped>\n",
              "    .dataframe tbody tr th:only-of-type {\n",
              "        vertical-align: middle;\n",
              "    }\n",
              "\n",
              "    .dataframe tbody tr th {\n",
              "        vertical-align: top;\n",
              "    }\n",
              "\n",
              "    .dataframe thead th {\n",
              "        text-align: right;\n",
              "    }\n",
              "</style>\n",
              "<table border=\"1\" class=\"dataframe\">\n",
              "  <thead>\n",
              "    <tr style=\"text-align: right;\">\n",
              "      <th></th>\n",
              "      <th>Company_Name</th>\n",
              "    </tr>\n",
              "  </thead>\n",
              "  <tbody>\n",
              "    <tr>\n",
              "      <th>0</th>\n",
              "      <td>James and Sons</td>\n",
              "    </tr>\n",
              "    <tr>\n",
              "      <th>1</th>\n",
              "      <td>Nichols-James</td>\n",
              "    </tr>\n",
              "    <tr>\n",
              "      <th>2</th>\n",
              "      <td>Scott Inc</td>\n",
              "    </tr>\n",
              "    <tr>\n",
              "      <th>3</th>\n",
              "      <td>Johnston, Fleming and Tanner</td>\n",
              "    </tr>\n",
              "    <tr>\n",
              "      <th>4</th>\n",
              "      <td>Baker, Allen and Edwards</td>\n",
              "    </tr>\n",
              "    <tr>\n",
              "      <th>...</th>\n",
              "      <td>...</td>\n",
              "    </tr>\n",
              "    <tr>\n",
              "      <th>299995</th>\n",
              "      <td>Bullock-Carrillo</td>\n",
              "    </tr>\n",
              "    <tr>\n",
              "      <th>299996</th>\n",
              "      <td>Johnston, Fleming and Tanner</td>\n",
              "    </tr>\n",
              "    <tr>\n",
              "      <th>299997</th>\n",
              "      <td>Nichols-James</td>\n",
              "    </tr>\n",
              "    <tr>\n",
              "      <th>299998</th>\n",
              "      <td>Nichols-James</td>\n",
              "    </tr>\n",
              "    <tr>\n",
              "      <th>299999</th>\n",
              "      <td>James and Sons</td>\n",
              "    </tr>\n",
              "  </tbody>\n",
              "</table>\n",
              "<p>300000 rows × 1 columns</p>\n",
              "</div>"
            ],
            "text/plain": [
              "                        Company_Name\n",
              "0                     James and Sons\n",
              "1                      Nichols-James\n",
              "2                          Scott Inc\n",
              "3       Johnston, Fleming and Tanner\n",
              "4           Baker, Allen and Edwards\n",
              "...                              ...\n",
              "299995              Bullock-Carrillo\n",
              "299996  Johnston, Fleming and Tanner\n",
              "299997                 Nichols-James\n",
              "299998                 Nichols-James\n",
              "299999                James and Sons\n",
              "\n",
              "[300000 rows x 1 columns]"
            ]
          },
          "metadata": {},
          "output_type": "display_data"
        }
      ],
      "source": []
    },
    {
      "cell_type": "markdown",
      "metadata": {
        "id": "6r1AUrqpPe7r"
      },
      "source": [
        "### 68. Select the 'Employee_Job_Title' and 'Employee_City' column."
      ]
    },
    {
      "cell_type": "code",
      "execution_count": null,
      "metadata": {
        "id": "4loNllBJPe7s",
        "outputId": "6fd4ddaa-3fcf-40ef-9383-a99bccab62cc"
      },
      "outputs": [
        {
          "data": {
            "text/html": [
              "<div>\n",
              "<style scoped>\n",
              "    .dataframe tbody tr th:only-of-type {\n",
              "        vertical-align: middle;\n",
              "    }\n",
              "\n",
              "    .dataframe tbody tr th {\n",
              "        vertical-align: top;\n",
              "    }\n",
              "\n",
              "    .dataframe thead th {\n",
              "        text-align: right;\n",
              "    }\n",
              "</style>\n",
              "<table border=\"1\" class=\"dataframe\">\n",
              "  <thead>\n",
              "    <tr style=\"text-align: right;\">\n",
              "      <th></th>\n",
              "      <th>Employee_Job_Title</th>\n",
              "      <th>Employee_City</th>\n",
              "    </tr>\n",
              "  </thead>\n",
              "  <tbody>\n",
              "    <tr>\n",
              "      <th>0</th>\n",
              "      <td>Equities trader</td>\n",
              "      <td>New Russellton</td>\n",
              "    </tr>\n",
              "    <tr>\n",
              "      <th>1</th>\n",
              "      <td>Diplomatic Services operational officer</td>\n",
              "      <td>North Melissafurt</td>\n",
              "    </tr>\n",
              "    <tr>\n",
              "      <th>2</th>\n",
              "      <td>Regulatory affairs officer</td>\n",
              "      <td>Wardfort</td>\n",
              "    </tr>\n",
              "    <tr>\n",
              "      <th>3</th>\n",
              "      <td>Production engineer</td>\n",
              "      <td>West Jamesview</td>\n",
              "    </tr>\n",
              "    <tr>\n",
              "      <th>4</th>\n",
              "      <td>Production engineer</td>\n",
              "      <td>Whiteside</td>\n",
              "    </tr>\n",
              "    <tr>\n",
              "      <th>...</th>\n",
              "      <td>...</td>\n",
              "      <td>...</td>\n",
              "    </tr>\n",
              "    <tr>\n",
              "      <th>299995</th>\n",
              "      <td>Optometrist</td>\n",
              "      <td>North Melissafurt</td>\n",
              "    </tr>\n",
              "    <tr>\n",
              "      <th>299996</th>\n",
              "      <td>Administrator</td>\n",
              "      <td>Aliciafort</td>\n",
              "    </tr>\n",
              "    <tr>\n",
              "      <th>299997</th>\n",
              "      <td>Administrator</td>\n",
              "      <td>New Cindychester</td>\n",
              "    </tr>\n",
              "    <tr>\n",
              "      <th>299998</th>\n",
              "      <td>Make</td>\n",
              "      <td>Whitakerbury</td>\n",
              "    </tr>\n",
              "    <tr>\n",
              "      <th>299999</th>\n",
              "      <td>Actuary</td>\n",
              "      <td>New Russellton</td>\n",
              "    </tr>\n",
              "  </tbody>\n",
              "</table>\n",
              "<p>300000 rows × 2 columns</p>\n",
              "</div>"
            ],
            "text/plain": [
              "                             Employee_Job_Title      Employee_City\n",
              "0                               Equities trader     New Russellton\n",
              "1       Diplomatic Services operational officer  North Melissafurt\n",
              "2                    Regulatory affairs officer           Wardfort\n",
              "3                           Production engineer     West Jamesview\n",
              "4                           Production engineer          Whiteside\n",
              "...                                         ...                ...\n",
              "299995                              Optometrist  North Melissafurt\n",
              "299996                            Administrator         Aliciafort\n",
              "299997                            Administrator   New Cindychester\n",
              "299998                                     Make       Whitakerbury\n",
              "299999                                  Actuary     New Russellton\n",
              "\n",
              "[300000 rows x 2 columns]"
            ]
          },
          "metadata": {},
          "output_type": "display_data"
        }
      ],
      "source": []
    },
    {
      "cell_type": "markdown",
      "metadata": {
        "id": "ZCpHw5-rPe7s"
      },
      "source": [
        "### 69. Print the number of employees with Employee_Rating greater than the average Employee_Rating"
      ]
    },
    {
      "cell_type": "code",
      "execution_count": null,
      "metadata": {
        "id": "9A_4kpmcPe7s",
        "outputId": "a3630f28-722d-4780-d47d-4e11f13ec579"
      },
      "outputs": [
        {
          "data": {
            "text/plain": [
              "147548"
            ]
          },
          "metadata": {},
          "output_type": "display_data"
        }
      ],
      "source": []
    },
    {
      "cell_type": "markdown",
      "metadata": {
        "id": "h-yMx-0vPe7s"
      },
      "source": [
        "### 74. Print the first 5 rows of the first 5 columns."
      ]
    },
    {
      "cell_type": "code",
      "execution_count": null,
      "metadata": {
        "id": "FfyboFnVPe7t",
        "outputId": "819b7e1f-7722-46aa-a116-424830067bcb"
      },
      "outputs": [
        {
          "data": {
            "text/html": [
              "<div>\n",
              "<style scoped>\n",
              "    .dataframe tbody tr th:only-of-type {\n",
              "        vertical-align: middle;\n",
              "    }\n",
              "\n",
              "    .dataframe tbody tr th {\n",
              "        vertical-align: top;\n",
              "    }\n",
              "\n",
              "    .dataframe thead th {\n",
              "        text-align: right;\n",
              "    }\n",
              "</style>\n",
              "<table border=\"1\" class=\"dataframe\">\n",
              "  <thead>\n",
              "    <tr style=\"text-align: right;\">\n",
              "      <th></th>\n",
              "      <th>Name</th>\n",
              "      <th>Company_Name</th>\n",
              "      <th>Employee_Job_Title</th>\n",
              "      <th>Employee_City</th>\n",
              "      <th>Employee_Country</th>\n",
              "    </tr>\n",
              "  </thead>\n",
              "  <tbody>\n",
              "    <tr>\n",
              "      <th>0</th>\n",
              "      <td>Spencer Adkins</td>\n",
              "      <td>James and Sons</td>\n",
              "      <td>Equities trader</td>\n",
              "      <td>New Russellton</td>\n",
              "      <td>Palestinian Territory</td>\n",
              "    </tr>\n",
              "    <tr>\n",
              "      <th>1</th>\n",
              "      <td>Julie Morton</td>\n",
              "      <td>Nichols-James</td>\n",
              "      <td>Diplomatic Services operational officer</td>\n",
              "      <td>North Melissafurt</td>\n",
              "      <td>Marshall Islands</td>\n",
              "    </tr>\n",
              "    <tr>\n",
              "      <th>2</th>\n",
              "      <td>Matthew Hall</td>\n",
              "      <td>Scott Inc</td>\n",
              "      <td>Regulatory affairs officer</td>\n",
              "      <td>Wardfort</td>\n",
              "      <td>Anguilla</td>\n",
              "    </tr>\n",
              "    <tr>\n",
              "      <th>3</th>\n",
              "      <td>Brad Scott</td>\n",
              "      <td>Johnston, Fleming and Tanner</td>\n",
              "      <td>Production engineer</td>\n",
              "      <td>West Jamesview</td>\n",
              "      <td>Syrian Arab Republic</td>\n",
              "    </tr>\n",
              "    <tr>\n",
              "      <th>4</th>\n",
              "      <td>Theresa Owens</td>\n",
              "      <td>Baker, Allen and Edwards</td>\n",
              "      <td>Production engineer</td>\n",
              "      <td>Whiteside</td>\n",
              "      <td>Dominica</td>\n",
              "    </tr>\n",
              "  </tbody>\n",
              "</table>\n",
              "</div>"
            ],
            "text/plain": [
              "             Name                  Company_Name  \\\n",
              "0  Spencer Adkins                James and Sons   \n",
              "1    Julie Morton                 Nichols-James   \n",
              "2    Matthew Hall                     Scott Inc   \n",
              "3      Brad Scott  Johnston, Fleming and Tanner   \n",
              "4   Theresa Owens      Baker, Allen and Edwards   \n",
              "\n",
              "                        Employee_Job_Title      Employee_City  \\\n",
              "0                          Equities trader     New Russellton   \n",
              "1  Diplomatic Services operational officer  North Melissafurt   \n",
              "2               Regulatory affairs officer           Wardfort   \n",
              "3                      Production engineer     West Jamesview   \n",
              "4                      Production engineer          Whiteside   \n",
              "\n",
              "        Employee_Country  \n",
              "0  Palestinian Territory  \n",
              "1       Marshall Islands  \n",
              "2               Anguilla  \n",
              "3   Syrian Arab Republic  \n",
              "4               Dominica  "
            ]
          },
          "metadata": {},
          "output_type": "display_data"
        }
      ],
      "source": []
    },
    {
      "cell_type": "markdown",
      "metadata": {
        "id": "OlV2l7QZPe7t"
      },
      "source": [
        "### 76. Print the number of employees whose first name starts with the letter 'V'."
      ]
    },
    {
      "cell_type": "code",
      "execution_count": null,
      "metadata": {
        "id": "RbiShQ15Pe7t",
        "outputId": "f9d4cd0a-68bf-4cdf-b2fd-a69d179752fe"
      },
      "outputs": [
        {
          "data": {
            "text/plain": [
              "3683"
            ]
          },
          "metadata": {},
          "output_type": "display_data"
        }
      ],
      "source": []
    },
    {
      "cell_type": "markdown",
      "metadata": {
        "id": "M5dya3v-Pe7t"
      },
      "source": [
        "### 77. Print the number of employees whose last name starts with the letter 'R'."
      ]
    },
    {
      "cell_type": "code",
      "execution_count": null,
      "metadata": {
        "id": "_qKIhg0MPe7t",
        "outputId": "ff575a56-3903-4630-adb6-e1b226b26060"
      },
      "outputs": [
        {
          "data": {
            "text/html": [
              "<div>\n",
              "<style scoped>\n",
              "    .dataframe tbody tr th:only-of-type {\n",
              "        vertical-align: middle;\n",
              "    }\n",
              "\n",
              "    .dataframe tbody tr th {\n",
              "        vertical-align: top;\n",
              "    }\n",
              "\n",
              "    .dataframe thead th {\n",
              "        text-align: right;\n",
              "    }\n",
              "</style>\n",
              "<table border=\"1\" class=\"dataframe\">\n",
              "  <thead>\n",
              "    <tr style=\"text-align: right;\">\n",
              "      <th></th>\n",
              "      <th>Name</th>\n",
              "      <th>Company_Name</th>\n",
              "      <th>Employee_Job_Title</th>\n",
              "      <th>Employee_City</th>\n",
              "      <th>Employee_Country</th>\n",
              "      <th>Employee_Salary</th>\n",
              "      <th>Employment_Status</th>\n",
              "      <th>Employee_Rating</th>\n",
              "    </tr>\n",
              "  </thead>\n",
              "  <tbody>\n",
              "    <tr>\n",
              "      <th>17</th>\n",
              "      <td>Gail Rose</td>\n",
              "      <td>Thomas-Spencer</td>\n",
              "      <td>Patent examiner</td>\n",
              "      <td>Whitakerbury</td>\n",
              "      <td>Finland</td>\n",
              "      <td>178570.0</td>\n",
              "      <td>Full Time</td>\n",
              "      <td>1.9</td>\n",
              "    </tr>\n",
              "    <tr>\n",
              "      <th>26</th>\n",
              "      <td>Donna Rodriguez</td>\n",
              "      <td>Thomas-Spencer</td>\n",
              "      <td>Sales promotion account executive</td>\n",
              "      <td>Whiteside</td>\n",
              "      <td>Guam</td>\n",
              "      <td>622920.0</td>\n",
              "      <td>Full Time</td>\n",
              "      <td>2.8</td>\n",
              "    </tr>\n",
              "    <tr>\n",
              "      <th>28</th>\n",
              "      <td>Kim Reynolds</td>\n",
              "      <td>Marshall-Holloway</td>\n",
              "      <td>Actuary</td>\n",
              "      <td>West Jamesview</td>\n",
              "      <td>Faroe Islands</td>\n",
              "      <td>794450.0</td>\n",
              "      <td>Full Time</td>\n",
              "      <td>1.4</td>\n",
              "    </tr>\n",
              "    <tr>\n",
              "      <th>39</th>\n",
              "      <td>Jessica Reyes</td>\n",
              "      <td>Thomas-Spencer</td>\n",
              "      <td>Garment/textile technologist</td>\n",
              "      <td>Kristaburgh</td>\n",
              "      <td>Botswana</td>\n",
              "      <td>667490.0</td>\n",
              "      <td>Full Time</td>\n",
              "      <td>0.7</td>\n",
              "    </tr>\n",
              "    <tr>\n",
              "      <th>55</th>\n",
              "      <td>Amanda Roth</td>\n",
              "      <td>Taylor-Ramos</td>\n",
              "      <td>Administrator</td>\n",
              "      <td>North Melissafurt</td>\n",
              "      <td>Macedonia</td>\n",
              "      <td>437720.0</td>\n",
              "      <td>Full Time</td>\n",
              "      <td>0.7</td>\n",
              "    </tr>\n",
              "    <tr>\n",
              "      <th>...</th>\n",
              "      <td>...</td>\n",
              "      <td>...</td>\n",
              "      <td>...</td>\n",
              "      <td>...</td>\n",
              "      <td>...</td>\n",
              "      <td>...</td>\n",
              "      <td>...</td>\n",
              "      <td>...</td>\n",
              "    </tr>\n",
              "    <tr>\n",
              "      <th>299902</th>\n",
              "      <td>Michelle Reynolds</td>\n",
              "      <td>Marshall-Holloway</td>\n",
              "      <td>Make</td>\n",
              "      <td>Wardfort</td>\n",
              "      <td>El Salvador</td>\n",
              "      <td>105680.0</td>\n",
              "      <td>Full Time</td>\n",
              "      <td>4.8</td>\n",
              "    </tr>\n",
              "    <tr>\n",
              "      <th>299905</th>\n",
              "      <td>Sandra Riley</td>\n",
              "      <td>Wallace, Smith and Shepard</td>\n",
              "      <td>Energy manager</td>\n",
              "      <td>Whiteside</td>\n",
              "      <td>Northern Mariana Islands</td>\n",
              "      <td>34760.0</td>\n",
              "      <td>Full Time</td>\n",
              "      <td>2.0</td>\n",
              "    </tr>\n",
              "    <tr>\n",
              "      <th>299964</th>\n",
              "      <td>Joshua Rodriguez</td>\n",
              "      <td>Andrade LLC</td>\n",
              "      <td>Trading standards officer</td>\n",
              "      <td>New Cindychester</td>\n",
              "      <td>Sierra Leone</td>\n",
              "      <td>118300.0</td>\n",
              "      <td>Full Time</td>\n",
              "      <td>1.1</td>\n",
              "    </tr>\n",
              "    <tr>\n",
              "      <th>299967</th>\n",
              "      <td>James Rhodes</td>\n",
              "      <td>Matthews Inc</td>\n",
              "      <td>Production engineer</td>\n",
              "      <td>New Cindychester</td>\n",
              "      <td>Honduras</td>\n",
              "      <td>386610.0</td>\n",
              "      <td>Full Time</td>\n",
              "      <td>1.4</td>\n",
              "    </tr>\n",
              "    <tr>\n",
              "      <th>299991</th>\n",
              "      <td>William Rodriguez</td>\n",
              "      <td>Scott Inc</td>\n",
              "      <td>Ergonomist</td>\n",
              "      <td>Whiteside</td>\n",
              "      <td>New Zealand</td>\n",
              "      <td>214400.0</td>\n",
              "      <td>Full Time</td>\n",
              "      <td>1.5</td>\n",
              "    </tr>\n",
              "  </tbody>\n",
              "</table>\n",
              "<p>20712 rows × 8 columns</p>\n",
              "</div>"
            ],
            "text/plain": [
              "                     Name                Company_Name  \\\n",
              "17              Gail Rose              Thomas-Spencer   \n",
              "26        Donna Rodriguez              Thomas-Spencer   \n",
              "28           Kim Reynolds           Marshall-Holloway   \n",
              "39          Jessica Reyes              Thomas-Spencer   \n",
              "55            Amanda Roth                Taylor-Ramos   \n",
              "...                   ...                         ...   \n",
              "299902  Michelle Reynolds           Marshall-Holloway   \n",
              "299905       Sandra Riley  Wallace, Smith and Shepard   \n",
              "299964   Joshua Rodriguez                 Andrade LLC   \n",
              "299967       James Rhodes                Matthews Inc   \n",
              "299991  William Rodriguez                   Scott Inc   \n",
              "\n",
              "                       Employee_Job_Title      Employee_City  \\\n",
              "17                        Patent examiner       Whitakerbury   \n",
              "26      Sales promotion account executive          Whiteside   \n",
              "28                                Actuary     West Jamesview   \n",
              "39           Garment/textile technologist        Kristaburgh   \n",
              "55                          Administrator  North Melissafurt   \n",
              "...                                   ...                ...   \n",
              "299902                               Make           Wardfort   \n",
              "299905                     Energy manager          Whiteside   \n",
              "299964          Trading standards officer   New Cindychester   \n",
              "299967                Production engineer   New Cindychester   \n",
              "299991                         Ergonomist          Whiteside   \n",
              "\n",
              "                Employee_Country  Employee_Salary Employment_Status  \\\n",
              "17                       Finland         178570.0         Full Time   \n",
              "26                          Guam         622920.0         Full Time   \n",
              "28                 Faroe Islands         794450.0         Full Time   \n",
              "39                      Botswana         667490.0         Full Time   \n",
              "55                     Macedonia         437720.0         Full Time   \n",
              "...                          ...              ...               ...   \n",
              "299902               El Salvador         105680.0         Full Time   \n",
              "299905  Northern Mariana Islands          34760.0         Full Time   \n",
              "299964              Sierra Leone         118300.0         Full Time   \n",
              "299967                  Honduras         386610.0         Full Time   \n",
              "299991               New Zealand         214400.0         Full Time   \n",
              "\n",
              "        Employee_Rating  \n",
              "17                  1.9  \n",
              "26                  2.8  \n",
              "28                  1.4  \n",
              "39                  0.7  \n",
              "55                  0.7  \n",
              "...                 ...  \n",
              "299902              4.8  \n",
              "299905              2.0  \n",
              "299964              1.1  \n",
              "299967              1.4  \n",
              "299991              1.5  \n",
              "\n",
              "[20712 rows x 8 columns]"
            ]
          },
          "metadata": {},
          "output_type": "display_data"
        }
      ],
      "source": []
    },
    {
      "cell_type": "markdown",
      "metadata": {
        "id": "EZtSIPM1Pe7u"
      },
      "source": [
        "### 78. Select the rows 2 to 7 and the columns 3 to 7 (both included)"
      ]
    },
    {
      "cell_type": "code",
      "execution_count": null,
      "metadata": {
        "id": "TOb6T1OfPe7u",
        "outputId": "ed8332d8-2aa2-49f7-d3cd-48e9ea64861c"
      },
      "outputs": [
        {
          "data": {
            "text/html": [
              "<div>\n",
              "<style scoped>\n",
              "    .dataframe tbody tr th:only-of-type {\n",
              "        vertical-align: middle;\n",
              "    }\n",
              "\n",
              "    .dataframe tbody tr th {\n",
              "        vertical-align: top;\n",
              "    }\n",
              "\n",
              "    .dataframe thead th {\n",
              "        text-align: right;\n",
              "    }\n",
              "</style>\n",
              "<table border=\"1\" class=\"dataframe\">\n",
              "  <thead>\n",
              "    <tr style=\"text-align: right;\">\n",
              "      <th></th>\n",
              "      <th>Employee_City</th>\n",
              "      <th>Employee_Country</th>\n",
              "      <th>Employee_Salary</th>\n",
              "      <th>Employment_Status</th>\n",
              "      <th>Employee_Rating</th>\n",
              "    </tr>\n",
              "  </thead>\n",
              "  <tbody>\n",
              "    <tr>\n",
              "      <th>2</th>\n",
              "      <td>Wardfort</td>\n",
              "      <td>Anguilla</td>\n",
              "      <td>630890.0</td>\n",
              "      <td>Full Time</td>\n",
              "      <td>3.1</td>\n",
              "    </tr>\n",
              "    <tr>\n",
              "      <th>3</th>\n",
              "      <td>West Jamesview</td>\n",
              "      <td>Syrian Arab Republic</td>\n",
              "      <td>116400.0</td>\n",
              "      <td>Full Time</td>\n",
              "      <td>3.1</td>\n",
              "    </tr>\n",
              "    <tr>\n",
              "      <th>4</th>\n",
              "      <td>Whiteside</td>\n",
              "      <td>Dominica</td>\n",
              "      <td>523499.0</td>\n",
              "      <td>Full Time</td>\n",
              "      <td>4.8</td>\n",
              "    </tr>\n",
              "    <tr>\n",
              "      <th>5</th>\n",
              "      <td>Ricardomouth</td>\n",
              "      <td>Mali</td>\n",
              "      <td>850140.0</td>\n",
              "      <td>Full Time</td>\n",
              "      <td>2.6</td>\n",
              "    </tr>\n",
              "    <tr>\n",
              "      <th>6</th>\n",
              "      <td>Wardfort</td>\n",
              "      <td>Aruba</td>\n",
              "      <td>711410.0</td>\n",
              "      <td>Full Time</td>\n",
              "      <td>2.0</td>\n",
              "    </tr>\n",
              "    <tr>\n",
              "      <th>7</th>\n",
              "      <td>Kristaburgh</td>\n",
              "      <td>Western Sahara</td>\n",
              "      <td>777000.0</td>\n",
              "      <td>Full Time</td>\n",
              "      <td>3.3</td>\n",
              "    </tr>\n",
              "  </tbody>\n",
              "</table>\n",
              "</div>"
            ],
            "text/plain": [
              "    Employee_City      Employee_Country  Employee_Salary Employment_Status  \\\n",
              "2        Wardfort              Anguilla         630890.0         Full Time   \n",
              "3  West Jamesview  Syrian Arab Republic         116400.0         Full Time   \n",
              "4       Whiteside              Dominica         523499.0         Full Time   \n",
              "5    Ricardomouth                  Mali         850140.0         Full Time   \n",
              "6        Wardfort                 Aruba         711410.0         Full Time   \n",
              "7     Kristaburgh        Western Sahara         777000.0         Full Time   \n",
              "\n",
              "   Employee_Rating  \n",
              "2              3.1  \n",
              "3              3.1  \n",
              "4              4.8  \n",
              "5              2.6  \n",
              "6              2.0  \n",
              "7              3.3  "
            ]
          },
          "metadata": {},
          "output_type": "display_data"
        }
      ],
      "source": []
    },
    {
      "cell_type": "markdown",
      "metadata": {
        "id": "syW_Y1NYPe7u"
      },
      "source": [
        "### 79. Select every row after the 10th row and select all columns."
      ]
    },
    {
      "cell_type": "code",
      "execution_count": null,
      "metadata": {
        "id": "gQh5Uh6fPe7u",
        "outputId": "7eb7d766-1b66-4ada-b8fc-be18187cc619"
      },
      "outputs": [
        {
          "data": {
            "text/html": [
              "<div>\n",
              "<style scoped>\n",
              "    .dataframe tbody tr th:only-of-type {\n",
              "        vertical-align: middle;\n",
              "    }\n",
              "\n",
              "    .dataframe tbody tr th {\n",
              "        vertical-align: top;\n",
              "    }\n",
              "\n",
              "    .dataframe thead th {\n",
              "        text-align: right;\n",
              "    }\n",
              "</style>\n",
              "<table border=\"1\" class=\"dataframe\">\n",
              "  <thead>\n",
              "    <tr style=\"text-align: right;\">\n",
              "      <th></th>\n",
              "      <th>Name</th>\n",
              "      <th>Company_Name</th>\n",
              "      <th>Employee_Job_Title</th>\n",
              "      <th>Employee_City</th>\n",
              "      <th>Employee_Country</th>\n",
              "      <th>Employee_Salary</th>\n",
              "      <th>Employment_Status</th>\n",
              "      <th>Employee_Rating</th>\n",
              "    </tr>\n",
              "  </thead>\n",
              "  <tbody>\n",
              "    <tr>\n",
              "      <th>10</th>\n",
              "      <td>Victoria Sutton</td>\n",
              "      <td>White, Mcclain and Cobb</td>\n",
              "      <td>Naval architect</td>\n",
              "      <td>Whiteside</td>\n",
              "      <td>Poland</td>\n",
              "      <td>656260.0</td>\n",
              "      <td>Full Time</td>\n",
              "      <td>4.9</td>\n",
              "    </tr>\n",
              "    <tr>\n",
              "      <th>11</th>\n",
              "      <td>Timothy Johnson</td>\n",
              "      <td>Baker, Allen and Edwards</td>\n",
              "      <td>Regulatory affairs officer</td>\n",
              "      <td>Ricardomouth</td>\n",
              "      <td>Georgia</td>\n",
              "      <td>503610.0</td>\n",
              "      <td>Full Time</td>\n",
              "      <td>2.9</td>\n",
              "    </tr>\n",
              "    <tr>\n",
              "      <th>12</th>\n",
              "      <td>Tiffany Galvan</td>\n",
              "      <td>Campos, Reynolds and Mccormick</td>\n",
              "      <td>Diplomatic Services operational officer</td>\n",
              "      <td>West Jamesview</td>\n",
              "      <td>Niger</td>\n",
              "      <td>786430.0</td>\n",
              "      <td>Intern</td>\n",
              "      <td>3.6</td>\n",
              "    </tr>\n",
              "    <tr>\n",
              "      <th>13</th>\n",
              "      <td>David Duran</td>\n",
              "      <td>Nichols-James</td>\n",
              "      <td>Investment banker, corporate</td>\n",
              "      <td>New Russellton</td>\n",
              "      <td>Georgia</td>\n",
              "      <td>910210.0</td>\n",
              "      <td>Full Time</td>\n",
              "      <td>4.9</td>\n",
              "    </tr>\n",
              "    <tr>\n",
              "      <th>14</th>\n",
              "      <td>Julie Cook</td>\n",
              "      <td>Matthews Inc</td>\n",
              "      <td>Equities trader</td>\n",
              "      <td>New Russellton</td>\n",
              "      <td>Puerto Rico</td>\n",
              "      <td>328860.0</td>\n",
              "      <td>Full Time</td>\n",
              "      <td>4.8</td>\n",
              "    </tr>\n",
              "    <tr>\n",
              "      <th>...</th>\n",
              "      <td>...</td>\n",
              "      <td>...</td>\n",
              "      <td>...</td>\n",
              "      <td>...</td>\n",
              "      <td>...</td>\n",
              "      <td>...</td>\n",
              "      <td>...</td>\n",
              "      <td>...</td>\n",
              "    </tr>\n",
              "    <tr>\n",
              "      <th>299995</th>\n",
              "      <td>Nancy Neal</td>\n",
              "      <td>Bullock-Carrillo</td>\n",
              "      <td>Optometrist</td>\n",
              "      <td>North Melissafurt</td>\n",
              "      <td>Samoa</td>\n",
              "      <td>99670.0</td>\n",
              "      <td>Intern</td>\n",
              "      <td>3.3</td>\n",
              "    </tr>\n",
              "    <tr>\n",
              "      <th>299996</th>\n",
              "      <td>Michele Butler</td>\n",
              "      <td>Johnston, Fleming and Tanner</td>\n",
              "      <td>Administrator</td>\n",
              "      <td>Aliciafort</td>\n",
              "      <td>Cuba</td>\n",
              "      <td>949580.0</td>\n",
              "      <td>Intern</td>\n",
              "      <td>2.6</td>\n",
              "    </tr>\n",
              "    <tr>\n",
              "      <th>299997</th>\n",
              "      <td>Lynn Wilson</td>\n",
              "      <td>Nichols-James</td>\n",
              "      <td>Administrator</td>\n",
              "      <td>New Cindychester</td>\n",
              "      <td>Bolivia</td>\n",
              "      <td>802830.0</td>\n",
              "      <td>Full Time</td>\n",
              "      <td>0.6</td>\n",
              "    </tr>\n",
              "    <tr>\n",
              "      <th>299998</th>\n",
              "      <td>Lindsey Keith</td>\n",
              "      <td>Nichols-James</td>\n",
              "      <td>Make</td>\n",
              "      <td>Whitakerbury</td>\n",
              "      <td>Western Sahara</td>\n",
              "      <td>257240.0</td>\n",
              "      <td>Full Time</td>\n",
              "      <td>2.4</td>\n",
              "    </tr>\n",
              "    <tr>\n",
              "      <th>299999</th>\n",
              "      <td>Karen Delgado</td>\n",
              "      <td>James and Sons</td>\n",
              "      <td>Actuary</td>\n",
              "      <td>New Russellton</td>\n",
              "      <td>United Kingdom</td>\n",
              "      <td>575770.0</td>\n",
              "      <td>Intern</td>\n",
              "      <td>3.3</td>\n",
              "    </tr>\n",
              "  </tbody>\n",
              "</table>\n",
              "<p>299990 rows × 8 columns</p>\n",
              "</div>"
            ],
            "text/plain": [
              "                   Name                    Company_Name  \\\n",
              "10      Victoria Sutton         White, Mcclain and Cobb   \n",
              "11      Timothy Johnson        Baker, Allen and Edwards   \n",
              "12       Tiffany Galvan  Campos, Reynolds and Mccormick   \n",
              "13          David Duran                   Nichols-James   \n",
              "14           Julie Cook                    Matthews Inc   \n",
              "...                 ...                             ...   \n",
              "299995       Nancy Neal                Bullock-Carrillo   \n",
              "299996   Michele Butler    Johnston, Fleming and Tanner   \n",
              "299997      Lynn Wilson                   Nichols-James   \n",
              "299998    Lindsey Keith                   Nichols-James   \n",
              "299999    Karen Delgado                  James and Sons   \n",
              "\n",
              "                             Employee_Job_Title      Employee_City  \\\n",
              "10                              Naval architect          Whiteside   \n",
              "11                   Regulatory affairs officer       Ricardomouth   \n",
              "12      Diplomatic Services operational officer     West Jamesview   \n",
              "13                 Investment banker, corporate     New Russellton   \n",
              "14                              Equities trader     New Russellton   \n",
              "...                                         ...                ...   \n",
              "299995                              Optometrist  North Melissafurt   \n",
              "299996                            Administrator         Aliciafort   \n",
              "299997                            Administrator   New Cindychester   \n",
              "299998                                     Make       Whitakerbury   \n",
              "299999                                  Actuary     New Russellton   \n",
              "\n",
              "       Employee_Country  Employee_Salary Employment_Status  Employee_Rating  \n",
              "10               Poland         656260.0         Full Time              4.9  \n",
              "11              Georgia         503610.0         Full Time              2.9  \n",
              "12                Niger         786430.0            Intern              3.6  \n",
              "13              Georgia         910210.0         Full Time              4.9  \n",
              "14          Puerto Rico         328860.0         Full Time              4.8  \n",
              "...                 ...              ...               ...              ...  \n",
              "299995            Samoa          99670.0            Intern              3.3  \n",
              "299996             Cuba         949580.0            Intern              2.6  \n",
              "299997          Bolivia         802830.0         Full Time              0.6  \n",
              "299998   Western Sahara         257240.0         Full Time              2.4  \n",
              "299999   United Kingdom         575770.0            Intern              3.3  \n",
              "\n",
              "[299990 rows x 8 columns]"
            ]
          },
          "metadata": {},
          "output_type": "display_data"
        }
      ],
      "source": []
    },
    {
      "cell_type": "markdown",
      "metadata": {
        "id": "_hwy-ERDPe7v"
      },
      "source": [
        "### 83. Print the name of the company with the maximum employees having rating > 4."
      ]
    },
    {
      "cell_type": "code",
      "execution_count": null,
      "metadata": {
        "id": "NsA3RrBfPe7v",
        "outputId": "7327d64e-3cc0-47e8-c5c6-62549879e853"
      },
      "outputs": [
        {
          "data": {
            "text/plain": [
              "'Matthews Inc'"
            ]
          },
          "metadata": {},
          "output_type": "display_data"
        }
      ],
      "source": []
    },
    {
      "cell_type": "markdown",
      "metadata": {
        "id": "JKgaAnx4Pe7v"
      },
      "source": [
        "### 88. Which is the most common first name in the dataframe?"
      ]
    },
    {
      "cell_type": "code",
      "execution_count": null,
      "metadata": {
        "id": "QqECvk_hPe7v",
        "outputId": "cabb2a23-39e8-4596-ef66-96d78f18076f"
      },
      "outputs": [
        {
          "data": {
            "text/plain": [
              "'Michael'"
            ]
          },
          "metadata": {},
          "output_type": "display_data"
        }
      ],
      "source": []
    },
    {
      "cell_type": "markdown",
      "metadata": {
        "id": "GNkCgUBPPe7w"
      },
      "source": [
        "### 90. What is the average name length?"
      ]
    },
    {
      "cell_type": "code",
      "execution_count": null,
      "metadata": {
        "id": "p8FEbitWPe7w",
        "outputId": "36196b79-5f95-46e0-a992-9d01d5bd885d"
      },
      "outputs": [
        {
          "data": {
            "text/plain": [
              "13.1079"
            ]
          },
          "metadata": {},
          "output_type": "display_data"
        }
      ],
      "source": []
    },
    {
      "cell_type": "markdown",
      "metadata": {
        "id": "VcXYo3iCPe7w"
      },
      "source": [
        "# Pandas Notebook 3"
      ]
    },
    {
      "cell_type": "code",
      "execution_count": null,
      "metadata": {
        "id": "FcTcKEiNPe7w"
      },
      "outputs": [],
      "source": [
        "import pandas as pd"
      ]
    },
    {
      "cell_type": "code",
      "execution_count": null,
      "metadata": {
        "id": "6y8q-7ecPe7x",
        "outputId": "f22f68aa-0b8f-4778-bfb1-f902f48f37f5"
      },
      "outputs": [
        {
          "data": {
            "text/html": [
              "<div>\n",
              "<style scoped>\n",
              "    .dataframe tbody tr th:only-of-type {\n",
              "        vertical-align: middle;\n",
              "    }\n",
              "\n",
              "    .dataframe tbody tr th {\n",
              "        vertical-align: top;\n",
              "    }\n",
              "\n",
              "    .dataframe thead th {\n",
              "        text-align: right;\n",
              "    }\n",
              "</style>\n",
              "<table border=\"1\" class=\"dataframe\">\n",
              "  <thead>\n",
              "    <tr style=\"text-align: right;\">\n",
              "      <th></th>\n",
              "      <th>Name</th>\n",
              "      <th>Company_Name</th>\n",
              "      <th>Employee_Job_Title</th>\n",
              "      <th>Employee_City</th>\n",
              "      <th>Employee_Country</th>\n",
              "      <th>Employee_Salary</th>\n",
              "      <th>Employment_Status</th>\n",
              "      <th>Employee_Rating</th>\n",
              "    </tr>\n",
              "  </thead>\n",
              "  <tbody>\n",
              "    <tr>\n",
              "      <th>0</th>\n",
              "      <td>Spencer Adkins</td>\n",
              "      <td>James and Sons</td>\n",
              "      <td>Equities trader</td>\n",
              "      <td>New Russellton</td>\n",
              "      <td>Palestinian Territory</td>\n",
              "      <td>321520</td>\n",
              "      <td>Full Time</td>\n",
              "      <td>3.9</td>\n",
              "    </tr>\n",
              "    <tr>\n",
              "      <th>1</th>\n",
              "      <td>Julie Morton</td>\n",
              "      <td>Nichols-James</td>\n",
              "      <td>Diplomatic Services operational officer</td>\n",
              "      <td>North Melissafurt</td>\n",
              "      <td>Marshall Islands</td>\n",
              "      <td>589090</td>\n",
              "      <td>Full Time</td>\n",
              "      <td>4.3</td>\n",
              "    </tr>\n",
              "    <tr>\n",
              "      <th>2</th>\n",
              "      <td>Matthew Hall</td>\n",
              "      <td>Scott Inc</td>\n",
              "      <td>Regulatory affairs officer</td>\n",
              "      <td>Wardfort</td>\n",
              "      <td>Anguilla</td>\n",
              "      <td>630890</td>\n",
              "      <td>Full Time</td>\n",
              "      <td>3.1</td>\n",
              "    </tr>\n",
              "    <tr>\n",
              "      <th>3</th>\n",
              "      <td>Brad Scott</td>\n",
              "      <td>Johnston, Fleming and Tanner</td>\n",
              "      <td>Production engineer</td>\n",
              "      <td>West Jamesview</td>\n",
              "      <td>Syrian Arab Republic</td>\n",
              "      <td>116400</td>\n",
              "      <td>Full Time</td>\n",
              "      <td>3.1</td>\n",
              "    </tr>\n",
              "    <tr>\n",
              "      <th>4</th>\n",
              "      <td>Theresa Owens</td>\n",
              "      <td>Baker, Allen and Edwards</td>\n",
              "      <td>Production engineer</td>\n",
              "      <td>Whiteside</td>\n",
              "      <td>Dominica</td>\n",
              "      <td>523499</td>\n",
              "      <td>Full Time</td>\n",
              "      <td>4.8</td>\n",
              "    </tr>\n",
              "  </tbody>\n",
              "</table>\n",
              "</div>"
            ],
            "text/plain": [
              "             Name                  Company_Name  \\\n",
              "0  Spencer Adkins                James and Sons   \n",
              "1    Julie Morton                 Nichols-James   \n",
              "2    Matthew Hall                     Scott Inc   \n",
              "3      Brad Scott  Johnston, Fleming and Tanner   \n",
              "4   Theresa Owens      Baker, Allen and Edwards   \n",
              "\n",
              "                        Employee_Job_Title      Employee_City  \\\n",
              "0                          Equities trader     New Russellton   \n",
              "1  Diplomatic Services operational officer  North Melissafurt   \n",
              "2               Regulatory affairs officer           Wardfort   \n",
              "3                      Production engineer     West Jamesview   \n",
              "4                      Production engineer          Whiteside   \n",
              "\n",
              "        Employee_Country  Employee_Salary Employment_Status  Employee_Rating  \n",
              "0  Palestinian Territory           321520         Full Time              3.9  \n",
              "1       Marshall Islands           589090         Full Time              4.3  \n",
              "2               Anguilla           630890         Full Time              3.1  \n",
              "3   Syrian Arab Republic           116400         Full Time              3.1  \n",
              "4               Dominica           523499         Full Time              4.8  "
            ]
          },
          "metadata": {},
          "output_type": "display_data"
        }
      ],
      "source": [
        "df = pd.read_csv(\"employee_dataset.csv\")\n"
      ]
    },
    {
      "cell_type": "markdown",
      "metadata": {
        "id": "5uwpv8QQPe7x"
      },
      "source": [
        "### 91. What is the ratio of total full-time employees to Interns?"
      ]
    },
    {
      "cell_type": "code",
      "execution_count": null,
      "metadata": {
        "id": "VlHgfIl8Pe7x",
        "outputId": "6a5d720a-8725-478d-afa3-f8d113729082"
      },
      "outputs": [
        {
          "data": {
            "text/plain": [
              "4.0008334722453744"
            ]
          },
          "metadata": {},
          "output_type": "display_data"
        }
      ],
      "source": [
        "rows = len(df)\n",
        "target = len(df[df[\"Employment_Status\"] == \"Full Time\"])\n",
        "ratio = target / rows"
      ]
    },
    {
      "cell_type": "markdown",
      "metadata": {
        "id": "v_ZnTPK2Pe7x"
      },
      "source": [
        "### 92. Starting from the first record, print every third record in the DataFrame."
      ]
    },
    {
      "cell_type": "markdown",
      "metadata": {
        "id": "CmL3VdqYPe7y"
      },
      "source": [
        "Print 1st row, then 4th, 7th, 10th, and so on..."
      ]
    },
    {
      "cell_type": "code",
      "execution_count": null,
      "metadata": {
        "id": "zetfxJSbPe7y",
        "outputId": "1c4417f4-a410-4eae-ef37-4fed904ff2c8"
      },
      "outputs": [
        {
          "data": {
            "text/html": [
              "<div>\n",
              "<style scoped>\n",
              "    .dataframe tbody tr th:only-of-type {\n",
              "        vertical-align: middle;\n",
              "    }\n",
              "\n",
              "    .dataframe tbody tr th {\n",
              "        vertical-align: top;\n",
              "    }\n",
              "\n",
              "    .dataframe thead th {\n",
              "        text-align: right;\n",
              "    }\n",
              "</style>\n",
              "<table border=\"1\" class=\"dataframe\">\n",
              "  <thead>\n",
              "    <tr style=\"text-align: right;\">\n",
              "      <th></th>\n",
              "      <th>Name</th>\n",
              "      <th>Company_Name</th>\n",
              "      <th>Employee_Job_Title</th>\n",
              "      <th>Employee_City</th>\n",
              "      <th>Employee_Country</th>\n",
              "      <th>Employee_Salary</th>\n",
              "      <th>Employment_Status</th>\n",
              "      <th>Employee_Rating</th>\n",
              "    </tr>\n",
              "  </thead>\n",
              "  <tbody>\n",
              "    <tr>\n",
              "      <th>0</th>\n",
              "      <td>Spencer Adkins</td>\n",
              "      <td>James and Sons</td>\n",
              "      <td>Equities trader</td>\n",
              "      <td>New Russellton</td>\n",
              "      <td>Palestinian Territory</td>\n",
              "      <td>321520</td>\n",
              "      <td>Full Time</td>\n",
              "      <td>3.9</td>\n",
              "    </tr>\n",
              "    <tr>\n",
              "      <th>3</th>\n",
              "      <td>Brad Scott</td>\n",
              "      <td>Johnston, Fleming and Tanner</td>\n",
              "      <td>Production engineer</td>\n",
              "      <td>West Jamesview</td>\n",
              "      <td>Syrian Arab Republic</td>\n",
              "      <td>116400</td>\n",
              "      <td>Full Time</td>\n",
              "      <td>3.1</td>\n",
              "    </tr>\n",
              "    <tr>\n",
              "      <th>6</th>\n",
              "      <td>Kelly Brown</td>\n",
              "      <td>Andrade LLC</td>\n",
              "      <td>Naval architect</td>\n",
              "      <td>Wardfort</td>\n",
              "      <td>Aruba</td>\n",
              "      <td>711410</td>\n",
              "      <td>Full Time</td>\n",
              "      <td>2.0</td>\n",
              "    </tr>\n",
              "    <tr>\n",
              "      <th>9</th>\n",
              "      <td>Michael Edwards</td>\n",
              "      <td>Campos, Reynolds and Mccormick</td>\n",
              "      <td>Ergonomist</td>\n",
              "      <td>New Cindychester</td>\n",
              "      <td>Lao People's Democratic Republic</td>\n",
              "      <td>516950</td>\n",
              "      <td>Full Time</td>\n",
              "      <td>2.3</td>\n",
              "    </tr>\n",
              "    <tr>\n",
              "      <th>12</th>\n",
              "      <td>Tiffany Galvan</td>\n",
              "      <td>Campos, Reynolds and Mccormick</td>\n",
              "      <td>Diplomatic Services operational officer</td>\n",
              "      <td>West Jamesview</td>\n",
              "      <td>Niger</td>\n",
              "      <td>786430</td>\n",
              "      <td>Intern</td>\n",
              "      <td>3.6</td>\n",
              "    </tr>\n",
              "    <tr>\n",
              "      <th>...</th>\n",
              "      <td>...</td>\n",
              "      <td>...</td>\n",
              "      <td>...</td>\n",
              "      <td>...</td>\n",
              "      <td>...</td>\n",
              "      <td>...</td>\n",
              "      <td>...</td>\n",
              "      <td>...</td>\n",
              "    </tr>\n",
              "    <tr>\n",
              "      <th>299985</th>\n",
              "      <td>Chase Stevens</td>\n",
              "      <td>Nelson-Li</td>\n",
              "      <td>Energy manager</td>\n",
              "      <td>Whitakerbury</td>\n",
              "      <td>Northern Mariana Islands</td>\n",
              "      <td>590590</td>\n",
              "      <td>Full Time</td>\n",
              "      <td>2.6</td>\n",
              "    </tr>\n",
              "    <tr>\n",
              "      <th>299988</th>\n",
              "      <td>Kenneth Hurley</td>\n",
              "      <td>Scott Inc</td>\n",
              "      <td>Make</td>\n",
              "      <td>New Russellton</td>\n",
              "      <td>Russian Federation</td>\n",
              "      <td>211180</td>\n",
              "      <td>Full Time</td>\n",
              "      <td>3.9</td>\n",
              "    </tr>\n",
              "    <tr>\n",
              "      <th>299991</th>\n",
              "      <td>William Rodriguez</td>\n",
              "      <td>Scott Inc</td>\n",
              "      <td>Ergonomist</td>\n",
              "      <td>Whiteside</td>\n",
              "      <td>New Zealand</td>\n",
              "      <td>214400</td>\n",
              "      <td>Full Time</td>\n",
              "      <td>1.5</td>\n",
              "    </tr>\n",
              "    <tr>\n",
              "      <th>299994</th>\n",
              "      <td>Kelly Bennett</td>\n",
              "      <td>White, Mcclain and Cobb</td>\n",
              "      <td>Radiographer, therapeutic</td>\n",
              "      <td>Wardfort</td>\n",
              "      <td>Fiji</td>\n",
              "      <td>182270</td>\n",
              "      <td>Full Time</td>\n",
              "      <td>3.6</td>\n",
              "    </tr>\n",
              "    <tr>\n",
              "      <th>299997</th>\n",
              "      <td>Lynn Wilson</td>\n",
              "      <td>Nichols-James</td>\n",
              "      <td>Administrator</td>\n",
              "      <td>New Cindychester</td>\n",
              "      <td>Bolivia</td>\n",
              "      <td>802830</td>\n",
              "      <td>Full Time</td>\n",
              "      <td>0.6</td>\n",
              "    </tr>\n",
              "  </tbody>\n",
              "</table>\n",
              "<p>100000 rows × 8 columns</p>\n",
              "</div>"
            ],
            "text/plain": [
              "                     Name                    Company_Name  \\\n",
              "0          Spencer Adkins                  James and Sons   \n",
              "3              Brad Scott    Johnston, Fleming and Tanner   \n",
              "6             Kelly Brown                     Andrade LLC   \n",
              "9         Michael Edwards  Campos, Reynolds and Mccormick   \n",
              "12         Tiffany Galvan  Campos, Reynolds and Mccormick   \n",
              "...                   ...                             ...   \n",
              "299985      Chase Stevens                       Nelson-Li   \n",
              "299988     Kenneth Hurley                       Scott Inc   \n",
              "299991  William Rodriguez                       Scott Inc   \n",
              "299994      Kelly Bennett         White, Mcclain and Cobb   \n",
              "299997        Lynn Wilson                   Nichols-James   \n",
              "\n",
              "                             Employee_Job_Title     Employee_City  \\\n",
              "0                               Equities trader    New Russellton   \n",
              "3                           Production engineer    West Jamesview   \n",
              "6                               Naval architect          Wardfort   \n",
              "9                                    Ergonomist  New Cindychester   \n",
              "12      Diplomatic Services operational officer    West Jamesview   \n",
              "...                                         ...               ...   \n",
              "299985                           Energy manager      Whitakerbury   \n",
              "299988                                     Make    New Russellton   \n",
              "299991                               Ergonomist         Whiteside   \n",
              "299994                Radiographer, therapeutic          Wardfort   \n",
              "299997                            Administrator  New Cindychester   \n",
              "\n",
              "                        Employee_Country  Employee_Salary Employment_Status  \\\n",
              "0                  Palestinian Territory           321520         Full Time   \n",
              "3                   Syrian Arab Republic           116400         Full Time   \n",
              "6                                  Aruba           711410         Full Time   \n",
              "9       Lao People's Democratic Republic           516950         Full Time   \n",
              "12                                 Niger           786430            Intern   \n",
              "...                                  ...              ...               ...   \n",
              "299985          Northern Mariana Islands           590590         Full Time   \n",
              "299988                Russian Federation           211180         Full Time   \n",
              "299991                       New Zealand           214400         Full Time   \n",
              "299994                              Fiji           182270         Full Time   \n",
              "299997                           Bolivia           802830         Full Time   \n",
              "\n",
              "        Employee_Rating  \n",
              "0                   3.9  \n",
              "3                   3.1  \n",
              "6                   2.0  \n",
              "9                   2.3  \n",
              "12                  3.6  \n",
              "...                 ...  \n",
              "299985              2.6  \n",
              "299988              3.9  \n",
              "299991              1.5  \n",
              "299994              3.6  \n",
              "299997              0.6  \n",
              "\n",
              "[100000 rows x 8 columns]"
            ]
          },
          "metadata": {},
          "output_type": "display_data"
        }
      ],
      "source": [
        "interval = 3\n",
        "select = df.iloc[::interval]\n",
        "print(select)"
      ]
    },
    {
      "cell_type": "markdown",
      "metadata": {
        "id": "wEIHS5YzPe7y"
      },
      "source": [
        "### 93. Find the average salary for every company."
      ]
    },
    {
      "cell_type": "code",
      "execution_count": null,
      "metadata": {
        "id": "vXDyK9zpPe7y",
        "outputId": "c1ccfcb2-5cc7-4e3a-c50b-7feb03b4a943"
      },
      "outputs": [
        {
          "data": {
            "text/plain": [
              "Company_Name\n",
              "Andrade LLC                       497237.159385\n",
              "Baker, Allen and Edwards          498032.358445\n",
              "Bullock-Carrillo                  499603.804865\n",
              "Campos, Reynolds and Mccormick    503528.982687\n",
              "James and Sons                    503581.015754\n",
              "Johnston, Fleming and Tanner      500579.128010\n",
              "Marshall-Holloway                 502314.169445\n",
              "Matthews Inc                      501640.159488\n",
              "Nelson-Li                         500569.824558\n",
              "Nichols-James                     497881.232334\n",
              "Scott Inc                         500491.809024\n",
              "Taylor-Ramos                      498747.292516\n",
              "Thomas-Spencer                    499350.850164\n",
              "Wallace, Smith and Shepard        500807.608810\n",
              "White, Mcclain and Cobb           499083.493806\n",
              "Name: Employee_Salary, dtype: float64"
            ]
          },
          "metadata": {},
          "output_type": "display_data"
        }
      ],
      "source": [
        "average_salary= df.groupby('Company_Name')['Employee_Salary'].mean()\n",
        "print(average_salary)"
      ]
    },
    {
      "cell_type": "markdown",
      "metadata": {
        "id": "9JDfHAIIPe7y"
      },
      "source": [
        "### 95. Find the average salary and average rating for every company in a single line."
      ]
    },
    {
      "cell_type": "code",
      "execution_count": null,
      "metadata": {
        "id": "Nrg4uySPPe7z",
        "outputId": "c5436c1d-9f1d-4726-fd29-17b6d4a32f00"
      },
      "outputs": [
        {
          "data": {
            "text/html": [
              "<div>\n",
              "<style scoped>\n",
              "    .dataframe tbody tr th:only-of-type {\n",
              "        vertical-align: middle;\n",
              "    }\n",
              "\n",
              "    .dataframe tbody tr th {\n",
              "        vertical-align: top;\n",
              "    }\n",
              "\n",
              "    .dataframe thead th {\n",
              "        text-align: right;\n",
              "    }\n",
              "</style>\n",
              "<table border=\"1\" class=\"dataframe\">\n",
              "  <thead>\n",
              "    <tr style=\"text-align: right;\">\n",
              "      <th></th>\n",
              "      <th>Employee_Salary</th>\n",
              "      <th>Employee_Rating</th>\n",
              "    </tr>\n",
              "    <tr>\n",
              "      <th>Company_Name</th>\n",
              "      <th></th>\n",
              "      <th></th>\n",
              "    </tr>\n",
              "  </thead>\n",
              "  <tbody>\n",
              "    <tr>\n",
              "      <th>Andrade LLC</th>\n",
              "      <td>497237.159385</td>\n",
              "      <td>2.498218</td>\n",
              "    </tr>\n",
              "    <tr>\n",
              "      <th>Baker, Allen and Edwards</th>\n",
              "      <td>498032.358445</td>\n",
              "      <td>2.504795</td>\n",
              "    </tr>\n",
              "    <tr>\n",
              "      <th>Bullock-Carrillo</th>\n",
              "      <td>499603.804865</td>\n",
              "      <td>2.502014</td>\n",
              "    </tr>\n",
              "    <tr>\n",
              "      <th>Campos, Reynolds and Mccormick</th>\n",
              "      <td>503528.982687</td>\n",
              "      <td>2.506288</td>\n",
              "    </tr>\n",
              "    <tr>\n",
              "      <th>James and Sons</th>\n",
              "      <td>503581.015754</td>\n",
              "      <td>2.505023</td>\n",
              "    </tr>\n",
              "    <tr>\n",
              "      <th>Johnston, Fleming and Tanner</th>\n",
              "      <td>500579.128010</td>\n",
              "      <td>2.513159</td>\n",
              "    </tr>\n",
              "    <tr>\n",
              "      <th>Marshall-Holloway</th>\n",
              "      <td>502314.169445</td>\n",
              "      <td>2.504900</td>\n",
              "    </tr>\n",
              "    <tr>\n",
              "      <th>Matthews Inc</th>\n",
              "      <td>501640.159488</td>\n",
              "      <td>2.525454</td>\n",
              "    </tr>\n",
              "    <tr>\n",
              "      <th>Nelson-Li</th>\n",
              "      <td>500569.824558</td>\n",
              "      <td>2.504649</td>\n",
              "    </tr>\n",
              "    <tr>\n",
              "      <th>Nichols-James</th>\n",
              "      <td>497881.232334</td>\n",
              "      <td>2.488554</td>\n",
              "    </tr>\n",
              "    <tr>\n",
              "      <th>Scott Inc</th>\n",
              "      <td>500491.809024</td>\n",
              "      <td>2.515993</td>\n",
              "    </tr>\n",
              "    <tr>\n",
              "      <th>Taylor-Ramos</th>\n",
              "      <td>498747.292516</td>\n",
              "      <td>2.513150</td>\n",
              "    </tr>\n",
              "    <tr>\n",
              "      <th>Thomas-Spencer</th>\n",
              "      <td>499350.850164</td>\n",
              "      <td>2.505114</td>\n",
              "    </tr>\n",
              "    <tr>\n",
              "      <th>Wallace, Smith and Shepard</th>\n",
              "      <td>500807.608810</td>\n",
              "      <td>2.497402</td>\n",
              "    </tr>\n",
              "    <tr>\n",
              "      <th>White, Mcclain and Cobb</th>\n",
              "      <td>499083.493806</td>\n",
              "      <td>2.504047</td>\n",
              "    </tr>\n",
              "  </tbody>\n",
              "</table>\n",
              "</div>"
            ],
            "text/plain": [
              "                                Employee_Salary  Employee_Rating\n",
              "Company_Name                                                    \n",
              "Andrade LLC                       497237.159385         2.498218\n",
              "Baker, Allen and Edwards          498032.358445         2.504795\n",
              "Bullock-Carrillo                  499603.804865         2.502014\n",
              "Campos, Reynolds and Mccormick    503528.982687         2.506288\n",
              "James and Sons                    503581.015754         2.505023\n",
              "Johnston, Fleming and Tanner      500579.128010         2.513159\n",
              "Marshall-Holloway                 502314.169445         2.504900\n",
              "Matthews Inc                      501640.159488         2.525454\n",
              "Nelson-Li                         500569.824558         2.504649\n",
              "Nichols-James                     497881.232334         2.488554\n",
              "Scott Inc                         500491.809024         2.515993\n",
              "Taylor-Ramos                      498747.292516         2.513150\n",
              "Thomas-Spencer                    499350.850164         2.505114\n",
              "Wallace, Smith and Shepard        500807.608810         2.497402\n",
              "White, Mcclain and Cobb           499083.493806         2.504047"
            ]
          },
          "metadata": {},
          "output_type": "display_data"
        }
      ],
      "source": [
        "average_data = df.groupby('Company_Name')[['Employee_Salary', 'Employee_Rating']].mean().reset_index()"
      ]
    },
    {
      "cell_type": "markdown",
      "metadata": {
        "id": "F2VHx3CnPe7z"
      },
      "source": [
        "### 96. Find the number of unique Employee_City corresponding to every Company_Name."
      ]
    },
    {
      "cell_type": "code",
      "execution_count": null,
      "metadata": {
        "id": "XgsJfd2jPe7z"
      },
      "outputs": [],
      "source": [
        "city = df.groupby('Company_Name')['Employee_City'].nunique().reset_index()\n",
        "print(city)"
      ]
    },
    {
      "cell_type": "markdown",
      "metadata": {
        "id": "4VvbGXqlPe70"
      },
      "source": [
        "### 98. Print the number of full-time and intern employees for every company"
      ]
    },
    {
      "cell_type": "code",
      "execution_count": null,
      "metadata": {
        "id": "Gln5msczPe70",
        "outputId": "253b73aa-c578-4c89-f935-33689adbce10"
      },
      "outputs": [
        {
          "data": {
            "text/plain": [
              "Company_Name                    Employment_Status\n",
              "Andrade LLC                     Full Time            15964\n",
              "                                Intern                4019\n",
              "Baker, Allen and Edwards        Full Time            16118\n",
              "                                Intern                3966\n",
              "Bullock-Carrillo                Full Time            16135\n",
              "                                Intern                3928\n",
              "Campos, Reynolds and Mccormick  Full Time            15930\n",
              "                                Intern                3997\n",
              "James and Sons                  Full Time            15888\n",
              "                                Intern                3980\n",
              "Johnston, Fleming and Tanner    Full Time            15832\n",
              "                                Intern                3979\n",
              "Marshall-Holloway               Full Time            15871\n",
              "                                Intern                3988\n",
              "Matthews Inc                    Full Time            16082\n",
              "                                Intern                4001\n",
              "Nelson-Li                       Full Time            16027\n",
              "                                Intern                4105\n",
              "Nichols-James                   Full Time            15872\n",
              "                                Intern                4039\n",
              "Scott Inc                       Full Time            16396\n",
              "                                Intern                3994\n",
              "Taylor-Ramos                    Full Time            16086\n",
              "                                Intern                4036\n",
              "Thomas-Spencer                  Full Time            16037\n",
              "                                Intern                4105\n",
              "Wallace, Smith and Shepard      Full Time            15467\n",
              "                                Intern                3897\n",
              "White, Mcclain and Cobb         Full Time            16305\n",
              "                                Intern                3956\n",
              "Name: Employment_Status, dtype: int64"
            ]
          },
          "metadata": {},
          "output_type": "display_data"
        }
      ],
      "source": [
        "employee = df.groupby(['Company_Name', 'Employment_Status']).size().unstack(fill_value=0).reset_index()\n",
        "print(employee)"
      ]
    },
    {
      "cell_type": "markdown",
      "metadata": {
        "id": "ngQliglUPe70"
      },
      "source": [
        "### 99. Print the job title with the most employees."
      ]
    },
    {
      "cell_type": "code",
      "execution_count": null,
      "metadata": {
        "id": "zKOcaxGhPe70",
        "outputId": "e4bcfa80-e62e-4ea5-93f2-c0ef98b3b8b3"
      },
      "outputs": [
        {
          "data": {
            "text/plain": [
              "'Diplomatic Services operational officer'"
            ]
          },
          "metadata": {},
          "output_type": "display_data"
        }
      ],
      "source": [
        "frequency = df[\"Employee_Job_Title\"].value_counts().idxmax()\n",
        "print(frequency)"
      ]
    },
    {
      "cell_type": "markdown",
      "metadata": {
        "id": "wa-4WcqRPe70"
      },
      "source": [
        "### 107. Check if the substring 'Michael Edward' appears in the Name column or not."
      ]
    },
    {
      "cell_type": "code",
      "execution_count": null,
      "metadata": {
        "id": "-Z4xky-rPe71",
        "outputId": "a7c7147c-ad27-4ccd-e7c6-a4fbbaaa4100"
      },
      "outputs": [
        {
          "data": {
            "text/html": [
              "<div>\n",
              "<style scoped>\n",
              "    .dataframe tbody tr th:only-of-type {\n",
              "        vertical-align: middle;\n",
              "    }\n",
              "\n",
              "    .dataframe tbody tr th {\n",
              "        vertical-align: top;\n",
              "    }\n",
              "\n",
              "    .dataframe thead th {\n",
              "        text-align: right;\n",
              "    }\n",
              "</style>\n",
              "<table border=\"1\" class=\"dataframe\">\n",
              "  <thead>\n",
              "    <tr style=\"text-align: right;\">\n",
              "      <th></th>\n",
              "      <th>Name</th>\n",
              "      <th>Company_Name</th>\n",
              "      <th>Employee_Job_Title</th>\n",
              "      <th>Employee_City</th>\n",
              "      <th>Employee_Country</th>\n",
              "      <th>Employee_Salary</th>\n",
              "      <th>Employment_Status</th>\n",
              "      <th>Employee_Rating</th>\n",
              "    </tr>\n",
              "  </thead>\n",
              "  <tbody>\n",
              "    <tr>\n",
              "      <th>9</th>\n",
              "      <td>Michael Edwards</td>\n",
              "      <td>Campos, Reynolds and Mccormick</td>\n",
              "      <td>Ergonomist</td>\n",
              "      <td>New Cindychester</td>\n",
              "      <td>Lao People's Democratic Republic</td>\n",
              "      <td>516950</td>\n",
              "      <td>Full Time</td>\n",
              "      <td>2.3</td>\n",
              "    </tr>\n",
              "    <tr>\n",
              "      <th>5255</th>\n",
              "      <td>Michael Edwards</td>\n",
              "      <td>Johnston, Fleming and Tanner</td>\n",
              "      <td>Regulatory affairs officer</td>\n",
              "      <td>West Jamesview</td>\n",
              "      <td>Brazil</td>\n",
              "      <td>822420</td>\n",
              "      <td>Intern</td>\n",
              "      <td>3.5</td>\n",
              "    </tr>\n",
              "    <tr>\n",
              "      <th>18849</th>\n",
              "      <td>Michael Edwards</td>\n",
              "      <td>White, Mcclain and Cobb</td>\n",
              "      <td>Armed forces logistics/support/administrative ...</td>\n",
              "      <td>Whiteside</td>\n",
              "      <td>Croatia</td>\n",
              "      <td>818710</td>\n",
              "      <td>Full Time</td>\n",
              "      <td>2.8</td>\n",
              "    </tr>\n",
              "    <tr>\n",
              "      <th>25616</th>\n",
              "      <td>Michael Edwards</td>\n",
              "      <td>Bullock-Carrillo</td>\n",
              "      <td>Trading standards officer</td>\n",
              "      <td>Wardfort</td>\n",
              "      <td>Greenland</td>\n",
              "      <td>467160</td>\n",
              "      <td>Intern</td>\n",
              "      <td>2.1</td>\n",
              "    </tr>\n",
              "    <tr>\n",
              "      <th>31519</th>\n",
              "      <td>Michael Edwards</td>\n",
              "      <td>Nelson-Li</td>\n",
              "      <td>Patent examiner</td>\n",
              "      <td>Whiteside</td>\n",
              "      <td>Kuwait</td>\n",
              "      <td>287350</td>\n",
              "      <td>Full Time</td>\n",
              "      <td>1.8</td>\n",
              "    </tr>\n",
              "    <tr>\n",
              "      <th>112668</th>\n",
              "      <td>Michael Edwards</td>\n",
              "      <td>Scott Inc</td>\n",
              "      <td>Equities trader</td>\n",
              "      <td>West Jamesview</td>\n",
              "      <td>Northern Mariana Islands</td>\n",
              "      <td>21540</td>\n",
              "      <td>Full Time</td>\n",
              "      <td>1.5</td>\n",
              "    </tr>\n",
              "    <tr>\n",
              "      <th>114386</th>\n",
              "      <td>Michael Edwards</td>\n",
              "      <td>Nichols-James</td>\n",
              "      <td>Patent examiner</td>\n",
              "      <td>Whitakerbury</td>\n",
              "      <td>Iceland</td>\n",
              "      <td>687630</td>\n",
              "      <td>Intern</td>\n",
              "      <td>2.1</td>\n",
              "    </tr>\n",
              "    <tr>\n",
              "      <th>124065</th>\n",
              "      <td>Michael Edwards</td>\n",
              "      <td>White, Mcclain and Cobb</td>\n",
              "      <td>Diplomatic Services operational officer</td>\n",
              "      <td>Ricardomouth</td>\n",
              "      <td>Central African Republic</td>\n",
              "      <td>546870</td>\n",
              "      <td>Full Time</td>\n",
              "      <td>1.4</td>\n",
              "    </tr>\n",
              "    <tr>\n",
              "      <th>135078</th>\n",
              "      <td>Michael Edwards</td>\n",
              "      <td>Matthews Inc</td>\n",
              "      <td>Patent examiner</td>\n",
              "      <td>Wardfort</td>\n",
              "      <td>Grenada</td>\n",
              "      <td>209030</td>\n",
              "      <td>Full Time</td>\n",
              "      <td>2.2</td>\n",
              "    </tr>\n",
              "    <tr>\n",
              "      <th>149363</th>\n",
              "      <td>Michael Edwards</td>\n",
              "      <td>Scott Inc</td>\n",
              "      <td>Diplomatic Services operational officer</td>\n",
              "      <td>Wardfort</td>\n",
              "      <td>Chile</td>\n",
              "      <td>254160</td>\n",
              "      <td>Intern</td>\n",
              "      <td>1.2</td>\n",
              "    </tr>\n",
              "    <tr>\n",
              "      <th>158104</th>\n",
              "      <td>Michael Edwards</td>\n",
              "      <td>Wallace, Smith and Shepard</td>\n",
              "      <td>Regulatory affairs officer</td>\n",
              "      <td>New Russellton</td>\n",
              "      <td>Angola</td>\n",
              "      <td>121770</td>\n",
              "      <td>Full Time</td>\n",
              "      <td>1.1</td>\n",
              "    </tr>\n",
              "    <tr>\n",
              "      <th>191831</th>\n",
              "      <td>Michael Edwards</td>\n",
              "      <td>Wallace, Smith and Shepard</td>\n",
              "      <td>Trading standards officer</td>\n",
              "      <td>Aliciafort</td>\n",
              "      <td>Israel</td>\n",
              "      <td>854420</td>\n",
              "      <td>Full Time</td>\n",
              "      <td>4.8</td>\n",
              "    </tr>\n",
              "    <tr>\n",
              "      <th>193911</th>\n",
              "      <td>Michael Edwards</td>\n",
              "      <td>Baker, Allen and Edwards</td>\n",
              "      <td>Investment banker, corporate</td>\n",
              "      <td>New Cindychester</td>\n",
              "      <td>Lesotho</td>\n",
              "      <td>365180</td>\n",
              "      <td>Full Time</td>\n",
              "      <td>1.8</td>\n",
              "    </tr>\n",
              "    <tr>\n",
              "      <th>205550</th>\n",
              "      <td>Michael Edwards</td>\n",
              "      <td>Johnston, Fleming and Tanner</td>\n",
              "      <td>Patent examiner</td>\n",
              "      <td>Wardfort</td>\n",
              "      <td>Belgium</td>\n",
              "      <td>579130</td>\n",
              "      <td>Intern</td>\n",
              "      <td>4.7</td>\n",
              "    </tr>\n",
              "    <tr>\n",
              "      <th>210504</th>\n",
              "      <td>Michael Edwards</td>\n",
              "      <td>White, Mcclain and Cobb</td>\n",
              "      <td>Ergonomist</td>\n",
              "      <td>Whiteside</td>\n",
              "      <td>Philippines</td>\n",
              "      <td>150730</td>\n",
              "      <td>Full Time</td>\n",
              "      <td>3.2</td>\n",
              "    </tr>\n",
              "    <tr>\n",
              "      <th>217498</th>\n",
              "      <td>Michael Edwards</td>\n",
              "      <td>Johnston, Fleming and Tanner</td>\n",
              "      <td>Actuary</td>\n",
              "      <td>Wardfort</td>\n",
              "      <td>Trinidad and Tobago</td>\n",
              "      <td>600090</td>\n",
              "      <td>Full Time</td>\n",
              "      <td>0.8</td>\n",
              "    </tr>\n",
              "    <tr>\n",
              "      <th>217970</th>\n",
              "      <td>Michael Edwards</td>\n",
              "      <td>Bullock-Carrillo</td>\n",
              "      <td>Equities trader</td>\n",
              "      <td>West Jamesview</td>\n",
              "      <td>Slovakia (Slovak Republic)</td>\n",
              "      <td>698220</td>\n",
              "      <td>Full Time</td>\n",
              "      <td>0.7</td>\n",
              "    </tr>\n",
              "    <tr>\n",
              "      <th>227767</th>\n",
              "      <td>Michael Edwards</td>\n",
              "      <td>Marshall-Holloway</td>\n",
              "      <td>Armed forces logistics/support/administrative ...</td>\n",
              "      <td>North Melissafurt</td>\n",
              "      <td>Ghana</td>\n",
              "      <td>565940</td>\n",
              "      <td>Intern</td>\n",
              "      <td>4.4</td>\n",
              "    </tr>\n",
              "    <tr>\n",
              "      <th>229786</th>\n",
              "      <td>Michael Edwards</td>\n",
              "      <td>Scott Inc</td>\n",
              "      <td>Diplomatic Services operational officer</td>\n",
              "      <td>Whitakerbury</td>\n",
              "      <td>Turks and Caicos Islands</td>\n",
              "      <td>105450</td>\n",
              "      <td>Intern</td>\n",
              "      <td>2.6</td>\n",
              "    </tr>\n",
              "    <tr>\n",
              "      <th>267189</th>\n",
              "      <td>Michael Edwards</td>\n",
              "      <td>James and Sons</td>\n",
              "      <td>Make</td>\n",
              "      <td>Ricardomouth</td>\n",
              "      <td>Paraguay</td>\n",
              "      <td>391700</td>\n",
              "      <td>Intern</td>\n",
              "      <td>1.4</td>\n",
              "    </tr>\n",
              "    <tr>\n",
              "      <th>276731</th>\n",
              "      <td>Michael Edwards</td>\n",
              "      <td>Campos, Reynolds and Mccormick</td>\n",
              "      <td>Armed forces logistics/support/administrative ...</td>\n",
              "      <td>North Melissafurt</td>\n",
              "      <td>Serbia</td>\n",
              "      <td>865280</td>\n",
              "      <td>Intern</td>\n",
              "      <td>0.7</td>\n",
              "    </tr>\n",
              "    <tr>\n",
              "      <th>282601</th>\n",
              "      <td>Michael Edwards</td>\n",
              "      <td>White, Mcclain and Cobb</td>\n",
              "      <td>Naval architect</td>\n",
              "      <td>Wardfort</td>\n",
              "      <td>Cambodia</td>\n",
              "      <td>855180</td>\n",
              "      <td>Intern</td>\n",
              "      <td>4.7</td>\n",
              "    </tr>\n",
              "    <tr>\n",
              "      <th>287887</th>\n",
              "      <td>Michael Edwards</td>\n",
              "      <td>Scott Inc</td>\n",
              "      <td>Investment banker, corporate</td>\n",
              "      <td>Aliciafort</td>\n",
              "      <td>Belize</td>\n",
              "      <td>69680</td>\n",
              "      <td>Intern</td>\n",
              "      <td>1.9</td>\n",
              "    </tr>\n",
              "    <tr>\n",
              "      <th>298857</th>\n",
              "      <td>Michael Edwards</td>\n",
              "      <td>White, Mcclain and Cobb</td>\n",
              "      <td>Make</td>\n",
              "      <td>New Cindychester</td>\n",
              "      <td>Macao</td>\n",
              "      <td>318800</td>\n",
              "      <td>Full Time</td>\n",
              "      <td>3.6</td>\n",
              "    </tr>\n",
              "  </tbody>\n",
              "</table>\n",
              "</div>"
            ],
            "text/plain": [
              "                   Name                    Company_Name  \\\n",
              "9       Michael Edwards  Campos, Reynolds and Mccormick   \n",
              "5255    Michael Edwards    Johnston, Fleming and Tanner   \n",
              "18849   Michael Edwards         White, Mcclain and Cobb   \n",
              "25616   Michael Edwards                Bullock-Carrillo   \n",
              "31519   Michael Edwards                       Nelson-Li   \n",
              "112668  Michael Edwards                       Scott Inc   \n",
              "114386  Michael Edwards                   Nichols-James   \n",
              "124065  Michael Edwards         White, Mcclain and Cobb   \n",
              "135078  Michael Edwards                    Matthews Inc   \n",
              "149363  Michael Edwards                       Scott Inc   \n",
              "158104  Michael Edwards      Wallace, Smith and Shepard   \n",
              "191831  Michael Edwards      Wallace, Smith and Shepard   \n",
              "193911  Michael Edwards        Baker, Allen and Edwards   \n",
              "205550  Michael Edwards    Johnston, Fleming and Tanner   \n",
              "210504  Michael Edwards         White, Mcclain and Cobb   \n",
              "217498  Michael Edwards    Johnston, Fleming and Tanner   \n",
              "217970  Michael Edwards                Bullock-Carrillo   \n",
              "227767  Michael Edwards               Marshall-Holloway   \n",
              "229786  Michael Edwards                       Scott Inc   \n",
              "267189  Michael Edwards                  James and Sons   \n",
              "276731  Michael Edwards  Campos, Reynolds and Mccormick   \n",
              "282601  Michael Edwards         White, Mcclain and Cobb   \n",
              "287887  Michael Edwards                       Scott Inc   \n",
              "298857  Michael Edwards         White, Mcclain and Cobb   \n",
              "\n",
              "                                       Employee_Job_Title      Employee_City  \\\n",
              "9                                              Ergonomist   New Cindychester   \n",
              "5255                           Regulatory affairs officer     West Jamesview   \n",
              "18849   Armed forces logistics/support/administrative ...          Whiteside   \n",
              "25616                           Trading standards officer           Wardfort   \n",
              "31519                                     Patent examiner          Whiteside   \n",
              "112668                                    Equities trader     West Jamesview   \n",
              "114386                                    Patent examiner       Whitakerbury   \n",
              "124065            Diplomatic Services operational officer       Ricardomouth   \n",
              "135078                                    Patent examiner           Wardfort   \n",
              "149363            Diplomatic Services operational officer           Wardfort   \n",
              "158104                         Regulatory affairs officer     New Russellton   \n",
              "191831                          Trading standards officer         Aliciafort   \n",
              "193911                       Investment banker, corporate   New Cindychester   \n",
              "205550                                    Patent examiner           Wardfort   \n",
              "210504                                         Ergonomist          Whiteside   \n",
              "217498                                            Actuary           Wardfort   \n",
              "217970                                    Equities trader     West Jamesview   \n",
              "227767  Armed forces logistics/support/administrative ...  North Melissafurt   \n",
              "229786            Diplomatic Services operational officer       Whitakerbury   \n",
              "267189                                               Make       Ricardomouth   \n",
              "276731  Armed forces logistics/support/administrative ...  North Melissafurt   \n",
              "282601                                    Naval architect           Wardfort   \n",
              "287887                       Investment banker, corporate         Aliciafort   \n",
              "298857                                               Make   New Cindychester   \n",
              "\n",
              "                        Employee_Country  Employee_Salary Employment_Status  \\\n",
              "9       Lao People's Democratic Republic           516950         Full Time   \n",
              "5255                              Brazil           822420            Intern   \n",
              "18849                            Croatia           818710         Full Time   \n",
              "25616                          Greenland           467160            Intern   \n",
              "31519                             Kuwait           287350         Full Time   \n",
              "112668          Northern Mariana Islands            21540         Full Time   \n",
              "114386                           Iceland           687630            Intern   \n",
              "124065          Central African Republic           546870         Full Time   \n",
              "135078                           Grenada           209030         Full Time   \n",
              "149363                             Chile           254160            Intern   \n",
              "158104                            Angola           121770         Full Time   \n",
              "191831                            Israel           854420         Full Time   \n",
              "193911                           Lesotho           365180         Full Time   \n",
              "205550                           Belgium           579130            Intern   \n",
              "210504                       Philippines           150730         Full Time   \n",
              "217498               Trinidad and Tobago           600090         Full Time   \n",
              "217970        Slovakia (Slovak Republic)           698220         Full Time   \n",
              "227767                             Ghana           565940            Intern   \n",
              "229786          Turks and Caicos Islands           105450            Intern   \n",
              "267189                          Paraguay           391700            Intern   \n",
              "276731                            Serbia           865280            Intern   \n",
              "282601                          Cambodia           855180            Intern   \n",
              "287887                            Belize            69680            Intern   \n",
              "298857                             Macao           318800         Full Time   \n",
              "\n",
              "        Employee_Rating  \n",
              "9                   2.3  \n",
              "5255                3.5  \n",
              "18849               2.8  \n",
              "25616               2.1  \n",
              "31519               1.8  \n",
              "112668              1.5  \n",
              "114386              2.1  \n",
              "124065              1.4  \n",
              "135078              2.2  \n",
              "149363              1.2  \n",
              "158104              1.1  \n",
              "191831              4.8  \n",
              "193911              1.8  \n",
              "205550              4.7  \n",
              "210504              3.2  \n",
              "217498              0.8  \n",
              "217970              0.7  \n",
              "227767              4.4  \n",
              "229786              2.6  \n",
              "267189              1.4  \n",
              "276731              0.7  \n",
              "282601              4.7  \n",
              "287887              1.9  \n",
              "298857              3.6  "
            ]
          },
          "metadata": {},
          "output_type": "display_data"
        }
      ],
      "source": [
        "result = df['Name'].str.contains('Michael Edward').any()\n",
        "print(result)"
      ]
    },
    {
      "cell_type": "markdown",
      "metadata": {
        "id": "dFvkiETQPe71"
      },
      "source": [
        "### 110. Print the number of records whose company name contains the substring 'LL' (case-insensitive)."
      ]
    },
    {
      "cell_type": "code",
      "execution_count": null,
      "metadata": {
        "id": "N3o9cFLRPe71",
        "outputId": "e0081780-c51c-4163-9198-13dd385a43fb"
      },
      "outputs": [
        {
          "data": {
            "text/html": [
              "<div>\n",
              "<style scoped>\n",
              "    .dataframe tbody tr th:only-of-type {\n",
              "        vertical-align: middle;\n",
              "    }\n",
              "\n",
              "    .dataframe tbody tr th {\n",
              "        vertical-align: top;\n",
              "    }\n",
              "\n",
              "    .dataframe thead th {\n",
              "        text-align: right;\n",
              "    }\n",
              "</style>\n",
              "<table border=\"1\" class=\"dataframe\">\n",
              "  <thead>\n",
              "    <tr style=\"text-align: right;\">\n",
              "      <th></th>\n",
              "      <th>Name</th>\n",
              "      <th>Company_Name</th>\n",
              "      <th>Employee_Job_Title</th>\n",
              "      <th>Employee_City</th>\n",
              "      <th>Employee_Country</th>\n",
              "      <th>Employee_Salary</th>\n",
              "      <th>Employment_Status</th>\n",
              "      <th>Employee_Rating</th>\n",
              "    </tr>\n",
              "  </thead>\n",
              "  <tbody>\n",
              "    <tr>\n",
              "      <th>4</th>\n",
              "      <td>Theresa Owens</td>\n",
              "      <td>Baker, Allen and Edwards</td>\n",
              "      <td>Production engineer</td>\n",
              "      <td>Whiteside</td>\n",
              "      <td>Dominica</td>\n",
              "      <td>523499</td>\n",
              "      <td>Full Time</td>\n",
              "      <td>4.8</td>\n",
              "    </tr>\n",
              "    <tr>\n",
              "      <th>5</th>\n",
              "      <td>Vanessa Allen</td>\n",
              "      <td>Andrade LLC</td>\n",
              "      <td>Make</td>\n",
              "      <td>Ricardomouth</td>\n",
              "      <td>Mali</td>\n",
              "      <td>850140</td>\n",
              "      <td>Full Time</td>\n",
              "      <td>2.6</td>\n",
              "    </tr>\n",
              "    <tr>\n",
              "      <th>6</th>\n",
              "      <td>Kelly Brown</td>\n",
              "      <td>Andrade LLC</td>\n",
              "      <td>Naval architect</td>\n",
              "      <td>Wardfort</td>\n",
              "      <td>Aruba</td>\n",
              "      <td>711410</td>\n",
              "      <td>Full Time</td>\n",
              "      <td>2.0</td>\n",
              "    </tr>\n",
              "    <tr>\n",
              "      <th>11</th>\n",
              "      <td>Timothy Johnson</td>\n",
              "      <td>Baker, Allen and Edwards</td>\n",
              "      <td>Regulatory affairs officer</td>\n",
              "      <td>Ricardomouth</td>\n",
              "      <td>Georgia</td>\n",
              "      <td>503610</td>\n",
              "      <td>Full Time</td>\n",
              "      <td>2.9</td>\n",
              "    </tr>\n",
              "    <tr>\n",
              "      <th>18</th>\n",
              "      <td>Carrie Woods</td>\n",
              "      <td>Bullock-Carrillo</td>\n",
              "      <td>Ergonomist</td>\n",
              "      <td>New Russellton</td>\n",
              "      <td>Gabon</td>\n",
              "      <td>985290</td>\n",
              "      <td>Full Time</td>\n",
              "      <td>2.4</td>\n",
              "    </tr>\n",
              "    <tr>\n",
              "      <th>...</th>\n",
              "      <td>...</td>\n",
              "      <td>...</td>\n",
              "      <td>...</td>\n",
              "      <td>...</td>\n",
              "      <td>...</td>\n",
              "      <td>...</td>\n",
              "      <td>...</td>\n",
              "      <td>...</td>\n",
              "    </tr>\n",
              "    <tr>\n",
              "      <th>299977</th>\n",
              "      <td>Anthony Hughes</td>\n",
              "      <td>Bullock-Carrillo</td>\n",
              "      <td>Sales promotion account executive</td>\n",
              "      <td>Whitakerbury</td>\n",
              "      <td>Georgia</td>\n",
              "      <td>464910</td>\n",
              "      <td>Full Time</td>\n",
              "      <td>4.1</td>\n",
              "    </tr>\n",
              "    <tr>\n",
              "      <th>299986</th>\n",
              "      <td>Chelsea Lee</td>\n",
              "      <td>Andrade LLC</td>\n",
              "      <td>Investment banker, corporate</td>\n",
              "      <td>Wardfort</td>\n",
              "      <td>Switzerland</td>\n",
              "      <td>88410</td>\n",
              "      <td>Full Time</td>\n",
              "      <td>4.4</td>\n",
              "    </tr>\n",
              "    <tr>\n",
              "      <th>299990</th>\n",
              "      <td>Monica Bender</td>\n",
              "      <td>Wallace, Smith and Shepard</td>\n",
              "      <td>Production engineer</td>\n",
              "      <td>New Cindychester</td>\n",
              "      <td>Bangladesh</td>\n",
              "      <td>852660</td>\n",
              "      <td>Full Time</td>\n",
              "      <td>3.0</td>\n",
              "    </tr>\n",
              "    <tr>\n",
              "      <th>299992</th>\n",
              "      <td>Steven Thornton</td>\n",
              "      <td>Baker, Allen and Edwards</td>\n",
              "      <td>Patent examiner</td>\n",
              "      <td>Aliciafort</td>\n",
              "      <td>Benin</td>\n",
              "      <td>60240</td>\n",
              "      <td>Full Time</td>\n",
              "      <td>4.3</td>\n",
              "    </tr>\n",
              "    <tr>\n",
              "      <th>299995</th>\n",
              "      <td>Nancy Neal</td>\n",
              "      <td>Bullock-Carrillo</td>\n",
              "      <td>Optometrist</td>\n",
              "      <td>North Melissafurt</td>\n",
              "      <td>Samoa</td>\n",
              "      <td>99670</td>\n",
              "      <td>Intern</td>\n",
              "      <td>3.3</td>\n",
              "    </tr>\n",
              "  </tbody>\n",
              "</table>\n",
              "<p>99353 rows × 8 columns</p>\n",
              "</div>"
            ],
            "text/plain": [
              "                   Name                Company_Name  \\\n",
              "4         Theresa Owens    Baker, Allen and Edwards   \n",
              "5         Vanessa Allen                 Andrade LLC   \n",
              "6           Kelly Brown                 Andrade LLC   \n",
              "11      Timothy Johnson    Baker, Allen and Edwards   \n",
              "18         Carrie Woods            Bullock-Carrillo   \n",
              "...                 ...                         ...   \n",
              "299977   Anthony Hughes            Bullock-Carrillo   \n",
              "299986      Chelsea Lee                 Andrade LLC   \n",
              "299990    Monica Bender  Wallace, Smith and Shepard   \n",
              "299992  Steven Thornton    Baker, Allen and Edwards   \n",
              "299995       Nancy Neal            Bullock-Carrillo   \n",
              "\n",
              "                       Employee_Job_Title      Employee_City Employee_Country  \\\n",
              "4                     Production engineer          Whiteside         Dominica   \n",
              "5                                    Make       Ricardomouth             Mali   \n",
              "6                         Naval architect           Wardfort            Aruba   \n",
              "11             Regulatory affairs officer       Ricardomouth          Georgia   \n",
              "18                             Ergonomist     New Russellton            Gabon   \n",
              "...                                   ...                ...              ...   \n",
              "299977  Sales promotion account executive       Whitakerbury          Georgia   \n",
              "299986       Investment banker, corporate           Wardfort      Switzerland   \n",
              "299990                Production engineer   New Cindychester       Bangladesh   \n",
              "299992                    Patent examiner         Aliciafort            Benin   \n",
              "299995                        Optometrist  North Melissafurt            Samoa   \n",
              "\n",
              "        Employee_Salary Employment_Status  Employee_Rating  \n",
              "4                523499         Full Time              4.8  \n",
              "5                850140         Full Time              2.6  \n",
              "6                711410         Full Time              2.0  \n",
              "11               503610         Full Time              2.9  \n",
              "18               985290         Full Time              2.4  \n",
              "...                 ...               ...              ...  \n",
              "299977           464910         Full Time              4.1  \n",
              "299986            88410         Full Time              4.4  \n",
              "299990           852660         Full Time              3.0  \n",
              "299992            60240         Full Time              4.3  \n",
              "299995            99670            Intern              3.3  \n",
              "\n",
              "[99353 rows x 8 columns]"
            ]
          },
          "metadata": {},
          "output_type": "display_data"
        }
      ],
      "source": [
        "count = df[df['Company_Name'].str.contains('LL', case=False)].shape[0]\n",
        "print(count)"
      ]
    },
    {
      "cell_type": "markdown",
      "metadata": {
        "id": "PZP6lYrDPe71"
      },
      "source": [
        "### 111. Select the first row corresponding to every company in the dataframe"
      ]
    },
    {
      "cell_type": "code",
      "execution_count": null,
      "metadata": {
        "id": "rXcmTisoPe71",
        "outputId": "d7a3e88f-c294-4db1-989b-a2cae47526fc"
      },
      "outputs": [
        {
          "data": {
            "text/html": [
              "<div>\n",
              "<style scoped>\n",
              "    .dataframe tbody tr th:only-of-type {\n",
              "        vertical-align: middle;\n",
              "    }\n",
              "\n",
              "    .dataframe tbody tr th {\n",
              "        vertical-align: top;\n",
              "    }\n",
              "\n",
              "    .dataframe thead th {\n",
              "        text-align: right;\n",
              "    }\n",
              "</style>\n",
              "<table border=\"1\" class=\"dataframe\">\n",
              "  <thead>\n",
              "    <tr style=\"text-align: right;\">\n",
              "      <th></th>\n",
              "      <th>Name</th>\n",
              "      <th>Employee_Job_Title</th>\n",
              "      <th>Employee_City</th>\n",
              "      <th>Employee_Country</th>\n",
              "      <th>Employee_Salary</th>\n",
              "      <th>Employment_Status</th>\n",
              "      <th>Employee_Rating</th>\n",
              "    </tr>\n",
              "    <tr>\n",
              "      <th>Company_Name</th>\n",
              "      <th></th>\n",
              "      <th></th>\n",
              "      <th></th>\n",
              "      <th></th>\n",
              "      <th></th>\n",
              "      <th></th>\n",
              "      <th></th>\n",
              "    </tr>\n",
              "  </thead>\n",
              "  <tbody>\n",
              "    <tr>\n",
              "      <th>Andrade LLC</th>\n",
              "      <td>Vanessa Allen</td>\n",
              "      <td>Make</td>\n",
              "      <td>Ricardomouth</td>\n",
              "      <td>Mali</td>\n",
              "      <td>850140</td>\n",
              "      <td>Full Time</td>\n",
              "      <td>2.6</td>\n",
              "    </tr>\n",
              "    <tr>\n",
              "      <th>Baker, Allen and Edwards</th>\n",
              "      <td>Theresa Owens</td>\n",
              "      <td>Production engineer</td>\n",
              "      <td>Whiteside</td>\n",
              "      <td>Dominica</td>\n",
              "      <td>523499</td>\n",
              "      <td>Full Time</td>\n",
              "      <td>4.8</td>\n",
              "    </tr>\n",
              "    <tr>\n",
              "      <th>Bullock-Carrillo</th>\n",
              "      <td>Carrie Woods</td>\n",
              "      <td>Ergonomist</td>\n",
              "      <td>New Russellton</td>\n",
              "      <td>Gabon</td>\n",
              "      <td>985290</td>\n",
              "      <td>Full Time</td>\n",
              "      <td>2.4</td>\n",
              "    </tr>\n",
              "    <tr>\n",
              "      <th>Campos, Reynolds and Mccormick</th>\n",
              "      <td>Michael Edwards</td>\n",
              "      <td>Ergonomist</td>\n",
              "      <td>New Cindychester</td>\n",
              "      <td>Lao People's Democratic Republic</td>\n",
              "      <td>516950</td>\n",
              "      <td>Full Time</td>\n",
              "      <td>2.3</td>\n",
              "    </tr>\n",
              "    <tr>\n",
              "      <th>James and Sons</th>\n",
              "      <td>Spencer Adkins</td>\n",
              "      <td>Equities trader</td>\n",
              "      <td>New Russellton</td>\n",
              "      <td>Palestinian Territory</td>\n",
              "      <td>321520</td>\n",
              "      <td>Full Time</td>\n",
              "      <td>3.9</td>\n",
              "    </tr>\n",
              "    <tr>\n",
              "      <th>Johnston, Fleming and Tanner</th>\n",
              "      <td>Brad Scott</td>\n",
              "      <td>Production engineer</td>\n",
              "      <td>West Jamesview</td>\n",
              "      <td>Syrian Arab Republic</td>\n",
              "      <td>116400</td>\n",
              "      <td>Full Time</td>\n",
              "      <td>3.1</td>\n",
              "    </tr>\n",
              "    <tr>\n",
              "      <th>Marshall-Holloway</th>\n",
              "      <td>David Phillips</td>\n",
              "      <td>Radiographer, therapeutic</td>\n",
              "      <td>Kristaburgh</td>\n",
              "      <td>British Virgin Islands</td>\n",
              "      <td>58800</td>\n",
              "      <td>Full Time</td>\n",
              "      <td>0.6</td>\n",
              "    </tr>\n",
              "    <tr>\n",
              "      <th>Matthews Inc</th>\n",
              "      <td>Vicki Beard</td>\n",
              "      <td>Diplomatic Services operational officer</td>\n",
              "      <td>Kristaburgh</td>\n",
              "      <td>Western Sahara</td>\n",
              "      <td>777000</td>\n",
              "      <td>Full Time</td>\n",
              "      <td>3.3</td>\n",
              "    </tr>\n",
              "    <tr>\n",
              "      <th>Nelson-Li</th>\n",
              "      <td>Micheal Fitzgerald</td>\n",
              "      <td>Diplomatic Services operational officer</td>\n",
              "      <td>Whitakerbury</td>\n",
              "      <td>Switzerland</td>\n",
              "      <td>796690</td>\n",
              "      <td>Full Time</td>\n",
              "      <td>4.1</td>\n",
              "    </tr>\n",
              "    <tr>\n",
              "      <th>Nichols-James</th>\n",
              "      <td>Julie Morton</td>\n",
              "      <td>Diplomatic Services operational officer</td>\n",
              "      <td>North Melissafurt</td>\n",
              "      <td>Marshall Islands</td>\n",
              "      <td>589090</td>\n",
              "      <td>Full Time</td>\n",
              "      <td>4.3</td>\n",
              "    </tr>\n",
              "    <tr>\n",
              "      <th>Scott Inc</th>\n",
              "      <td>Matthew Hall</td>\n",
              "      <td>Regulatory affairs officer</td>\n",
              "      <td>Wardfort</td>\n",
              "      <td>Anguilla</td>\n",
              "      <td>630890</td>\n",
              "      <td>Full Time</td>\n",
              "      <td>3.1</td>\n",
              "    </tr>\n",
              "    <tr>\n",
              "      <th>Taylor-Ramos</th>\n",
              "      <td>Lisa French</td>\n",
              "      <td>Radiographer, therapeutic</td>\n",
              "      <td>West Jamesview</td>\n",
              "      <td>Kuwait</td>\n",
              "      <td>870580</td>\n",
              "      <td>Full Time</td>\n",
              "      <td>1.3</td>\n",
              "    </tr>\n",
              "    <tr>\n",
              "      <th>Thomas-Spencer</th>\n",
              "      <td>Gail Rose</td>\n",
              "      <td>Patent examiner</td>\n",
              "      <td>Whitakerbury</td>\n",
              "      <td>Finland</td>\n",
              "      <td>178570</td>\n",
              "      <td>Full Time</td>\n",
              "      <td>1.9</td>\n",
              "    </tr>\n",
              "    <tr>\n",
              "      <th>Wallace, Smith and Shepard</th>\n",
              "      <td>Ronald Clark</td>\n",
              "      <td>Regulatory affairs officer</td>\n",
              "      <td>North Melissafurt</td>\n",
              "      <td>Palau</td>\n",
              "      <td>914110</td>\n",
              "      <td>Full Time</td>\n",
              "      <td>3.2</td>\n",
              "    </tr>\n",
              "    <tr>\n",
              "      <th>White, Mcclain and Cobb</th>\n",
              "      <td>Victoria Sutton</td>\n",
              "      <td>Naval architect</td>\n",
              "      <td>Whiteside</td>\n",
              "      <td>Poland</td>\n",
              "      <td>656260</td>\n",
              "      <td>Full Time</td>\n",
              "      <td>4.9</td>\n",
              "    </tr>\n",
              "  </tbody>\n",
              "</table>\n",
              "</div>"
            ],
            "text/plain": [
              "                                              Name  \\\n",
              "Company_Name                                         \n",
              "Andrade LLC                          Vanessa Allen   \n",
              "Baker, Allen and Edwards             Theresa Owens   \n",
              "Bullock-Carrillo                      Carrie Woods   \n",
              "Campos, Reynolds and Mccormick     Michael Edwards   \n",
              "James and Sons                      Spencer Adkins   \n",
              "Johnston, Fleming and Tanner            Brad Scott   \n",
              "Marshall-Holloway                   David Phillips   \n",
              "Matthews Inc                           Vicki Beard   \n",
              "Nelson-Li                       Micheal Fitzgerald   \n",
              "Nichols-James                         Julie Morton   \n",
              "Scott Inc                             Matthew Hall   \n",
              "Taylor-Ramos                           Lisa French   \n",
              "Thomas-Spencer                           Gail Rose   \n",
              "Wallace, Smith and Shepard            Ronald Clark   \n",
              "White, Mcclain and Cobb            Victoria Sutton   \n",
              "\n",
              "                                                     Employee_Job_Title  \\\n",
              "Company_Name                                                              \n",
              "Andrade LLC                                                        Make   \n",
              "Baker, Allen and Edwards                            Production engineer   \n",
              "Bullock-Carrillo                                             Ergonomist   \n",
              "Campos, Reynolds and Mccormick                               Ergonomist   \n",
              "James and Sons                                          Equities trader   \n",
              "Johnston, Fleming and Tanner                        Production engineer   \n",
              "Marshall-Holloway                             Radiographer, therapeutic   \n",
              "Matthews Inc                    Diplomatic Services operational officer   \n",
              "Nelson-Li                       Diplomatic Services operational officer   \n",
              "Nichols-James                   Diplomatic Services operational officer   \n",
              "Scott Inc                                    Regulatory affairs officer   \n",
              "Taylor-Ramos                                  Radiographer, therapeutic   \n",
              "Thomas-Spencer                                          Patent examiner   \n",
              "Wallace, Smith and Shepard                   Regulatory affairs officer   \n",
              "White, Mcclain and Cobb                                 Naval architect   \n",
              "\n",
              "                                    Employee_City  \\\n",
              "Company_Name                                        \n",
              "Andrade LLC                          Ricardomouth   \n",
              "Baker, Allen and Edwards                Whiteside   \n",
              "Bullock-Carrillo                   New Russellton   \n",
              "Campos, Reynolds and Mccormick   New Cindychester   \n",
              "James and Sons                     New Russellton   \n",
              "Johnston, Fleming and Tanner       West Jamesview   \n",
              "Marshall-Holloway                     Kristaburgh   \n",
              "Matthews Inc                          Kristaburgh   \n",
              "Nelson-Li                            Whitakerbury   \n",
              "Nichols-James                   North Melissafurt   \n",
              "Scott Inc                                Wardfort   \n",
              "Taylor-Ramos                       West Jamesview   \n",
              "Thomas-Spencer                       Whitakerbury   \n",
              "Wallace, Smith and Shepard      North Melissafurt   \n",
              "White, Mcclain and Cobb                 Whiteside   \n",
              "\n",
              "                                                Employee_Country  \\\n",
              "Company_Name                                                       \n",
              "Andrade LLC                                                 Mali   \n",
              "Baker, Allen and Edwards                                Dominica   \n",
              "Bullock-Carrillo                                           Gabon   \n",
              "Campos, Reynolds and Mccormick  Lao People's Democratic Republic   \n",
              "James and Sons                             Palestinian Territory   \n",
              "Johnston, Fleming and Tanner                Syrian Arab Republic   \n",
              "Marshall-Holloway                         British Virgin Islands   \n",
              "Matthews Inc                                      Western Sahara   \n",
              "Nelson-Li                                            Switzerland   \n",
              "Nichols-James                                   Marshall Islands   \n",
              "Scott Inc                                               Anguilla   \n",
              "Taylor-Ramos                                              Kuwait   \n",
              "Thomas-Spencer                                           Finland   \n",
              "Wallace, Smith and Shepard                                 Palau   \n",
              "White, Mcclain and Cobb                                   Poland   \n",
              "\n",
              "                                Employee_Salary Employment_Status  \\\n",
              "Company_Name                                                        \n",
              "Andrade LLC                              850140         Full Time   \n",
              "Baker, Allen and Edwards                 523499         Full Time   \n",
              "Bullock-Carrillo                         985290         Full Time   \n",
              "Campos, Reynolds and Mccormick           516950         Full Time   \n",
              "James and Sons                           321520         Full Time   \n",
              "Johnston, Fleming and Tanner             116400         Full Time   \n",
              "Marshall-Holloway                         58800         Full Time   \n",
              "Matthews Inc                             777000         Full Time   \n",
              "Nelson-Li                                796690         Full Time   \n",
              "Nichols-James                            589090         Full Time   \n",
              "Scott Inc                                630890         Full Time   \n",
              "Taylor-Ramos                             870580         Full Time   \n",
              "Thomas-Spencer                           178570         Full Time   \n",
              "Wallace, Smith and Shepard               914110         Full Time   \n",
              "White, Mcclain and Cobb                  656260         Full Time   \n",
              "\n",
              "                                Employee_Rating  \n",
              "Company_Name                                     \n",
              "Andrade LLC                                 2.6  \n",
              "Baker, Allen and Edwards                    4.8  \n",
              "Bullock-Carrillo                            2.4  \n",
              "Campos, Reynolds and Mccormick              2.3  \n",
              "James and Sons                              3.9  \n",
              "Johnston, Fleming and Tanner                3.1  \n",
              "Marshall-Holloway                           0.6  \n",
              "Matthews Inc                                3.3  \n",
              "Nelson-Li                                   4.1  \n",
              "Nichols-James                               4.3  \n",
              "Scott Inc                                   3.1  \n",
              "Taylor-Ramos                                1.3  \n",
              "Thomas-Spencer                              1.9  \n",
              "Wallace, Smith and Shepard                  3.2  \n",
              "White, Mcclain and Cobb                     4.9  "
            ]
          },
          "metadata": {},
          "output_type": "display_data"
        }
      ],
      "source": [
        "company = df.groupby('Company_Name').first().reset_index()\n",
        "print(company)\n",
        "#first(), last(), nth()"
      ]
    },
    {
      "cell_type": "markdown",
      "metadata": {
        "id": "z8QP7Vo5Pe72"
      },
      "source": [
        "### 113. Reset the index of the dataframe inplace and delete the older index values."
      ]
    },
    {
      "cell_type": "code",
      "execution_count": null,
      "metadata": {
        "id": "pd4HD_60Pe72",
        "outputId": "09594bed-d803-43e5-e9b1-bedbe852baf8"
      },
      "outputs": [
        {
          "data": {
            "text/html": [
              "<div>\n",
              "<style scoped>\n",
              "    .dataframe tbody tr th:only-of-type {\n",
              "        vertical-align: middle;\n",
              "    }\n",
              "\n",
              "    .dataframe tbody tr th {\n",
              "        vertical-align: top;\n",
              "    }\n",
              "\n",
              "    .dataframe thead th {\n",
              "        text-align: right;\n",
              "    }\n",
              "</style>\n",
              "<table border=\"1\" class=\"dataframe\">\n",
              "  <thead>\n",
              "    <tr style=\"text-align: right;\">\n",
              "      <th></th>\n",
              "      <th>Name</th>\n",
              "      <th>Company_Name</th>\n",
              "      <th>Employee_Job_Title</th>\n",
              "      <th>Employee_City</th>\n",
              "      <th>Employee_Country</th>\n",
              "      <th>Employee_Salary</th>\n",
              "      <th>Employment_Status</th>\n",
              "      <th>Employee_Rating</th>\n",
              "    </tr>\n",
              "  </thead>\n",
              "  <tbody>\n",
              "    <tr>\n",
              "      <th>0</th>\n",
              "      <td>Spencer Adkins</td>\n",
              "      <td>James and Sons</td>\n",
              "      <td>Equities trader</td>\n",
              "      <td>New Russellton</td>\n",
              "      <td>Palestinian Territory</td>\n",
              "      <td>321520</td>\n",
              "      <td>Full Time</td>\n",
              "      <td>3.9</td>\n",
              "    </tr>\n",
              "    <tr>\n",
              "      <th>1</th>\n",
              "      <td>Julie Morton</td>\n",
              "      <td>Nichols-James</td>\n",
              "      <td>Diplomatic Services operational officer</td>\n",
              "      <td>North Melissafurt</td>\n",
              "      <td>Marshall Islands</td>\n",
              "      <td>589090</td>\n",
              "      <td>Full Time</td>\n",
              "      <td>4.3</td>\n",
              "    </tr>\n",
              "    <tr>\n",
              "      <th>2</th>\n",
              "      <td>Matthew Hall</td>\n",
              "      <td>Scott Inc</td>\n",
              "      <td>Regulatory affairs officer</td>\n",
              "      <td>Wardfort</td>\n",
              "      <td>Anguilla</td>\n",
              "      <td>630890</td>\n",
              "      <td>Full Time</td>\n",
              "      <td>3.1</td>\n",
              "    </tr>\n",
              "    <tr>\n",
              "      <th>3</th>\n",
              "      <td>Brad Scott</td>\n",
              "      <td>Johnston, Fleming and Tanner</td>\n",
              "      <td>Production engineer</td>\n",
              "      <td>West Jamesview</td>\n",
              "      <td>Syrian Arab Republic</td>\n",
              "      <td>116400</td>\n",
              "      <td>Full Time</td>\n",
              "      <td>3.1</td>\n",
              "    </tr>\n",
              "    <tr>\n",
              "      <th>4</th>\n",
              "      <td>Theresa Owens</td>\n",
              "      <td>Baker, Allen and Edwards</td>\n",
              "      <td>Production engineer</td>\n",
              "      <td>Whiteside</td>\n",
              "      <td>Dominica</td>\n",
              "      <td>523499</td>\n",
              "      <td>Full Time</td>\n",
              "      <td>4.8</td>\n",
              "    </tr>\n",
              "    <tr>\n",
              "      <th>...</th>\n",
              "      <td>...</td>\n",
              "      <td>...</td>\n",
              "      <td>...</td>\n",
              "      <td>...</td>\n",
              "      <td>...</td>\n",
              "      <td>...</td>\n",
              "      <td>...</td>\n",
              "      <td>...</td>\n",
              "    </tr>\n",
              "    <tr>\n",
              "      <th>299995</th>\n",
              "      <td>Nancy Neal</td>\n",
              "      <td>Bullock-Carrillo</td>\n",
              "      <td>Optometrist</td>\n",
              "      <td>North Melissafurt</td>\n",
              "      <td>Samoa</td>\n",
              "      <td>99670</td>\n",
              "      <td>Intern</td>\n",
              "      <td>3.3</td>\n",
              "    </tr>\n",
              "    <tr>\n",
              "      <th>299996</th>\n",
              "      <td>Michele Butler</td>\n",
              "      <td>Johnston, Fleming and Tanner</td>\n",
              "      <td>Administrator</td>\n",
              "      <td>Aliciafort</td>\n",
              "      <td>Cuba</td>\n",
              "      <td>949580</td>\n",
              "      <td>Intern</td>\n",
              "      <td>2.6</td>\n",
              "    </tr>\n",
              "    <tr>\n",
              "      <th>299997</th>\n",
              "      <td>Lynn Wilson</td>\n",
              "      <td>Nichols-James</td>\n",
              "      <td>Administrator</td>\n",
              "      <td>New Cindychester</td>\n",
              "      <td>Bolivia</td>\n",
              "      <td>802830</td>\n",
              "      <td>Full Time</td>\n",
              "      <td>0.6</td>\n",
              "    </tr>\n",
              "    <tr>\n",
              "      <th>299998</th>\n",
              "      <td>Lindsey Keith</td>\n",
              "      <td>Nichols-James</td>\n",
              "      <td>Make</td>\n",
              "      <td>Whitakerbury</td>\n",
              "      <td>Western Sahara</td>\n",
              "      <td>257240</td>\n",
              "      <td>Full Time</td>\n",
              "      <td>2.4</td>\n",
              "    </tr>\n",
              "    <tr>\n",
              "      <th>299999</th>\n",
              "      <td>Karen Delgado</td>\n",
              "      <td>James and Sons</td>\n",
              "      <td>Actuary</td>\n",
              "      <td>New Russellton</td>\n",
              "      <td>United Kingdom</td>\n",
              "      <td>575770</td>\n",
              "      <td>Intern</td>\n",
              "      <td>3.3</td>\n",
              "    </tr>\n",
              "  </tbody>\n",
              "</table>\n",
              "<p>300000 rows × 8 columns</p>\n",
              "</div>"
            ],
            "text/plain": [
              "                  Name                  Company_Name  \\\n",
              "0       Spencer Adkins                James and Sons   \n",
              "1         Julie Morton                 Nichols-James   \n",
              "2         Matthew Hall                     Scott Inc   \n",
              "3           Brad Scott  Johnston, Fleming and Tanner   \n",
              "4        Theresa Owens      Baker, Allen and Edwards   \n",
              "...                ...                           ...   \n",
              "299995      Nancy Neal              Bullock-Carrillo   \n",
              "299996  Michele Butler  Johnston, Fleming and Tanner   \n",
              "299997     Lynn Wilson                 Nichols-James   \n",
              "299998   Lindsey Keith                 Nichols-James   \n",
              "299999   Karen Delgado                James and Sons   \n",
              "\n",
              "                             Employee_Job_Title      Employee_City  \\\n",
              "0                               Equities trader     New Russellton   \n",
              "1       Diplomatic Services operational officer  North Melissafurt   \n",
              "2                    Regulatory affairs officer           Wardfort   \n",
              "3                           Production engineer     West Jamesview   \n",
              "4                           Production engineer          Whiteside   \n",
              "...                                         ...                ...   \n",
              "299995                              Optometrist  North Melissafurt   \n",
              "299996                            Administrator         Aliciafort   \n",
              "299997                            Administrator   New Cindychester   \n",
              "299998                                     Make       Whitakerbury   \n",
              "299999                                  Actuary     New Russellton   \n",
              "\n",
              "             Employee_Country  Employee_Salary Employment_Status  \\\n",
              "0       Palestinian Territory           321520         Full Time   \n",
              "1            Marshall Islands           589090         Full Time   \n",
              "2                    Anguilla           630890         Full Time   \n",
              "3        Syrian Arab Republic           116400         Full Time   \n",
              "4                    Dominica           523499         Full Time   \n",
              "...                       ...              ...               ...   \n",
              "299995                  Samoa            99670            Intern   \n",
              "299996                   Cuba           949580            Intern   \n",
              "299997                Bolivia           802830         Full Time   \n",
              "299998         Western Sahara           257240         Full Time   \n",
              "299999         United Kingdom           575770            Intern   \n",
              "\n",
              "        Employee_Rating  \n",
              "0                   3.9  \n",
              "1                   4.3  \n",
              "2                   3.1  \n",
              "3                   3.1  \n",
              "4                   4.8  \n",
              "...                 ...  \n",
              "299995              3.3  \n",
              "299996              2.6  \n",
              "299997              0.6  \n",
              "299998              2.4  \n",
              "299999              3.3  \n",
              "\n",
              "[300000 rows x 8 columns]"
            ]
          },
          "metadata": {},
          "output_type": "display_data"
        }
      ],
      "source": [
        "df.reset_index(drop=True, inplace=True)\n",
        "print(df)"
      ]
    },
    {
      "cell_type": "markdown",
      "metadata": {
        "id": "k6hjV2BpPe72"
      },
      "source": [
        "### 115-1) Add a new row at the bottom of the DataFrame."
      ]
    },
    {
      "cell_type": "code",
      "execution_count": null,
      "metadata": {
        "id": "24Sd0u3TPe72",
        "outputId": "902695c8-84eb-4ed8-85a0-5a87ccc363a7"
      },
      "outputs": [
        {
          "data": {
            "text/html": [
              "<div>\n",
              "<style scoped>\n",
              "    .dataframe tbody tr th:only-of-type {\n",
              "        vertical-align: middle;\n",
              "    }\n",
              "\n",
              "    .dataframe tbody tr th {\n",
              "        vertical-align: top;\n",
              "    }\n",
              "\n",
              "    .dataframe thead th {\n",
              "        text-align: right;\n",
              "    }\n",
              "</style>\n",
              "<table border=\"1\" class=\"dataframe\">\n",
              "  <thead>\n",
              "    <tr style=\"text-align: right;\">\n",
              "      <th></th>\n",
              "      <th>Name</th>\n",
              "      <th>Company_Name</th>\n",
              "      <th>Employee_Job_Title</th>\n",
              "      <th>Employee_City</th>\n",
              "      <th>Employee_Country</th>\n",
              "      <th>Employee_Salary</th>\n",
              "      <th>Employment_Status</th>\n",
              "      <th>Employee_Rating</th>\n",
              "    </tr>\n",
              "  </thead>\n",
              "  <tbody>\n",
              "    <tr>\n",
              "      <th>0</th>\n",
              "      <td>Spencer Adkins</td>\n",
              "      <td>James and Sons</td>\n",
              "      <td>Equities trader</td>\n",
              "      <td>New Russellton</td>\n",
              "      <td>Palestinian Territory</td>\n",
              "      <td>321520</td>\n",
              "      <td>Full Time</td>\n",
              "      <td>3.9</td>\n",
              "    </tr>\n",
              "    <tr>\n",
              "      <th>1</th>\n",
              "      <td>Julie Morton</td>\n",
              "      <td>Nichols-James</td>\n",
              "      <td>Diplomatic Services operational officer</td>\n",
              "      <td>North Melissafurt</td>\n",
              "      <td>Marshall Islands</td>\n",
              "      <td>589090</td>\n",
              "      <td>Full Time</td>\n",
              "      <td>4.3</td>\n",
              "    </tr>\n",
              "    <tr>\n",
              "      <th>2</th>\n",
              "      <td>Matthew Hall</td>\n",
              "      <td>Scott Inc</td>\n",
              "      <td>Regulatory affairs officer</td>\n",
              "      <td>Wardfort</td>\n",
              "      <td>Anguilla</td>\n",
              "      <td>630890</td>\n",
              "      <td>Full Time</td>\n",
              "      <td>3.1</td>\n",
              "    </tr>\n",
              "    <tr>\n",
              "      <th>3</th>\n",
              "      <td>Brad Scott</td>\n",
              "      <td>Johnston, Fleming and Tanner</td>\n",
              "      <td>Production engineer</td>\n",
              "      <td>West Jamesview</td>\n",
              "      <td>Syrian Arab Republic</td>\n",
              "      <td>116400</td>\n",
              "      <td>Full Time</td>\n",
              "      <td>3.1</td>\n",
              "    </tr>\n",
              "    <tr>\n",
              "      <th>4</th>\n",
              "      <td>Theresa Owens</td>\n",
              "      <td>Baker, Allen and Edwards</td>\n",
              "      <td>Production engineer</td>\n",
              "      <td>Whiteside</td>\n",
              "      <td>Dominica</td>\n",
              "      <td>523499</td>\n",
              "      <td>Full Time</td>\n",
              "      <td>4.8</td>\n",
              "    </tr>\n",
              "    <tr>\n",
              "      <th>...</th>\n",
              "      <td>...</td>\n",
              "      <td>...</td>\n",
              "      <td>...</td>\n",
              "      <td>...</td>\n",
              "      <td>...</td>\n",
              "      <td>...</td>\n",
              "      <td>...</td>\n",
              "      <td>...</td>\n",
              "    </tr>\n",
              "    <tr>\n",
              "      <th>299997</th>\n",
              "      <td>Lynn Wilson</td>\n",
              "      <td>Nichols-James</td>\n",
              "      <td>Administrator</td>\n",
              "      <td>New Cindychester</td>\n",
              "      <td>Bolivia</td>\n",
              "      <td>802830</td>\n",
              "      <td>Full Time</td>\n",
              "      <td>0.6</td>\n",
              "    </tr>\n",
              "    <tr>\n",
              "      <th>299998</th>\n",
              "      <td>Lindsey Keith</td>\n",
              "      <td>Nichols-James</td>\n",
              "      <td>Make</td>\n",
              "      <td>Whitakerbury</td>\n",
              "      <td>Western Sahara</td>\n",
              "      <td>257240</td>\n",
              "      <td>Full Time</td>\n",
              "      <td>2.4</td>\n",
              "    </tr>\n",
              "    <tr>\n",
              "      <th>299999</th>\n",
              "      <td>Karen Delgado</td>\n",
              "      <td>James and Sons</td>\n",
              "      <td>Actuary</td>\n",
              "      <td>New Russellton</td>\n",
              "      <td>United Kingdom</td>\n",
              "      <td>575770</td>\n",
              "      <td>Intern</td>\n",
              "      <td>3.3</td>\n",
              "    </tr>\n",
              "    <tr>\n",
              "      <th>300000</th>\n",
              "      <td>Chris Anders</td>\n",
              "      <td>Scott Inc</td>\n",
              "      <td>Production engineer</td>\n",
              "      <td>Wardfort</td>\n",
              "      <td>Anguilla</td>\n",
              "      <td>343930</td>\n",
              "      <td>Full Time</td>\n",
              "      <td>3.3</td>\n",
              "    </tr>\n",
              "    <tr>\n",
              "      <th>300001</th>\n",
              "      <td>Chris Anders</td>\n",
              "      <td>Scott Inc</td>\n",
              "      <td>Production engineer</td>\n",
              "      <td>Wardfort</td>\n",
              "      <td>Anguilla</td>\n",
              "      <td>343930</td>\n",
              "      <td>Full Time</td>\n",
              "      <td>3.3</td>\n",
              "    </tr>\n",
              "  </tbody>\n",
              "</table>\n",
              "<p>300002 rows × 8 columns</p>\n",
              "</div>"
            ],
            "text/plain": [
              "                  Name                  Company_Name  \\\n",
              "0       Spencer Adkins                James and Sons   \n",
              "1         Julie Morton                 Nichols-James   \n",
              "2         Matthew Hall                     Scott Inc   \n",
              "3           Brad Scott  Johnston, Fleming and Tanner   \n",
              "4        Theresa Owens      Baker, Allen and Edwards   \n",
              "...                ...                           ...   \n",
              "299997     Lynn Wilson                 Nichols-James   \n",
              "299998   Lindsey Keith                 Nichols-James   \n",
              "299999   Karen Delgado                James and Sons   \n",
              "300000    Chris Anders                     Scott Inc   \n",
              "300001    Chris Anders                     Scott Inc   \n",
              "\n",
              "                             Employee_Job_Title      Employee_City  \\\n",
              "0                               Equities trader     New Russellton   \n",
              "1       Diplomatic Services operational officer  North Melissafurt   \n",
              "2                    Regulatory affairs officer           Wardfort   \n",
              "3                           Production engineer     West Jamesview   \n",
              "4                           Production engineer          Whiteside   \n",
              "...                                         ...                ...   \n",
              "299997                            Administrator   New Cindychester   \n",
              "299998                                     Make       Whitakerbury   \n",
              "299999                                  Actuary     New Russellton   \n",
              "300000                      Production engineer           Wardfort   \n",
              "300001                      Production engineer           Wardfort   \n",
              "\n",
              "             Employee_Country  Employee_Salary Employment_Status  \\\n",
              "0       Palestinian Territory           321520         Full Time   \n",
              "1            Marshall Islands           589090         Full Time   \n",
              "2                    Anguilla           630890         Full Time   \n",
              "3        Syrian Arab Republic           116400         Full Time   \n",
              "4                    Dominica           523499         Full Time   \n",
              "...                       ...              ...               ...   \n",
              "299997                Bolivia           802830         Full Time   \n",
              "299998         Western Sahara           257240         Full Time   \n",
              "299999         United Kingdom           575770            Intern   \n",
              "300000               Anguilla           343930         Full Time   \n",
              "300001               Anguilla           343930         Full Time   \n",
              "\n",
              "        Employee_Rating  \n",
              "0                   3.9  \n",
              "1                   4.3  \n",
              "2                   3.1  \n",
              "3                   3.1  \n",
              "4                   4.8  \n",
              "...                 ...  \n",
              "299997              0.6  \n",
              "299998              2.4  \n",
              "299999              3.3  \n",
              "300000              3.3  \n",
              "300001              3.3  \n",
              "\n",
              "[300002 rows x 8 columns]"
            ]
          },
          "metadata": {},
          "output_type": "display_data"
        }
      ],
      "source": [
        "new_row= {'Name':1,\t'Company_Name': 2, 'Employee_Job_Title' : 3, 'Employee_City' :4,'Employee_Country':5, 'Employee_Salary':6, 'Employment_Status':7, 'Employee_Rating' :8}\n",
        "df = df.append(new_row, ignore_index=True)\n",
        "print(df)"
      ]
    },
    {
      "cell_type": "markdown",
      "metadata": {
        "id": "NMmbfUv9Pe73"
      },
      "source": [
        "### 115-2) Delete the row that was just newly added."
      ]
    },
    {
      "cell_type": "code",
      "execution_count": null,
      "metadata": {
        "id": "TLQxXlx0Pe73",
        "outputId": "9adec665-a7d6-41f2-a3a2-80e064ec369b"
      },
      "outputs": [
        {
          "data": {
            "text/html": [
              "<div>\n",
              "<style scoped>\n",
              "    .dataframe tbody tr th:only-of-type {\n",
              "        vertical-align: middle;\n",
              "    }\n",
              "\n",
              "    .dataframe tbody tr th {\n",
              "        vertical-align: top;\n",
              "    }\n",
              "\n",
              "    .dataframe thead th {\n",
              "        text-align: right;\n",
              "    }\n",
              "</style>\n",
              "<table border=\"1\" class=\"dataframe\">\n",
              "  <thead>\n",
              "    <tr style=\"text-align: right;\">\n",
              "      <th></th>\n",
              "      <th>Name</th>\n",
              "      <th>Company_Name</th>\n",
              "      <th>Employee_Job_Title</th>\n",
              "      <th>Employee_City</th>\n",
              "      <th>Employee_Country</th>\n",
              "      <th>Employee_Salary</th>\n",
              "      <th>Employment_Status</th>\n",
              "      <th>Employee_Rating</th>\n",
              "    </tr>\n",
              "  </thead>\n",
              "  <tbody>\n",
              "    <tr>\n",
              "      <th>0</th>\n",
              "      <td>Spencer Adkins</td>\n",
              "      <td>James and Sons</td>\n",
              "      <td>Equities trader</td>\n",
              "      <td>New Russellton</td>\n",
              "      <td>Palestinian Territory</td>\n",
              "      <td>321520</td>\n",
              "      <td>Full Time</td>\n",
              "      <td>3.9</td>\n",
              "    </tr>\n",
              "    <tr>\n",
              "      <th>1</th>\n",
              "      <td>Julie Morton</td>\n",
              "      <td>Nichols-James</td>\n",
              "      <td>Diplomatic Services operational officer</td>\n",
              "      <td>North Melissafurt</td>\n",
              "      <td>Marshall Islands</td>\n",
              "      <td>589090</td>\n",
              "      <td>Full Time</td>\n",
              "      <td>4.3</td>\n",
              "    </tr>\n",
              "    <tr>\n",
              "      <th>2</th>\n",
              "      <td>Matthew Hall</td>\n",
              "      <td>Scott Inc</td>\n",
              "      <td>Regulatory affairs officer</td>\n",
              "      <td>Wardfort</td>\n",
              "      <td>Anguilla</td>\n",
              "      <td>630890</td>\n",
              "      <td>Full Time</td>\n",
              "      <td>3.1</td>\n",
              "    </tr>\n",
              "    <tr>\n",
              "      <th>3</th>\n",
              "      <td>Brad Scott</td>\n",
              "      <td>Johnston, Fleming and Tanner</td>\n",
              "      <td>Production engineer</td>\n",
              "      <td>West Jamesview</td>\n",
              "      <td>Syrian Arab Republic</td>\n",
              "      <td>116400</td>\n",
              "      <td>Full Time</td>\n",
              "      <td>3.1</td>\n",
              "    </tr>\n",
              "    <tr>\n",
              "      <th>4</th>\n",
              "      <td>Theresa Owens</td>\n",
              "      <td>Baker, Allen and Edwards</td>\n",
              "      <td>Production engineer</td>\n",
              "      <td>Whiteside</td>\n",
              "      <td>Dominica</td>\n",
              "      <td>523499</td>\n",
              "      <td>Full Time</td>\n",
              "      <td>4.8</td>\n",
              "    </tr>\n",
              "    <tr>\n",
              "      <th>...</th>\n",
              "      <td>...</td>\n",
              "      <td>...</td>\n",
              "      <td>...</td>\n",
              "      <td>...</td>\n",
              "      <td>...</td>\n",
              "      <td>...</td>\n",
              "      <td>...</td>\n",
              "      <td>...</td>\n",
              "    </tr>\n",
              "    <tr>\n",
              "      <th>299996</th>\n",
              "      <td>Michele Butler</td>\n",
              "      <td>Johnston, Fleming and Tanner</td>\n",
              "      <td>Administrator</td>\n",
              "      <td>Aliciafort</td>\n",
              "      <td>Cuba</td>\n",
              "      <td>949580</td>\n",
              "      <td>Intern</td>\n",
              "      <td>2.6</td>\n",
              "    </tr>\n",
              "    <tr>\n",
              "      <th>299997</th>\n",
              "      <td>Lynn Wilson</td>\n",
              "      <td>Nichols-James</td>\n",
              "      <td>Administrator</td>\n",
              "      <td>New Cindychester</td>\n",
              "      <td>Bolivia</td>\n",
              "      <td>802830</td>\n",
              "      <td>Full Time</td>\n",
              "      <td>0.6</td>\n",
              "    </tr>\n",
              "    <tr>\n",
              "      <th>299998</th>\n",
              "      <td>Lindsey Keith</td>\n",
              "      <td>Nichols-James</td>\n",
              "      <td>Make</td>\n",
              "      <td>Whitakerbury</td>\n",
              "      <td>Western Sahara</td>\n",
              "      <td>257240</td>\n",
              "      <td>Full Time</td>\n",
              "      <td>2.4</td>\n",
              "    </tr>\n",
              "    <tr>\n",
              "      <th>299999</th>\n",
              "      <td>Karen Delgado</td>\n",
              "      <td>James and Sons</td>\n",
              "      <td>Actuary</td>\n",
              "      <td>New Russellton</td>\n",
              "      <td>United Kingdom</td>\n",
              "      <td>575770</td>\n",
              "      <td>Intern</td>\n",
              "      <td>3.3</td>\n",
              "    </tr>\n",
              "    <tr>\n",
              "      <th>300000</th>\n",
              "      <td>Chris Anders</td>\n",
              "      <td>Scott Inc</td>\n",
              "      <td>Production engineer</td>\n",
              "      <td>Wardfort</td>\n",
              "      <td>Anguilla</td>\n",
              "      <td>343930</td>\n",
              "      <td>Full Time</td>\n",
              "      <td>3.3</td>\n",
              "    </tr>\n",
              "  </tbody>\n",
              "</table>\n",
              "<p>300001 rows × 8 columns</p>\n",
              "</div>"
            ],
            "text/plain": [
              "                  Name                  Company_Name  \\\n",
              "0       Spencer Adkins                James and Sons   \n",
              "1         Julie Morton                 Nichols-James   \n",
              "2         Matthew Hall                     Scott Inc   \n",
              "3           Brad Scott  Johnston, Fleming and Tanner   \n",
              "4        Theresa Owens      Baker, Allen and Edwards   \n",
              "...                ...                           ...   \n",
              "299996  Michele Butler  Johnston, Fleming and Tanner   \n",
              "299997     Lynn Wilson                 Nichols-James   \n",
              "299998   Lindsey Keith                 Nichols-James   \n",
              "299999   Karen Delgado                James and Sons   \n",
              "300000    Chris Anders                     Scott Inc   \n",
              "\n",
              "                             Employee_Job_Title      Employee_City  \\\n",
              "0                               Equities trader     New Russellton   \n",
              "1       Diplomatic Services operational officer  North Melissafurt   \n",
              "2                    Regulatory affairs officer           Wardfort   \n",
              "3                           Production engineer     West Jamesview   \n",
              "4                           Production engineer          Whiteside   \n",
              "...                                         ...                ...   \n",
              "299996                            Administrator         Aliciafort   \n",
              "299997                            Administrator   New Cindychester   \n",
              "299998                                     Make       Whitakerbury   \n",
              "299999                                  Actuary     New Russellton   \n",
              "300000                      Production engineer           Wardfort   \n",
              "\n",
              "             Employee_Country  Employee_Salary Employment_Status  \\\n",
              "0       Palestinian Territory           321520         Full Time   \n",
              "1            Marshall Islands           589090         Full Time   \n",
              "2                    Anguilla           630890         Full Time   \n",
              "3        Syrian Arab Republic           116400         Full Time   \n",
              "4                    Dominica           523499         Full Time   \n",
              "...                       ...              ...               ...   \n",
              "299996                   Cuba           949580            Intern   \n",
              "299997                Bolivia           802830         Full Time   \n",
              "299998         Western Sahara           257240         Full Time   \n",
              "299999         United Kingdom           575770            Intern   \n",
              "300000               Anguilla           343930         Full Time   \n",
              "\n",
              "        Employee_Rating  \n",
              "0                   3.9  \n",
              "1                   4.3  \n",
              "2                   3.1  \n",
              "3                   3.1  \n",
              "4                   4.8  \n",
              "...                 ...  \n",
              "299996              2.6  \n",
              "299997              0.6  \n",
              "299998              2.4  \n",
              "299999              3.3  \n",
              "300000              3.3  \n",
              "\n",
              "[300001 rows x 8 columns]"
            ]
          },
          "metadata": {},
          "output_type": "display_data"
        }
      ],
      "source": [
        "df.drop(df.index[-1], inplace=True)\n",
        "print(df)"
      ]
    },
    {
      "cell_type": "markdown",
      "metadata": {
        "id": "j397D96QPe73"
      },
      "source": [
        "### 117. Add a new column \"Employee_Rating_New\" which should be as follows:"
      ]
    },
    {
      "cell_type": "markdown",
      "metadata": {
        "id": "rCmW_CxrPe73"
      },
      "source": [
        "Employee_Rating_New = max(1.5, 2*Employee_Rating - 3)"
      ]
    },
    {
      "cell_type": "code",
      "execution_count": null,
      "metadata": {
        "id": "HabxS2nEPe73"
      },
      "outputs": [],
      "source": []
    },
    {
      "cell_type": "markdown",
      "metadata": {
        "id": "XDBjDQmZPe74"
      },
      "source": [
        "### 118. Convert the entire DataFrame to a list of lists. Do NOT overwrite to the current dataframe object."
      ]
    },
    {
      "cell_type": "code",
      "execution_count": null,
      "metadata": {
        "id": "1gQNp9XxPe74"
      },
      "outputs": [],
      "source": []
    },
    {
      "cell_type": "markdown",
      "metadata": {
        "id": "VX4apTHYPe74"
      },
      "source": [
        "### 120. Rearrange the columns in the below order. Overwrite to the current DataFrame object."
      ]
    },
    {
      "cell_type": "code",
      "execution_count": null,
      "metadata": {
        "id": "GiSuCB1pPe74"
      },
      "outputs": [],
      "source": [
        "new_order = [\"Name\", \"Employee_Job_Title\", \"Company_Name\",\n",
        "             \"Employee_City\", \"Employee_Country\", \"Employment_Status\",\n",
        "             \"Employee_Salary\", \"Employee_Rating\", \"Employee_Rating_New\"]\n",
        "\n"
      ]
    },
    {
      "cell_type": "markdown",
      "metadata": {
        "id": "9zeaEu2DPe74"
      },
      "source": [
        "### 123. Drop the 'Name' column inplace from the DataFrame."
      ]
    },
    {
      "cell_type": "code",
      "execution_count": null,
      "metadata": {
        "id": "7RQLt4ARPe75",
        "outputId": "69b04cfa-2c3b-43c8-e0a9-2b433b0a25bd"
      },
      "outputs": [
        {
          "data": {
            "text/html": [
              "<div>\n",
              "<style scoped>\n",
              "    .dataframe tbody tr th:only-of-type {\n",
              "        vertical-align: middle;\n",
              "    }\n",
              "\n",
              "    .dataframe tbody tr th {\n",
              "        vertical-align: top;\n",
              "    }\n",
              "\n",
              "    .dataframe thead th {\n",
              "        text-align: right;\n",
              "    }\n",
              "</style>\n",
              "<table border=\"1\" class=\"dataframe\">\n",
              "  <thead>\n",
              "    <tr style=\"text-align: right;\">\n",
              "      <th></th>\n",
              "      <th>Employee_Job_Title</th>\n",
              "      <th>Company_Name</th>\n",
              "      <th>Employee_City</th>\n",
              "      <th>Employee_Country</th>\n",
              "      <th>Employment_Status</th>\n",
              "      <th>Employee_Salary</th>\n",
              "      <th>Employee_Rating</th>\n",
              "      <th>Employee_Rating_New</th>\n",
              "    </tr>\n",
              "  </thead>\n",
              "  <tbody>\n",
              "    <tr>\n",
              "      <th>0</th>\n",
              "      <td>Equities trader</td>\n",
              "      <td>James and Sons</td>\n",
              "      <td>New Russellton</td>\n",
              "      <td>Palestinian Territory</td>\n",
              "      <td>Full Time</td>\n",
              "      <td>321520</td>\n",
              "      <td>3.9</td>\n",
              "      <td>4.8</td>\n",
              "    </tr>\n",
              "    <tr>\n",
              "      <th>1</th>\n",
              "      <td>Diplomatic Services operational officer</td>\n",
              "      <td>Nichols-James</td>\n",
              "      <td>North Melissafurt</td>\n",
              "      <td>Marshall Islands</td>\n",
              "      <td>Full Time</td>\n",
              "      <td>589090</td>\n",
              "      <td>4.3</td>\n",
              "      <td>5.6</td>\n",
              "    </tr>\n",
              "    <tr>\n",
              "      <th>2</th>\n",
              "      <td>Regulatory affairs officer</td>\n",
              "      <td>Scott Inc</td>\n",
              "      <td>Wardfort</td>\n",
              "      <td>Anguilla</td>\n",
              "      <td>Full Time</td>\n",
              "      <td>630890</td>\n",
              "      <td>3.1</td>\n",
              "      <td>3.2</td>\n",
              "    </tr>\n",
              "    <tr>\n",
              "      <th>3</th>\n",
              "      <td>Production engineer</td>\n",
              "      <td>Johnston, Fleming and Tanner</td>\n",
              "      <td>West Jamesview</td>\n",
              "      <td>Syrian Arab Republic</td>\n",
              "      <td>Full Time</td>\n",
              "      <td>116400</td>\n",
              "      <td>3.1</td>\n",
              "      <td>3.2</td>\n",
              "    </tr>\n",
              "    <tr>\n",
              "      <th>4</th>\n",
              "      <td>Production engineer</td>\n",
              "      <td>Baker, Allen and Edwards</td>\n",
              "      <td>Whiteside</td>\n",
              "      <td>Dominica</td>\n",
              "      <td>Full Time</td>\n",
              "      <td>523499</td>\n",
              "      <td>4.8</td>\n",
              "      <td>6.6</td>\n",
              "    </tr>\n",
              "    <tr>\n",
              "      <th>...</th>\n",
              "      <td>...</td>\n",
              "      <td>...</td>\n",
              "      <td>...</td>\n",
              "      <td>...</td>\n",
              "      <td>...</td>\n",
              "      <td>...</td>\n",
              "      <td>...</td>\n",
              "      <td>...</td>\n",
              "    </tr>\n",
              "    <tr>\n",
              "      <th>299996</th>\n",
              "      <td>Administrator</td>\n",
              "      <td>Johnston, Fleming and Tanner</td>\n",
              "      <td>Aliciafort</td>\n",
              "      <td>Cuba</td>\n",
              "      <td>Intern</td>\n",
              "      <td>949580</td>\n",
              "      <td>2.6</td>\n",
              "      <td>2.2</td>\n",
              "    </tr>\n",
              "    <tr>\n",
              "      <th>299997</th>\n",
              "      <td>Administrator</td>\n",
              "      <td>Nichols-James</td>\n",
              "      <td>New Cindychester</td>\n",
              "      <td>Bolivia</td>\n",
              "      <td>Full Time</td>\n",
              "      <td>802830</td>\n",
              "      <td>0.6</td>\n",
              "      <td>1.5</td>\n",
              "    </tr>\n",
              "    <tr>\n",
              "      <th>299998</th>\n",
              "      <td>Make</td>\n",
              "      <td>Nichols-James</td>\n",
              "      <td>Whitakerbury</td>\n",
              "      <td>Western Sahara</td>\n",
              "      <td>Full Time</td>\n",
              "      <td>257240</td>\n",
              "      <td>2.4</td>\n",
              "      <td>1.8</td>\n",
              "    </tr>\n",
              "    <tr>\n",
              "      <th>299999</th>\n",
              "      <td>Actuary</td>\n",
              "      <td>James and Sons</td>\n",
              "      <td>New Russellton</td>\n",
              "      <td>United Kingdom</td>\n",
              "      <td>Intern</td>\n",
              "      <td>575770</td>\n",
              "      <td>3.3</td>\n",
              "      <td>3.6</td>\n",
              "    </tr>\n",
              "    <tr>\n",
              "      <th>300000</th>\n",
              "      <td>Production engineer</td>\n",
              "      <td>Scott Inc</td>\n",
              "      <td>Wardfort</td>\n",
              "      <td>Anguilla</td>\n",
              "      <td>Full Time</td>\n",
              "      <td>343930</td>\n",
              "      <td>3.3</td>\n",
              "      <td>3.6</td>\n",
              "    </tr>\n",
              "  </tbody>\n",
              "</table>\n",
              "<p>300001 rows × 8 columns</p>\n",
              "</div>"
            ],
            "text/plain": [
              "                             Employee_Job_Title                  Company_Name  \\\n",
              "0                               Equities trader                James and Sons   \n",
              "1       Diplomatic Services operational officer                 Nichols-James   \n",
              "2                    Regulatory affairs officer                     Scott Inc   \n",
              "3                           Production engineer  Johnston, Fleming and Tanner   \n",
              "4                           Production engineer      Baker, Allen and Edwards   \n",
              "...                                         ...                           ...   \n",
              "299996                            Administrator  Johnston, Fleming and Tanner   \n",
              "299997                            Administrator                 Nichols-James   \n",
              "299998                                     Make                 Nichols-James   \n",
              "299999                                  Actuary                James and Sons   \n",
              "300000                      Production engineer                     Scott Inc   \n",
              "\n",
              "            Employee_City       Employee_Country Employment_Status  \\\n",
              "0          New Russellton  Palestinian Territory         Full Time   \n",
              "1       North Melissafurt       Marshall Islands         Full Time   \n",
              "2                Wardfort               Anguilla         Full Time   \n",
              "3          West Jamesview   Syrian Arab Republic         Full Time   \n",
              "4               Whiteside               Dominica         Full Time   \n",
              "...                   ...                    ...               ...   \n",
              "299996         Aliciafort                   Cuba            Intern   \n",
              "299997   New Cindychester                Bolivia         Full Time   \n",
              "299998       Whitakerbury         Western Sahara         Full Time   \n",
              "299999     New Russellton         United Kingdom            Intern   \n",
              "300000           Wardfort               Anguilla         Full Time   \n",
              "\n",
              "        Employee_Salary  Employee_Rating  Employee_Rating_New  \n",
              "0                321520              3.9                  4.8  \n",
              "1                589090              4.3                  5.6  \n",
              "2                630890              3.1                  3.2  \n",
              "3                116400              3.1                  3.2  \n",
              "4                523499              4.8                  6.6  \n",
              "...                 ...              ...                  ...  \n",
              "299996           949580              2.6                  2.2  \n",
              "299997           802830              0.6                  1.5  \n",
              "299998           257240              2.4                  1.8  \n",
              "299999           575770              3.3                  3.6  \n",
              "300000           343930              3.3                  3.6  \n",
              "\n",
              "[300001 rows x 8 columns]"
            ]
          },
          "metadata": {},
          "output_type": "display_data"
        }
      ],
      "source": []
    },
    {
      "cell_type": "markdown",
      "metadata": {
        "id": "myepx0x9Pe75"
      },
      "source": [
        "### 126. Rename the columns and store to a new DataFrame 'df_renamed':"
      ]
    },
    {
      "cell_type": "markdown",
      "metadata": {
        "id": "deGE3auXPe75"
      },
      "source": [
        "1. Employee_Rating -> Rating\n",
        "2. Employee_Country -> Country\n",
        "3. Employee_Salary -> Salary\n",
        "4. Employee_Rating_New -> Rating_New\n",
        "5. Employment_Status -> Employment_type\n",
        "6. Employment_City -> City"
      ]
    },
    {
      "cell_type": "code",
      "execution_count": null,
      "metadata": {
        "id": "eK9nSJiHPe75"
      },
      "outputs": [],
      "source": []
    },
    {
      "cell_type": "markdown",
      "metadata": {
        "id": "mhM7zYBePe76"
      },
      "source": [
        "### 128. Count the number of NaN values in each column"
      ]
    },
    {
      "cell_type": "code",
      "execution_count": null,
      "metadata": {
        "id": "-OIBONVHPe76",
        "outputId": "e4f48e31-faf5-43ad-cce0-40078b3c8598"
      },
      "outputs": [
        {
          "data": {
            "text/plain": [
              "Employee_Job_Title     0\n",
              "Company_Name           0\n",
              "Employee_City          0\n",
              "Employee_Country       0\n",
              "Employment_Status      0\n",
              "Employee_Salary        0\n",
              "Employee_Rating        0\n",
              "Employee_Rating_New    0\n",
              "dtype: int64"
            ]
          },
          "metadata": {},
          "output_type": "display_data"
        }
      ],
      "source": []
    },
    {
      "cell_type": "markdown",
      "metadata": {
        "id": "Mmwv-BkePe76"
      },
      "source": [
        "### 131.  Map every Company_Name to a unique integer value. Name the new column \"Company_ID\".  "
      ]
    },
    {
      "cell_type": "markdown",
      "metadata": {
        "id": "NOk--optPe76"
      },
      "source": [
        "For instance, if the data has 5 companies, \"Company A\" -> 1, \"Company B\" -> 2, \"Company C\" -> 3, \"Company D\" -> 4, \"Company E\" -> 5."
      ]
    },
    {
      "cell_type": "code",
      "execution_count": null,
      "metadata": {
        "id": "AaoXRKB_Pe77"
      },
      "outputs": [],
      "source": []
    },
    {
      "cell_type": "markdown",
      "metadata": {
        "id": "PgXvWQrsPe77"
      },
      "source": [
        "### 133. Print the number of rows where 'City' belongs to the following list of cities."
      ]
    },
    {
      "cell_type": "markdown",
      "metadata": {
        "id": "dfLlVniSPe77"
      },
      "source": [
        "Use the isin() method."
      ]
    },
    {
      "cell_type": "code",
      "execution_count": null,
      "metadata": {
        "id": "Z7hJfEGoPe77",
        "outputId": "1de1f4e0-cb9e-4271-a69b-d9abb9bd98d7"
      },
      "outputs": [
        {
          "name": "stdout",
          "output_type": "stream",
          "text": [
            "90054\n"
          ]
        }
      ],
      "source": [
        "city_filter_list = [\"New Russellton\", \"Whiteside\", \"Kristaburgh\"]\n",
        "\n",
        "row_count =\n",
        "print(row_count)"
      ]
    },
    {
      "cell_type": "markdown",
      "metadata": {
        "id": "RWaTfVdzPe77"
      },
      "source": [
        "### 135. Print the name of the person with the 10th largest salary. If there are multiple people with the same salary, print all names."
      ]
    },
    {
      "cell_type": "code",
      "execution_count": null,
      "metadata": {
        "id": "nf_k7gPOPe78",
        "outputId": "f2adfc10-959c-4d43-ce8b-02390212e423"
      },
      "outputs": [
        {
          "data": {
            "text/plain": [
              "array(['Allen Chavez', 'David Ryan', 'Elizabeth Bell', 'Megan Petersen'],\n",
              "      dtype=object)"
            ]
          },
          "metadata": {},
          "output_type": "display_data"
        }
      ],
      "source": []
    },
    {
      "cell_type": "markdown",
      "metadata": {
        "id": "RBkKlLHIPe78"
      },
      "source": [
        "### 136. Print a cross tabulation of Company Name and Employment Type."
      ]
    },
    {
      "cell_type": "code",
      "execution_count": null,
      "metadata": {
        "id": "rRkwdkPbPe78",
        "outputId": "c40423eb-c86d-47f3-d5e3-e548063e5744"
      },
      "outputs": [
        {
          "name": "stdout",
          "output_type": "stream",
          "text": [
            "Employment_Status               Full Time  Intern\n",
            "Company_Name                                     \n",
            "Andrade LLC                         15964    4019\n",
            "Baker, Allen and Edwards            16118    3966\n",
            "Bullock-Carrillo                    16135    3928\n",
            "Campos, Reynolds and Mccormick      15930    3997\n",
            "James and Sons                      15888    3980\n",
            "Johnston, Fleming and Tanner        15832    3979\n",
            "Marshall-Holloway                   15871    3988\n",
            "Matthews Inc                        16082    4001\n",
            "Nelson-Li                           16027    4105\n",
            "Nichols-James                       15872    4039\n",
            "Scott Inc                           16396    3994\n",
            "Taylor-Ramos                        16086    4036\n",
            "Thomas-Spencer                      16037    4105\n",
            "Wallace, Smith and Shepard          15467    3897\n",
            "White, Mcclain and Cobb             16305    3956\n"
          ]
        }
      ],
      "source": []
    },
    {
      "cell_type": "markdown",
      "metadata": {
        "id": "QrM0r91NPe78"
      },
      "source": [
        "### 143-145. Print the 25th, 50th and 75th percentile of the Salary column"
      ]
    },
    {
      "cell_type": "code",
      "execution_count": null,
      "metadata": {
        "id": "ljZc-1O1Pe78",
        "outputId": "44bd1fcc-a6a6-4981-b699-059ad38091c2"
      },
      "outputs": [
        {
          "data": {
            "text/plain": [
              "25%    250000.0\n",
              "50%    500780.0\n",
              "75%    749710.0\n",
              "Name: Employee_Salary, dtype: float64"
            ]
          },
          "metadata": {},
          "output_type": "display_data"
        }
      ],
      "source": []
    },
    {
      "cell_type": "markdown",
      "metadata": {
        "id": "-TL8a8tUPe79"
      },
      "source": [
        "### 147. Distribute the Salary column in 10 equal sized bins and label each bin from 1 to 10 and add a new column named \"Labels\""
      ]
    },
    {
      "cell_type": "code",
      "execution_count": null,
      "metadata": {
        "id": "hrbC-VNUPe79"
      },
      "outputs": [],
      "source": []
    },
    {
      "cell_type": "markdown",
      "metadata": {
        "id": "kVe6rP-kPe79"
      },
      "source": [
        "# Pandas Notebook 4"
      ]
    },
    {
      "cell_type": "markdown",
      "metadata": {
        "id": "H0Wbl2GQPe79"
      },
      "source": [
        "### 151. Sort DataFrame based on another list"
      ]
    },
    {
      "cell_type": "code",
      "execution_count": null,
      "metadata": {
        "id": "CBIbQltKPe79"
      },
      "outputs": [],
      "source": [
        "import pandas as pd"
      ]
    },
    {
      "cell_type": "code",
      "execution_count": 68,
      "metadata": {
        "id": "QVMuIqR4Pe79",
        "outputId": "57d822c0-dd33-413c-eb5e-1ce4a3a1c11e",
        "colab": {
          "base_uri": "https://localhost:8080/"
        }
      },
      "outputs": [
        {
          "output_type": "stream",
          "name": "stdout",
          "text": [
            "None\n"
          ]
        }
      ],
      "source": [
        "df = pd.DataFrame([[\"A\", 1], [\"B\", 2],\n",
        "                   [\"C\", 3], [\"D\", 4]], columns=[\"col1\", \"col2\"])\n",
        "\n",
        "sort_list = [\"C\", \"A\", \"D\", \"B\"]\n",
        "\n",
        "# start your code below\n",
        "\n",
        "df['sort_order'] = df['col1'].map(lambda x: sort_list.index(x))\n",
        "df.sort_values(by='sort_order', ascending=True, inplace=True)\n",
        "new_df = df.drop(columns='sort_order', inplace=True)\n",
        "\n",
        "# end your code here\n",
        "print(new_df)\n"
      ]
    },
    {
      "cell_type": "markdown",
      "metadata": {
        "id": "rOMXwrxgPe7-"
      },
      "source": [
        "### 152. Insert a column at a specific location in a DataFrame with a name, \"new_column\""
      ]
    },
    {
      "cell_type": "code",
      "execution_count": 67,
      "metadata": {
        "id": "XByXiC12Pe7-"
      },
      "outputs": [],
      "source": [
        "df = pd.DataFrame([[\"A\", 1], [\"B\", 2],\n",
        "                   [\"C\", 3], [\"D\", 4]],\n",
        "                  columns=[\"col_A\", \"col_B\"])\n",
        "\n",
        "new_column = [\"P\", \"Q\", \"R\", \"S\"]\n",
        "insert_position = 1 ## between col_A and col_B\n",
        "\n",
        "## start your code below\n",
        "insert_position = 1\n",
        "df.insert(insert_position, \"new_column\", new_column)\n",
        "## end your code here\n"
      ]
    },
    {
      "cell_type": "markdown",
      "metadata": {
        "id": "3shGNnyzPe7-"
      },
      "source": [
        "### 154. Count the number of Non-NaN cells for each column"
      ]
    },
    {
      "cell_type": "code",
      "execution_count": null,
      "metadata": {
        "id": "rHuyZYDUPe7-"
      },
      "outputs": [],
      "source": [
        "import numpy as np"
      ]
    },
    {
      "cell_type": "code",
      "execution_count": 49,
      "metadata": {
        "id": "HWws51PzPe7_",
        "outputId": "e4ebcf73-999c-4c22-b4f6-72d5143039c5",
        "colab": {
          "base_uri": "https://localhost:8080/"
        }
      },
      "outputs": [
        {
          "output_type": "stream",
          "name": "stdout",
          "text": [
            "col_A    3\n",
            "col_B    2\n",
            "dtype: int64\n"
          ]
        }
      ],
      "source": [
        "df = pd.DataFrame([[\"A\", np.NaN], [np.NaN, 2],\n",
        "                   [\"C\", np.NaN], [\"D\", 4]],\n",
        "                  columns=[\"col_A\", \"col_B\"])\n",
        "\n",
        "## start your code below\n",
        "non_nan_count = df.count()\n",
        "print(non_nan_count)\n",
        "## end your code here\n"
      ]
    },
    {
      "cell_type": "markdown",
      "metadata": {
        "id": "gJLDTWytPe7_"
      },
      "source": [
        "### 156. Reverse DataFrame row-wise"
      ]
    },
    {
      "cell_type": "code",
      "execution_count": 50,
      "metadata": {
        "id": "Dp5oaekgPe7_",
        "outputId": "b91b7c63-a284-487b-bb22-98ce78942f8f",
        "colab": {
          "base_uri": "https://localhost:8080/"
        }
      },
      "outputs": [
        {
          "output_type": "stream",
          "name": "stdout",
          "text": [
            "  col_A  col_B\n",
            "3     D      4\n",
            "2     C      3\n",
            "1     B      2\n",
            "0     A      1\n"
          ]
        }
      ],
      "source": [
        "df = pd.DataFrame([[\"A\", 1], [\"B\", 2],\n",
        "                   [\"C\", 3], [\"D\", 4]],\n",
        "                  columns=[\"col_A\", \"col_B\"])\n",
        "\n",
        "## start your code below\n",
        "reversed_df = df[::-1]\n",
        "print(reversed_df)\n",
        "## end our code here\n",
        "\n"
      ]
    },
    {
      "cell_type": "markdown",
      "metadata": {
        "id": "pU4_yh9QPe7_"
      },
      "source": [
        "### 157. Reverse DataFrame column-wise"
      ]
    },
    {
      "cell_type": "code",
      "execution_count": 51,
      "metadata": {
        "id": "B1zbUlyuPe8A",
        "outputId": "be7883c3-8b66-4064-bdac-b10dfcecd11f",
        "colab": {
          "base_uri": "https://localhost:8080/"
        }
      },
      "outputs": [
        {
          "output_type": "stream",
          "name": "stdout",
          "text": [
            "   col_B col_A\n",
            "0      1     A\n",
            "1      2     B\n",
            "2      3     C\n",
            "3      4     D\n"
          ]
        }
      ],
      "source": [
        "df = pd.DataFrame([[\"A\", 1], [\"B\", 2],\n",
        "                   [\"C\", 3], [\"D\", 4]],\n",
        "                  columns=[\"col_A\", \"col_B\"])\n",
        "\n",
        "## start your code below\n",
        "reversed_df = df[df.columns[::-1]]\n",
        "print(reversed_df)\n",
        "## end your code here\n"
      ]
    },
    {
      "cell_type": "markdown",
      "metadata": {
        "id": "G5OmWLAaPe8A"
      },
      "source": [
        "### 158. Insert a row at an arbitrary position"
      ]
    },
    {
      "cell_type": "code",
      "execution_count": 66,
      "metadata": {
        "id": "QpBYs6BaPe8A",
        "outputId": "0a8b04bb-bb8e-46cf-ef2f-09406f600cd0",
        "colab": {
          "base_uri": "https://localhost:8080/",
          "height": 242
        }
      },
      "outputs": [
        {
          "output_type": "stream",
          "name": "stderr",
          "text": [
            "<ipython-input-66-cdc6de60220f>:11: FutureWarning: The default dtype for empty Series will be 'object' instead of 'float64' in a future version. Specify a dtype explicitly to silence this warning.\n",
            "  df.loc[len(df)] = None\n"
          ]
        },
        {
          "output_type": "execute_result",
          "data": {
            "text/plain": [
              "  col_A  col_B\n",
              "0     A    1.0\n",
              "1     P    5.0\n",
              "2     B    2.0\n",
              "3     C    3.0\n",
              "4     D    4.0"
            ],
            "text/html": [
              "\n",
              "  <div id=\"df-90656a39-7f46-44cb-bef4-d24f0e5cf86b\" class=\"colab-df-container\">\n",
              "    <div>\n",
              "<style scoped>\n",
              "    .dataframe tbody tr th:only-of-type {\n",
              "        vertical-align: middle;\n",
              "    }\n",
              "\n",
              "    .dataframe tbody tr th {\n",
              "        vertical-align: top;\n",
              "    }\n",
              "\n",
              "    .dataframe thead th {\n",
              "        text-align: right;\n",
              "    }\n",
              "</style>\n",
              "<table border=\"1\" class=\"dataframe\">\n",
              "  <thead>\n",
              "    <tr style=\"text-align: right;\">\n",
              "      <th></th>\n",
              "      <th>col_A</th>\n",
              "      <th>col_B</th>\n",
              "    </tr>\n",
              "  </thead>\n",
              "  <tbody>\n",
              "    <tr>\n",
              "      <th>0</th>\n",
              "      <td>A</td>\n",
              "      <td>1.0</td>\n",
              "    </tr>\n",
              "    <tr>\n",
              "      <th>1</th>\n",
              "      <td>P</td>\n",
              "      <td>5.0</td>\n",
              "    </tr>\n",
              "    <tr>\n",
              "      <th>2</th>\n",
              "      <td>B</td>\n",
              "      <td>2.0</td>\n",
              "    </tr>\n",
              "    <tr>\n",
              "      <th>3</th>\n",
              "      <td>C</td>\n",
              "      <td>3.0</td>\n",
              "    </tr>\n",
              "    <tr>\n",
              "      <th>4</th>\n",
              "      <td>D</td>\n",
              "      <td>4.0</td>\n",
              "    </tr>\n",
              "  </tbody>\n",
              "</table>\n",
              "</div>\n",
              "    <div class=\"colab-df-buttons\">\n",
              "\n",
              "  <div class=\"colab-df-container\">\n",
              "    <button class=\"colab-df-convert\" onclick=\"convertToInteractive('df-90656a39-7f46-44cb-bef4-d24f0e5cf86b')\"\n",
              "            title=\"Convert this dataframe to an interactive table.\"\n",
              "            style=\"display:none;\">\n",
              "\n",
              "  <svg xmlns=\"http://www.w3.org/2000/svg\" height=\"24px\" viewBox=\"0 -960 960 960\">\n",
              "    <path d=\"M120-120v-720h720v720H120Zm60-500h600v-160H180v160Zm220 220h160v-160H400v160Zm0 220h160v-160H400v160ZM180-400h160v-160H180v160Zm440 0h160v-160H620v160ZM180-180h160v-160H180v160Zm440 0h160v-160H620v160Z\"/>\n",
              "  </svg>\n",
              "    </button>\n",
              "\n",
              "  <style>\n",
              "    .colab-df-container {\n",
              "      display:flex;\n",
              "      gap: 12px;\n",
              "    }\n",
              "\n",
              "    .colab-df-convert {\n",
              "      background-color: #E8F0FE;\n",
              "      border: none;\n",
              "      border-radius: 50%;\n",
              "      cursor: pointer;\n",
              "      display: none;\n",
              "      fill: #1967D2;\n",
              "      height: 32px;\n",
              "      padding: 0 0 0 0;\n",
              "      width: 32px;\n",
              "    }\n",
              "\n",
              "    .colab-df-convert:hover {\n",
              "      background-color: #E2EBFA;\n",
              "      box-shadow: 0px 1px 2px rgba(60, 64, 67, 0.3), 0px 1px 3px 1px rgba(60, 64, 67, 0.15);\n",
              "      fill: #174EA6;\n",
              "    }\n",
              "\n",
              "    .colab-df-buttons div {\n",
              "      margin-bottom: 4px;\n",
              "    }\n",
              "\n",
              "    [theme=dark] .colab-df-convert {\n",
              "      background-color: #3B4455;\n",
              "      fill: #D2E3FC;\n",
              "    }\n",
              "\n",
              "    [theme=dark] .colab-df-convert:hover {\n",
              "      background-color: #434B5C;\n",
              "      box-shadow: 0px 1px 3px 1px rgba(0, 0, 0, 0.15);\n",
              "      filter: drop-shadow(0px 1px 2px rgba(0, 0, 0, 0.3));\n",
              "      fill: #FFFFFF;\n",
              "    }\n",
              "  </style>\n",
              "\n",
              "    <script>\n",
              "      const buttonEl =\n",
              "        document.querySelector('#df-90656a39-7f46-44cb-bef4-d24f0e5cf86b button.colab-df-convert');\n",
              "      buttonEl.style.display =\n",
              "        google.colab.kernel.accessAllowed ? 'block' : 'none';\n",
              "\n",
              "      async function convertToInteractive(key) {\n",
              "        const element = document.querySelector('#df-90656a39-7f46-44cb-bef4-d24f0e5cf86b');\n",
              "        const dataTable =\n",
              "          await google.colab.kernel.invokeFunction('convertToInteractive',\n",
              "                                                    [key], {});\n",
              "        if (!dataTable) return;\n",
              "\n",
              "        const docLinkHtml = 'Like what you see? Visit the ' +\n",
              "          '<a target=\"_blank\" href=https://colab.research.google.com/notebooks/data_table.ipynb>data table notebook</a>'\n",
              "          + ' to learn more about interactive tables.';\n",
              "        element.innerHTML = '';\n",
              "        dataTable['output_type'] = 'display_data';\n",
              "        await google.colab.output.renderOutput(dataTable, element);\n",
              "        const docLink = document.createElement('div');\n",
              "        docLink.innerHTML = docLinkHtml;\n",
              "        element.appendChild(docLink);\n",
              "      }\n",
              "    </script>\n",
              "  </div>\n",
              "\n",
              "\n",
              "<div id=\"df-d55e4276-e85e-4c59-899e-d1353e0ba817\">\n",
              "  <button class=\"colab-df-quickchart\" onclick=\"quickchart('df-d55e4276-e85e-4c59-899e-d1353e0ba817')\"\n",
              "            title=\"Suggest charts\"\n",
              "            style=\"display:none;\">\n",
              "\n",
              "<svg xmlns=\"http://www.w3.org/2000/svg\" height=\"24px\"viewBox=\"0 0 24 24\"\n",
              "     width=\"24px\">\n",
              "    <g>\n",
              "        <path d=\"M19 3H5c-1.1 0-2 .9-2 2v14c0 1.1.9 2 2 2h14c1.1 0 2-.9 2-2V5c0-1.1-.9-2-2-2zM9 17H7v-7h2v7zm4 0h-2V7h2v10zm4 0h-2v-4h2v4z\"/>\n",
              "    </g>\n",
              "</svg>\n",
              "  </button>\n",
              "\n",
              "<style>\n",
              "  .colab-df-quickchart {\n",
              "      --bg-color: #E8F0FE;\n",
              "      --fill-color: #1967D2;\n",
              "      --hover-bg-color: #E2EBFA;\n",
              "      --hover-fill-color: #174EA6;\n",
              "      --disabled-fill-color: #AAA;\n",
              "      --disabled-bg-color: #DDD;\n",
              "  }\n",
              "\n",
              "  [theme=dark] .colab-df-quickchart {\n",
              "      --bg-color: #3B4455;\n",
              "      --fill-color: #D2E3FC;\n",
              "      --hover-bg-color: #434B5C;\n",
              "      --hover-fill-color: #FFFFFF;\n",
              "      --disabled-bg-color: #3B4455;\n",
              "      --disabled-fill-color: #666;\n",
              "  }\n",
              "\n",
              "  .colab-df-quickchart {\n",
              "    background-color: var(--bg-color);\n",
              "    border: none;\n",
              "    border-radius: 50%;\n",
              "    cursor: pointer;\n",
              "    display: none;\n",
              "    fill: var(--fill-color);\n",
              "    height: 32px;\n",
              "    padding: 0;\n",
              "    width: 32px;\n",
              "  }\n",
              "\n",
              "  .colab-df-quickchart:hover {\n",
              "    background-color: var(--hover-bg-color);\n",
              "    box-shadow: 0 1px 2px rgba(60, 64, 67, 0.3), 0 1px 3px 1px rgba(60, 64, 67, 0.15);\n",
              "    fill: var(--button-hover-fill-color);\n",
              "  }\n",
              "\n",
              "  .colab-df-quickchart-complete:disabled,\n",
              "  .colab-df-quickchart-complete:disabled:hover {\n",
              "    background-color: var(--disabled-bg-color);\n",
              "    fill: var(--disabled-fill-color);\n",
              "    box-shadow: none;\n",
              "  }\n",
              "\n",
              "  .colab-df-spinner {\n",
              "    border: 2px solid var(--fill-color);\n",
              "    border-color: transparent;\n",
              "    border-bottom-color: var(--fill-color);\n",
              "    animation:\n",
              "      spin 1s steps(1) infinite;\n",
              "  }\n",
              "\n",
              "  @keyframes spin {\n",
              "    0% {\n",
              "      border-color: transparent;\n",
              "      border-bottom-color: var(--fill-color);\n",
              "      border-left-color: var(--fill-color);\n",
              "    }\n",
              "    20% {\n",
              "      border-color: transparent;\n",
              "      border-left-color: var(--fill-color);\n",
              "      border-top-color: var(--fill-color);\n",
              "    }\n",
              "    30% {\n",
              "      border-color: transparent;\n",
              "      border-left-color: var(--fill-color);\n",
              "      border-top-color: var(--fill-color);\n",
              "      border-right-color: var(--fill-color);\n",
              "    }\n",
              "    40% {\n",
              "      border-color: transparent;\n",
              "      border-right-color: var(--fill-color);\n",
              "      border-top-color: var(--fill-color);\n",
              "    }\n",
              "    60% {\n",
              "      border-color: transparent;\n",
              "      border-right-color: var(--fill-color);\n",
              "    }\n",
              "    80% {\n",
              "      border-color: transparent;\n",
              "      border-right-color: var(--fill-color);\n",
              "      border-bottom-color: var(--fill-color);\n",
              "    }\n",
              "    90% {\n",
              "      border-color: transparent;\n",
              "      border-bottom-color: var(--fill-color);\n",
              "    }\n",
              "  }\n",
              "</style>\n",
              "\n",
              "  <script>\n",
              "    async function quickchart(key) {\n",
              "      const quickchartButtonEl =\n",
              "        document.querySelector('#' + key + ' button');\n",
              "      quickchartButtonEl.disabled = true;  // To prevent multiple clicks.\n",
              "      quickchartButtonEl.classList.add('colab-df-spinner');\n",
              "      try {\n",
              "        const charts = await google.colab.kernel.invokeFunction(\n",
              "            'suggestCharts', [key], {});\n",
              "      } catch (error) {\n",
              "        console.error('Error during call to suggestCharts:', error);\n",
              "      }\n",
              "      quickchartButtonEl.classList.remove('colab-df-spinner');\n",
              "      quickchartButtonEl.classList.add('colab-df-quickchart-complete');\n",
              "    }\n",
              "    (() => {\n",
              "      let quickchartButtonEl =\n",
              "        document.querySelector('#df-d55e4276-e85e-4c59-899e-d1353e0ba817 button');\n",
              "      quickchartButtonEl.style.display =\n",
              "        google.colab.kernel.accessAllowed ? 'block' : 'none';\n",
              "    })();\n",
              "  </script>\n",
              "</div>\n",
              "    </div>\n",
              "  </div>\n"
            ]
          },
          "metadata": {},
          "execution_count": 66
        }
      ],
      "source": [
        "df = pd.DataFrame([[\"A\", 1], [\"B\", 2],\n",
        "                   [\"C\", 3], [\"D\", 4]],\n",
        "                  columns=[\"col_A\", \"col_B\"])\n",
        "\n",
        "insert_pos = 1\n",
        "insert_row = [\"P\", 5]\n",
        "\n",
        "## start your code below\n",
        "pos = 1\n",
        "row = [\"P\", 5]\n",
        "df.loc[len(df)] = None\n",
        "df.iloc[pos+1:] = df.iloc[pos:-1].values\n",
        "df.iloc[pos] = row\n",
        "\n",
        "## end your code here\n",
        "df"
      ]
    },
    {
      "cell_type": "markdown",
      "metadata": {
        "id": "0qrE1LqlPe8A"
      },
      "source": [
        "### 160. The cumulative sum of a column in DataFrame"
      ]
    },
    {
      "cell_type": "code",
      "execution_count": 53,
      "metadata": {
        "id": "AQrSlracPe8B",
        "outputId": "3c55f95b-2e3c-4d31-e1ed-0cbfcb426c19",
        "colab": {
          "base_uri": "https://localhost:8080/"
        }
      },
      "outputs": [
        {
          "output_type": "execute_result",
          "data": {
            "text/plain": [
              "0     1\n",
              "1     3\n",
              "2     6\n",
              "3    10\n",
              "Name: col_B, dtype: int64"
            ]
          },
          "metadata": {},
          "execution_count": 53
        }
      ],
      "source": [
        "df = pd.DataFrame([[\"A\", 1], [\"B\", 2],\n",
        "                   [\"C\", 3], [\"D\", 4]], columns=[\"col_A\", \"col_B\"])\n",
        "\n",
        "## start your code below\n",
        "new_df = df['col_B'].cumsum()\n",
        "## end your code here\n",
        "\n",
        "new_df"
      ]
    },
    {
      "cell_type": "markdown",
      "metadata": {
        "id": "JFw8wRDDPe8B"
      },
      "source": [
        "### 165. Filter n-largest values from a DataFrame"
      ]
    },
    {
      "cell_type": "code",
      "execution_count": 54,
      "metadata": {
        "id": "bUN5ZeDnPe8B",
        "outputId": "be68cac1-34e8-49e5-cdd6-f359aa3c4328",
        "colab": {
          "base_uri": "https://localhost:8080/",
          "height": 112
        }
      },
      "outputs": [
        {
          "output_type": "execute_result",
          "data": {
            "text/plain": [
              "  col_A  col_B\n",
              "1     B    400\n",
              "3     D    300"
            ],
            "text/html": [
              "\n",
              "  <div id=\"df-781a1443-2e31-4b7d-ae03-c0e161c4ae2a\" class=\"colab-df-container\">\n",
              "    <div>\n",
              "<style scoped>\n",
              "    .dataframe tbody tr th:only-of-type {\n",
              "        vertical-align: middle;\n",
              "    }\n",
              "\n",
              "    .dataframe tbody tr th {\n",
              "        vertical-align: top;\n",
              "    }\n",
              "\n",
              "    .dataframe thead th {\n",
              "        text-align: right;\n",
              "    }\n",
              "</style>\n",
              "<table border=\"1\" class=\"dataframe\">\n",
              "  <thead>\n",
              "    <tr style=\"text-align: right;\">\n",
              "      <th></th>\n",
              "      <th>col_A</th>\n",
              "      <th>col_B</th>\n",
              "    </tr>\n",
              "  </thead>\n",
              "  <tbody>\n",
              "    <tr>\n",
              "      <th>1</th>\n",
              "      <td>B</td>\n",
              "      <td>400</td>\n",
              "    </tr>\n",
              "    <tr>\n",
              "      <th>3</th>\n",
              "      <td>D</td>\n",
              "      <td>300</td>\n",
              "    </tr>\n",
              "  </tbody>\n",
              "</table>\n",
              "</div>\n",
              "    <div class=\"colab-df-buttons\">\n",
              "\n",
              "  <div class=\"colab-df-container\">\n",
              "    <button class=\"colab-df-convert\" onclick=\"convertToInteractive('df-781a1443-2e31-4b7d-ae03-c0e161c4ae2a')\"\n",
              "            title=\"Convert this dataframe to an interactive table.\"\n",
              "            style=\"display:none;\">\n",
              "\n",
              "  <svg xmlns=\"http://www.w3.org/2000/svg\" height=\"24px\" viewBox=\"0 -960 960 960\">\n",
              "    <path d=\"M120-120v-720h720v720H120Zm60-500h600v-160H180v160Zm220 220h160v-160H400v160Zm0 220h160v-160H400v160ZM180-400h160v-160H180v160Zm440 0h160v-160H620v160ZM180-180h160v-160H180v160Zm440 0h160v-160H620v160Z\"/>\n",
              "  </svg>\n",
              "    </button>\n",
              "\n",
              "  <style>\n",
              "    .colab-df-container {\n",
              "      display:flex;\n",
              "      gap: 12px;\n",
              "    }\n",
              "\n",
              "    .colab-df-convert {\n",
              "      background-color: #E8F0FE;\n",
              "      border: none;\n",
              "      border-radius: 50%;\n",
              "      cursor: pointer;\n",
              "      display: none;\n",
              "      fill: #1967D2;\n",
              "      height: 32px;\n",
              "      padding: 0 0 0 0;\n",
              "      width: 32px;\n",
              "    }\n",
              "\n",
              "    .colab-df-convert:hover {\n",
              "      background-color: #E2EBFA;\n",
              "      box-shadow: 0px 1px 2px rgba(60, 64, 67, 0.3), 0px 1px 3px 1px rgba(60, 64, 67, 0.15);\n",
              "      fill: #174EA6;\n",
              "    }\n",
              "\n",
              "    .colab-df-buttons div {\n",
              "      margin-bottom: 4px;\n",
              "    }\n",
              "\n",
              "    [theme=dark] .colab-df-convert {\n",
              "      background-color: #3B4455;\n",
              "      fill: #D2E3FC;\n",
              "    }\n",
              "\n",
              "    [theme=dark] .colab-df-convert:hover {\n",
              "      background-color: #434B5C;\n",
              "      box-shadow: 0px 1px 3px 1px rgba(0, 0, 0, 0.15);\n",
              "      filter: drop-shadow(0px 1px 2px rgba(0, 0, 0, 0.3));\n",
              "      fill: #FFFFFF;\n",
              "    }\n",
              "  </style>\n",
              "\n",
              "    <script>\n",
              "      const buttonEl =\n",
              "        document.querySelector('#df-781a1443-2e31-4b7d-ae03-c0e161c4ae2a button.colab-df-convert');\n",
              "      buttonEl.style.display =\n",
              "        google.colab.kernel.accessAllowed ? 'block' : 'none';\n",
              "\n",
              "      async function convertToInteractive(key) {\n",
              "        const element = document.querySelector('#df-781a1443-2e31-4b7d-ae03-c0e161c4ae2a');\n",
              "        const dataTable =\n",
              "          await google.colab.kernel.invokeFunction('convertToInteractive',\n",
              "                                                    [key], {});\n",
              "        if (!dataTable) return;\n",
              "\n",
              "        const docLinkHtml = 'Like what you see? Visit the ' +\n",
              "          '<a target=\"_blank\" href=https://colab.research.google.com/notebooks/data_table.ipynb>data table notebook</a>'\n",
              "          + ' to learn more about interactive tables.';\n",
              "        element.innerHTML = '';\n",
              "        dataTable['output_type'] = 'display_data';\n",
              "        await google.colab.output.renderOutput(dataTable, element);\n",
              "        const docLink = document.createElement('div');\n",
              "        docLink.innerHTML = docLinkHtml;\n",
              "        element.appendChild(docLink);\n",
              "      }\n",
              "    </script>\n",
              "  </div>\n",
              "\n",
              "\n",
              "<div id=\"df-03e98ac0-53da-4acf-9836-4cd3d585e60d\">\n",
              "  <button class=\"colab-df-quickchart\" onclick=\"quickchart('df-03e98ac0-53da-4acf-9836-4cd3d585e60d')\"\n",
              "            title=\"Suggest charts\"\n",
              "            style=\"display:none;\">\n",
              "\n",
              "<svg xmlns=\"http://www.w3.org/2000/svg\" height=\"24px\"viewBox=\"0 0 24 24\"\n",
              "     width=\"24px\">\n",
              "    <g>\n",
              "        <path d=\"M19 3H5c-1.1 0-2 .9-2 2v14c0 1.1.9 2 2 2h14c1.1 0 2-.9 2-2V5c0-1.1-.9-2-2-2zM9 17H7v-7h2v7zm4 0h-2V7h2v10zm4 0h-2v-4h2v4z\"/>\n",
              "    </g>\n",
              "</svg>\n",
              "  </button>\n",
              "\n",
              "<style>\n",
              "  .colab-df-quickchart {\n",
              "      --bg-color: #E8F0FE;\n",
              "      --fill-color: #1967D2;\n",
              "      --hover-bg-color: #E2EBFA;\n",
              "      --hover-fill-color: #174EA6;\n",
              "      --disabled-fill-color: #AAA;\n",
              "      --disabled-bg-color: #DDD;\n",
              "  }\n",
              "\n",
              "  [theme=dark] .colab-df-quickchart {\n",
              "      --bg-color: #3B4455;\n",
              "      --fill-color: #D2E3FC;\n",
              "      --hover-bg-color: #434B5C;\n",
              "      --hover-fill-color: #FFFFFF;\n",
              "      --disabled-bg-color: #3B4455;\n",
              "      --disabled-fill-color: #666;\n",
              "  }\n",
              "\n",
              "  .colab-df-quickchart {\n",
              "    background-color: var(--bg-color);\n",
              "    border: none;\n",
              "    border-radius: 50%;\n",
              "    cursor: pointer;\n",
              "    display: none;\n",
              "    fill: var(--fill-color);\n",
              "    height: 32px;\n",
              "    padding: 0;\n",
              "    width: 32px;\n",
              "  }\n",
              "\n",
              "  .colab-df-quickchart:hover {\n",
              "    background-color: var(--hover-bg-color);\n",
              "    box-shadow: 0 1px 2px rgba(60, 64, 67, 0.3), 0 1px 3px 1px rgba(60, 64, 67, 0.15);\n",
              "    fill: var(--button-hover-fill-color);\n",
              "  }\n",
              "\n",
              "  .colab-df-quickchart-complete:disabled,\n",
              "  .colab-df-quickchart-complete:disabled:hover {\n",
              "    background-color: var(--disabled-bg-color);\n",
              "    fill: var(--disabled-fill-color);\n",
              "    box-shadow: none;\n",
              "  }\n",
              "\n",
              "  .colab-df-spinner {\n",
              "    border: 2px solid var(--fill-color);\n",
              "    border-color: transparent;\n",
              "    border-bottom-color: var(--fill-color);\n",
              "    animation:\n",
              "      spin 1s steps(1) infinite;\n",
              "  }\n",
              "\n",
              "  @keyframes spin {\n",
              "    0% {\n",
              "      border-color: transparent;\n",
              "      border-bottom-color: var(--fill-color);\n",
              "      border-left-color: var(--fill-color);\n",
              "    }\n",
              "    20% {\n",
              "      border-color: transparent;\n",
              "      border-left-color: var(--fill-color);\n",
              "      border-top-color: var(--fill-color);\n",
              "    }\n",
              "    30% {\n",
              "      border-color: transparent;\n",
              "      border-left-color: var(--fill-color);\n",
              "      border-top-color: var(--fill-color);\n",
              "      border-right-color: var(--fill-color);\n",
              "    }\n",
              "    40% {\n",
              "      border-color: transparent;\n",
              "      border-right-color: var(--fill-color);\n",
              "      border-top-color: var(--fill-color);\n",
              "    }\n",
              "    60% {\n",
              "      border-color: transparent;\n",
              "      border-right-color: var(--fill-color);\n",
              "    }\n",
              "    80% {\n",
              "      border-color: transparent;\n",
              "      border-right-color: var(--fill-color);\n",
              "      border-bottom-color: var(--fill-color);\n",
              "    }\n",
              "    90% {\n",
              "      border-color: transparent;\n",
              "      border-bottom-color: var(--fill-color);\n",
              "    }\n",
              "  }\n",
              "</style>\n",
              "\n",
              "  <script>\n",
              "    async function quickchart(key) {\n",
              "      const quickchartButtonEl =\n",
              "        document.querySelector('#' + key + ' button');\n",
              "      quickchartButtonEl.disabled = true;  // To prevent multiple clicks.\n",
              "      quickchartButtonEl.classList.add('colab-df-spinner');\n",
              "      try {\n",
              "        const charts = await google.colab.kernel.invokeFunction(\n",
              "            'suggestCharts', [key], {});\n",
              "      } catch (error) {\n",
              "        console.error('Error during call to suggestCharts:', error);\n",
              "      }\n",
              "      quickchartButtonEl.classList.remove('colab-df-spinner');\n",
              "      quickchartButtonEl.classList.add('colab-df-quickchart-complete');\n",
              "    }\n",
              "    (() => {\n",
              "      let quickchartButtonEl =\n",
              "        document.querySelector('#df-03e98ac0-53da-4acf-9836-4cd3d585e60d button');\n",
              "      quickchartButtonEl.style.display =\n",
              "        google.colab.kernel.accessAllowed ? 'block' : 'none';\n",
              "    })();\n",
              "  </script>\n",
              "</div>\n",
              "    </div>\n",
              "  </div>\n"
            ]
          },
          "metadata": {},
          "execution_count": 54
        }
      ],
      "source": [
        "df = pd.DataFrame([[\"A\", 200], [\"B\", 400],\n",
        "                   [\"C\", 100], [\"D\", 300]],\n",
        "                  columns=[\"col_A\", \"col_B\"])\n",
        "\n",
        "k = 2\n",
        "\n",
        "## start your code below\n",
        "largest_k= df.nlargest(k, 'col_B')\n",
        "\n",
        "## end your code here\n",
        "\n",
        "largest_k"
      ]
    },
    {
      "cell_type": "markdown",
      "metadata": {
        "id": "sIUaA19sPe8C"
      },
      "source": [
        "### 169. Delete the rows that have NaN values"
      ]
    },
    {
      "cell_type": "code",
      "execution_count": 55,
      "metadata": {
        "id": "PGDbUsNFPe8C",
        "outputId": "e57ab79d-c4d2-481f-ebea-987f937375fb",
        "colab": {
          "base_uri": "https://localhost:8080/"
        }
      },
      "outputs": [
        {
          "output_type": "stream",
          "name": "stdout",
          "text": [
            "  col_A  col_B\n",
            "1     B    2.0\n",
            "3     D    4.0\n"
          ]
        }
      ],
      "source": [
        "df = pd.DataFrame([[\"A\", np.NaN], [\"B\", 2],\n",
        "                   [\"C\", np.NaN], [\"D\", 4]],\n",
        "                  columns=[\"col_A\", \"col_B\"])\n",
        "\n",
        "## start your code below\n",
        "df = df.dropna()\n",
        "\n",
        "## end your code here\n",
        "\n",
        "print(df)"
      ]
    },
    {
      "cell_type": "markdown",
      "metadata": {
        "id": "owHFel_vPe8C"
      },
      "source": [
        "### 171. Fill NaN values with column mean"
      ]
    },
    {
      "cell_type": "code",
      "execution_count": 65,
      "metadata": {
        "id": "uXmoI6UDPe8C",
        "outputId": "8baccdeb-e56f-4c38-ddf9-ab458e8efe29",
        "colab": {
          "base_uri": "https://localhost:8080/"
        }
      },
      "outputs": [
        {
          "output_type": "stream",
          "name": "stdout",
          "text": [
            "  col_A  col_B\n",
            "0     A    3.0\n",
            "1     B    2.0\n",
            "2     C    3.0\n",
            "3     D    4.0\n"
          ]
        },
        {
          "output_type": "stream",
          "name": "stderr",
          "text": [
            "<ipython-input-65-c3ab51fc96de>:6: FutureWarning: The default value of numeric_only in DataFrame.mean is deprecated. In a future version, it will default to False. In addition, specifying 'numeric_only=None' is deprecated. Select only valid columns or specify the value of numeric_only to silence this warning.\n",
            "  df = df.fillna(df.mean())\n"
          ]
        }
      ],
      "source": [
        "df = pd.DataFrame([[\"A\", np.NaN], [\"B\", 2],\n",
        "                   [\"C\", np.NaN], [\"D\", 4]],\n",
        "                  columns=[\"col_A\", \"col_B\"])\n",
        "\n",
        "## start your code below\n",
        "df = df.fillna(df.mean())\n",
        "\n",
        "## end your code here\n",
        "\n",
        "print(df)\n"
      ]
    },
    {
      "cell_type": "markdown",
      "metadata": {
        "id": "cAW4_HLmPe8D"
      },
      "source": [
        "### 173. Swap two rows of a dataframe"
      ]
    },
    {
      "cell_type": "code",
      "execution_count": 64,
      "metadata": {
        "id": "C80h71zHPe8D",
        "outputId": "c18463ce-1437-438b-f0ad-80fb3f37a096",
        "colab": {
          "base_uri": "https://localhost:8080/"
        }
      },
      "outputs": [
        {
          "output_type": "stream",
          "name": "stdout",
          "text": [
            "  col_A  col_B\n",
            "0     A      1\n",
            "1     D      4\n",
            "2     C      3\n",
            "3     B      2\n"
          ]
        }
      ],
      "source": [
        "df = pd.DataFrame([[\"A\", 1], [\"B\", 2],\n",
        "                   [\"C\", 3], [\"D\", 4]],\n",
        "                  columns=[\"col_A\", \"col_B\"])\n",
        "\n",
        "# swap second and last row\n",
        "row_1, row_2 = 1, 3\n",
        "\n",
        "## start your code below\n",
        "df.iloc[row_1], df.iloc[row_2] = df.iloc[row_2].copy(), df.iloc[row_1].copy()\n",
        "\n",
        "## end your code here\n",
        "print(df)"
      ]
    },
    {
      "cell_type": "markdown",
      "metadata": {
        "id": "OH8J8lVVPe8D"
      },
      "source": [
        "### 174. Create a column \"col_D\" that contains the 2nd largest value in each row"
      ]
    },
    {
      "cell_type": "code",
      "execution_count": 63,
      "metadata": {
        "id": "QwPfPPO4Pe8D",
        "outputId": "ff31cbcd-8fc4-4f80-ebcf-0ed3c43ed23e",
        "colab": {
          "base_uri": "https://localhost:8080/",
          "height": 175
        }
      },
      "outputs": [
        {
          "output_type": "execute_result",
          "data": {
            "text/plain": [
              "   col_A  col_B  col_C  col_D\n",
              "0      4      1      5      4\n",
              "1      5      2      9      5\n",
              "2      2      9      3      3\n",
              "3      8      5      4      5"
            ],
            "text/html": [
              "\n",
              "  <div id=\"df-5dd71842-375f-4cd5-8e8a-5e6390f8acf1\" class=\"colab-df-container\">\n",
              "    <div>\n",
              "<style scoped>\n",
              "    .dataframe tbody tr th:only-of-type {\n",
              "        vertical-align: middle;\n",
              "    }\n",
              "\n",
              "    .dataframe tbody tr th {\n",
              "        vertical-align: top;\n",
              "    }\n",
              "\n",
              "    .dataframe thead th {\n",
              "        text-align: right;\n",
              "    }\n",
              "</style>\n",
              "<table border=\"1\" class=\"dataframe\">\n",
              "  <thead>\n",
              "    <tr style=\"text-align: right;\">\n",
              "      <th></th>\n",
              "      <th>col_A</th>\n",
              "      <th>col_B</th>\n",
              "      <th>col_C</th>\n",
              "      <th>col_D</th>\n",
              "    </tr>\n",
              "  </thead>\n",
              "  <tbody>\n",
              "    <tr>\n",
              "      <th>0</th>\n",
              "      <td>4</td>\n",
              "      <td>1</td>\n",
              "      <td>5</td>\n",
              "      <td>4</td>\n",
              "    </tr>\n",
              "    <tr>\n",
              "      <th>1</th>\n",
              "      <td>5</td>\n",
              "      <td>2</td>\n",
              "      <td>9</td>\n",
              "      <td>5</td>\n",
              "    </tr>\n",
              "    <tr>\n",
              "      <th>2</th>\n",
              "      <td>2</td>\n",
              "      <td>9</td>\n",
              "      <td>3</td>\n",
              "      <td>3</td>\n",
              "    </tr>\n",
              "    <tr>\n",
              "      <th>3</th>\n",
              "      <td>8</td>\n",
              "      <td>5</td>\n",
              "      <td>4</td>\n",
              "      <td>5</td>\n",
              "    </tr>\n",
              "  </tbody>\n",
              "</table>\n",
              "</div>\n",
              "    <div class=\"colab-df-buttons\">\n",
              "\n",
              "  <div class=\"colab-df-container\">\n",
              "    <button class=\"colab-df-convert\" onclick=\"convertToInteractive('df-5dd71842-375f-4cd5-8e8a-5e6390f8acf1')\"\n",
              "            title=\"Convert this dataframe to an interactive table.\"\n",
              "            style=\"display:none;\">\n",
              "\n",
              "  <svg xmlns=\"http://www.w3.org/2000/svg\" height=\"24px\" viewBox=\"0 -960 960 960\">\n",
              "    <path d=\"M120-120v-720h720v720H120Zm60-500h600v-160H180v160Zm220 220h160v-160H400v160Zm0 220h160v-160H400v160ZM180-400h160v-160H180v160Zm440 0h160v-160H620v160ZM180-180h160v-160H180v160Zm440 0h160v-160H620v160Z\"/>\n",
              "  </svg>\n",
              "    </button>\n",
              "\n",
              "  <style>\n",
              "    .colab-df-container {\n",
              "      display:flex;\n",
              "      gap: 12px;\n",
              "    }\n",
              "\n",
              "    .colab-df-convert {\n",
              "      background-color: #E8F0FE;\n",
              "      border: none;\n",
              "      border-radius: 50%;\n",
              "      cursor: pointer;\n",
              "      display: none;\n",
              "      fill: #1967D2;\n",
              "      height: 32px;\n",
              "      padding: 0 0 0 0;\n",
              "      width: 32px;\n",
              "    }\n",
              "\n",
              "    .colab-df-convert:hover {\n",
              "      background-color: #E2EBFA;\n",
              "      box-shadow: 0px 1px 2px rgba(60, 64, 67, 0.3), 0px 1px 3px 1px rgba(60, 64, 67, 0.15);\n",
              "      fill: #174EA6;\n",
              "    }\n",
              "\n",
              "    .colab-df-buttons div {\n",
              "      margin-bottom: 4px;\n",
              "    }\n",
              "\n",
              "    [theme=dark] .colab-df-convert {\n",
              "      background-color: #3B4455;\n",
              "      fill: #D2E3FC;\n",
              "    }\n",
              "\n",
              "    [theme=dark] .colab-df-convert:hover {\n",
              "      background-color: #434B5C;\n",
              "      box-shadow: 0px 1px 3px 1px rgba(0, 0, 0, 0.15);\n",
              "      filter: drop-shadow(0px 1px 2px rgba(0, 0, 0, 0.3));\n",
              "      fill: #FFFFFF;\n",
              "    }\n",
              "  </style>\n",
              "\n",
              "    <script>\n",
              "      const buttonEl =\n",
              "        document.querySelector('#df-5dd71842-375f-4cd5-8e8a-5e6390f8acf1 button.colab-df-convert');\n",
              "      buttonEl.style.display =\n",
              "        google.colab.kernel.accessAllowed ? 'block' : 'none';\n",
              "\n",
              "      async function convertToInteractive(key) {\n",
              "        const element = document.querySelector('#df-5dd71842-375f-4cd5-8e8a-5e6390f8acf1');\n",
              "        const dataTable =\n",
              "          await google.colab.kernel.invokeFunction('convertToInteractive',\n",
              "                                                    [key], {});\n",
              "        if (!dataTable) return;\n",
              "\n",
              "        const docLinkHtml = 'Like what you see? Visit the ' +\n",
              "          '<a target=\"_blank\" href=https://colab.research.google.com/notebooks/data_table.ipynb>data table notebook</a>'\n",
              "          + ' to learn more about interactive tables.';\n",
              "        element.innerHTML = '';\n",
              "        dataTable['output_type'] = 'display_data';\n",
              "        await google.colab.output.renderOutput(dataTable, element);\n",
              "        const docLink = document.createElement('div');\n",
              "        docLink.innerHTML = docLinkHtml;\n",
              "        element.appendChild(docLink);\n",
              "      }\n",
              "    </script>\n",
              "  </div>\n",
              "\n",
              "\n",
              "<div id=\"df-842ece51-c6a6-4749-8599-cc9f259bf260\">\n",
              "  <button class=\"colab-df-quickchart\" onclick=\"quickchart('df-842ece51-c6a6-4749-8599-cc9f259bf260')\"\n",
              "            title=\"Suggest charts\"\n",
              "            style=\"display:none;\">\n",
              "\n",
              "<svg xmlns=\"http://www.w3.org/2000/svg\" height=\"24px\"viewBox=\"0 0 24 24\"\n",
              "     width=\"24px\">\n",
              "    <g>\n",
              "        <path d=\"M19 3H5c-1.1 0-2 .9-2 2v14c0 1.1.9 2 2 2h14c1.1 0 2-.9 2-2V5c0-1.1-.9-2-2-2zM9 17H7v-7h2v7zm4 0h-2V7h2v10zm4 0h-2v-4h2v4z\"/>\n",
              "    </g>\n",
              "</svg>\n",
              "  </button>\n",
              "\n",
              "<style>\n",
              "  .colab-df-quickchart {\n",
              "      --bg-color: #E8F0FE;\n",
              "      --fill-color: #1967D2;\n",
              "      --hover-bg-color: #E2EBFA;\n",
              "      --hover-fill-color: #174EA6;\n",
              "      --disabled-fill-color: #AAA;\n",
              "      --disabled-bg-color: #DDD;\n",
              "  }\n",
              "\n",
              "  [theme=dark] .colab-df-quickchart {\n",
              "      --bg-color: #3B4455;\n",
              "      --fill-color: #D2E3FC;\n",
              "      --hover-bg-color: #434B5C;\n",
              "      --hover-fill-color: #FFFFFF;\n",
              "      --disabled-bg-color: #3B4455;\n",
              "      --disabled-fill-color: #666;\n",
              "  }\n",
              "\n",
              "  .colab-df-quickchart {\n",
              "    background-color: var(--bg-color);\n",
              "    border: none;\n",
              "    border-radius: 50%;\n",
              "    cursor: pointer;\n",
              "    display: none;\n",
              "    fill: var(--fill-color);\n",
              "    height: 32px;\n",
              "    padding: 0;\n",
              "    width: 32px;\n",
              "  }\n",
              "\n",
              "  .colab-df-quickchart:hover {\n",
              "    background-color: var(--hover-bg-color);\n",
              "    box-shadow: 0 1px 2px rgba(60, 64, 67, 0.3), 0 1px 3px 1px rgba(60, 64, 67, 0.15);\n",
              "    fill: var(--button-hover-fill-color);\n",
              "  }\n",
              "\n",
              "  .colab-df-quickchart-complete:disabled,\n",
              "  .colab-df-quickchart-complete:disabled:hover {\n",
              "    background-color: var(--disabled-bg-color);\n",
              "    fill: var(--disabled-fill-color);\n",
              "    box-shadow: none;\n",
              "  }\n",
              "\n",
              "  .colab-df-spinner {\n",
              "    border: 2px solid var(--fill-color);\n",
              "    border-color: transparent;\n",
              "    border-bottom-color: var(--fill-color);\n",
              "    animation:\n",
              "      spin 1s steps(1) infinite;\n",
              "  }\n",
              "\n",
              "  @keyframes spin {\n",
              "    0% {\n",
              "      border-color: transparent;\n",
              "      border-bottom-color: var(--fill-color);\n",
              "      border-left-color: var(--fill-color);\n",
              "    }\n",
              "    20% {\n",
              "      border-color: transparent;\n",
              "      border-left-color: var(--fill-color);\n",
              "      border-top-color: var(--fill-color);\n",
              "    }\n",
              "    30% {\n",
              "      border-color: transparent;\n",
              "      border-left-color: var(--fill-color);\n",
              "      border-top-color: var(--fill-color);\n",
              "      border-right-color: var(--fill-color);\n",
              "    }\n",
              "    40% {\n",
              "      border-color: transparent;\n",
              "      border-right-color: var(--fill-color);\n",
              "      border-top-color: var(--fill-color);\n",
              "    }\n",
              "    60% {\n",
              "      border-color: transparent;\n",
              "      border-right-color: var(--fill-color);\n",
              "    }\n",
              "    80% {\n",
              "      border-color: transparent;\n",
              "      border-right-color: var(--fill-color);\n",
              "      border-bottom-color: var(--fill-color);\n",
              "    }\n",
              "    90% {\n",
              "      border-color: transparent;\n",
              "      border-bottom-color: var(--fill-color);\n",
              "    }\n",
              "  }\n",
              "</style>\n",
              "\n",
              "  <script>\n",
              "    async function quickchart(key) {\n",
              "      const quickchartButtonEl =\n",
              "        document.querySelector('#' + key + ' button');\n",
              "      quickchartButtonEl.disabled = true;  // To prevent multiple clicks.\n",
              "      quickchartButtonEl.classList.add('colab-df-spinner');\n",
              "      try {\n",
              "        const charts = await google.colab.kernel.invokeFunction(\n",
              "            'suggestCharts', [key], {});\n",
              "      } catch (error) {\n",
              "        console.error('Error during call to suggestCharts:', error);\n",
              "      }\n",
              "      quickchartButtonEl.classList.remove('colab-df-spinner');\n",
              "      quickchartButtonEl.classList.add('colab-df-quickchart-complete');\n",
              "    }\n",
              "    (() => {\n",
              "      let quickchartButtonEl =\n",
              "        document.querySelector('#df-842ece51-c6a6-4749-8599-cc9f259bf260 button');\n",
              "      quickchartButtonEl.style.display =\n",
              "        google.colab.kernel.accessAllowed ? 'block' : 'none';\n",
              "    })();\n",
              "  </script>\n",
              "</div>\n",
              "    </div>\n",
              "  </div>\n"
            ]
          },
          "metadata": {},
          "execution_count": 63
        }
      ],
      "source": [
        "df = pd.DataFrame([[4, 1, 5],\n",
        "                   [5, 2, 9],\n",
        "                   [2, 9, 3],\n",
        "                   [8, 5, 4]],\n",
        "                  columns=[\"col_A\", \"col_B\", \"col_C\"])\n",
        "\n",
        "\n",
        "## start your code below\n",
        "\n",
        "df['col_D'] = df.apply(lambda row: sorted(row, reverse=True)[1], axis=1)\n",
        "# end your code here\n",
        "\n",
        "df"
      ]
    },
    {
      "cell_type": "markdown",
      "metadata": {
        "id": "tyCGWaEyPe8D"
      },
      "source": [
        "### 176. Get the Group \"A\" of the dataframe by first grouping the dataframe and then using the group key."
      ]
    },
    {
      "cell_type": "code",
      "execution_count": 62,
      "metadata": {
        "id": "N5EjNC6GPe8E",
        "outputId": "73bc23d6-1937-499a-9780-e40a35be3210",
        "colab": {
          "base_uri": "https://localhost:8080/",
          "height": 112
        }
      },
      "outputs": [
        {
          "output_type": "execute_result",
          "data": {
            "text/plain": [
              "  col_A  col_B\n",
              "0     A      1\n",
              "2     A      3"
            ],
            "text/html": [
              "\n",
              "  <div id=\"df-3235e6cf-17dd-4a4b-a94f-142b63dfa567\" class=\"colab-df-container\">\n",
              "    <div>\n",
              "<style scoped>\n",
              "    .dataframe tbody tr th:only-of-type {\n",
              "        vertical-align: middle;\n",
              "    }\n",
              "\n",
              "    .dataframe tbody tr th {\n",
              "        vertical-align: top;\n",
              "    }\n",
              "\n",
              "    .dataframe thead th {\n",
              "        text-align: right;\n",
              "    }\n",
              "</style>\n",
              "<table border=\"1\" class=\"dataframe\">\n",
              "  <thead>\n",
              "    <tr style=\"text-align: right;\">\n",
              "      <th></th>\n",
              "      <th>col_A</th>\n",
              "      <th>col_B</th>\n",
              "    </tr>\n",
              "  </thead>\n",
              "  <tbody>\n",
              "    <tr>\n",
              "      <th>0</th>\n",
              "      <td>A</td>\n",
              "      <td>1</td>\n",
              "    </tr>\n",
              "    <tr>\n",
              "      <th>2</th>\n",
              "      <td>A</td>\n",
              "      <td>3</td>\n",
              "    </tr>\n",
              "  </tbody>\n",
              "</table>\n",
              "</div>\n",
              "    <div class=\"colab-df-buttons\">\n",
              "\n",
              "  <div class=\"colab-df-container\">\n",
              "    <button class=\"colab-df-convert\" onclick=\"convertToInteractive('df-3235e6cf-17dd-4a4b-a94f-142b63dfa567')\"\n",
              "            title=\"Convert this dataframe to an interactive table.\"\n",
              "            style=\"display:none;\">\n",
              "\n",
              "  <svg xmlns=\"http://www.w3.org/2000/svg\" height=\"24px\" viewBox=\"0 -960 960 960\">\n",
              "    <path d=\"M120-120v-720h720v720H120Zm60-500h600v-160H180v160Zm220 220h160v-160H400v160Zm0 220h160v-160H400v160ZM180-400h160v-160H180v160Zm440 0h160v-160H620v160ZM180-180h160v-160H180v160Zm440 0h160v-160H620v160Z\"/>\n",
              "  </svg>\n",
              "    </button>\n",
              "\n",
              "  <style>\n",
              "    .colab-df-container {\n",
              "      display:flex;\n",
              "      gap: 12px;\n",
              "    }\n",
              "\n",
              "    .colab-df-convert {\n",
              "      background-color: #E8F0FE;\n",
              "      border: none;\n",
              "      border-radius: 50%;\n",
              "      cursor: pointer;\n",
              "      display: none;\n",
              "      fill: #1967D2;\n",
              "      height: 32px;\n",
              "      padding: 0 0 0 0;\n",
              "      width: 32px;\n",
              "    }\n",
              "\n",
              "    .colab-df-convert:hover {\n",
              "      background-color: #E2EBFA;\n",
              "      box-shadow: 0px 1px 2px rgba(60, 64, 67, 0.3), 0px 1px 3px 1px rgba(60, 64, 67, 0.15);\n",
              "      fill: #174EA6;\n",
              "    }\n",
              "\n",
              "    .colab-df-buttons div {\n",
              "      margin-bottom: 4px;\n",
              "    }\n",
              "\n",
              "    [theme=dark] .colab-df-convert {\n",
              "      background-color: #3B4455;\n",
              "      fill: #D2E3FC;\n",
              "    }\n",
              "\n",
              "    [theme=dark] .colab-df-convert:hover {\n",
              "      background-color: #434B5C;\n",
              "      box-shadow: 0px 1px 3px 1px rgba(0, 0, 0, 0.15);\n",
              "      filter: drop-shadow(0px 1px 2px rgba(0, 0, 0, 0.3));\n",
              "      fill: #FFFFFF;\n",
              "    }\n",
              "  </style>\n",
              "\n",
              "    <script>\n",
              "      const buttonEl =\n",
              "        document.querySelector('#df-3235e6cf-17dd-4a4b-a94f-142b63dfa567 button.colab-df-convert');\n",
              "      buttonEl.style.display =\n",
              "        google.colab.kernel.accessAllowed ? 'block' : 'none';\n",
              "\n",
              "      async function convertToInteractive(key) {\n",
              "        const element = document.querySelector('#df-3235e6cf-17dd-4a4b-a94f-142b63dfa567');\n",
              "        const dataTable =\n",
              "          await google.colab.kernel.invokeFunction('convertToInteractive',\n",
              "                                                    [key], {});\n",
              "        if (!dataTable) return;\n",
              "\n",
              "        const docLinkHtml = 'Like what you see? Visit the ' +\n",
              "          '<a target=\"_blank\" href=https://colab.research.google.com/notebooks/data_table.ipynb>data table notebook</a>'\n",
              "          + ' to learn more about interactive tables.';\n",
              "        element.innerHTML = '';\n",
              "        dataTable['output_type'] = 'display_data';\n",
              "        await google.colab.output.renderOutput(dataTable, element);\n",
              "        const docLink = document.createElement('div');\n",
              "        docLink.innerHTML = docLinkHtml;\n",
              "        element.appendChild(docLink);\n",
              "      }\n",
              "    </script>\n",
              "  </div>\n",
              "\n",
              "\n",
              "<div id=\"df-5806b58f-2cbe-4c1d-854c-4ff213e82699\">\n",
              "  <button class=\"colab-df-quickchart\" onclick=\"quickchart('df-5806b58f-2cbe-4c1d-854c-4ff213e82699')\"\n",
              "            title=\"Suggest charts\"\n",
              "            style=\"display:none;\">\n",
              "\n",
              "<svg xmlns=\"http://www.w3.org/2000/svg\" height=\"24px\"viewBox=\"0 0 24 24\"\n",
              "     width=\"24px\">\n",
              "    <g>\n",
              "        <path d=\"M19 3H5c-1.1 0-2 .9-2 2v14c0 1.1.9 2 2 2h14c1.1 0 2-.9 2-2V5c0-1.1-.9-2-2-2zM9 17H7v-7h2v7zm4 0h-2V7h2v10zm4 0h-2v-4h2v4z\"/>\n",
              "    </g>\n",
              "</svg>\n",
              "  </button>\n",
              "\n",
              "<style>\n",
              "  .colab-df-quickchart {\n",
              "      --bg-color: #E8F0FE;\n",
              "      --fill-color: #1967D2;\n",
              "      --hover-bg-color: #E2EBFA;\n",
              "      --hover-fill-color: #174EA6;\n",
              "      --disabled-fill-color: #AAA;\n",
              "      --disabled-bg-color: #DDD;\n",
              "  }\n",
              "\n",
              "  [theme=dark] .colab-df-quickchart {\n",
              "      --bg-color: #3B4455;\n",
              "      --fill-color: #D2E3FC;\n",
              "      --hover-bg-color: #434B5C;\n",
              "      --hover-fill-color: #FFFFFF;\n",
              "      --disabled-bg-color: #3B4455;\n",
              "      --disabled-fill-color: #666;\n",
              "  }\n",
              "\n",
              "  .colab-df-quickchart {\n",
              "    background-color: var(--bg-color);\n",
              "    border: none;\n",
              "    border-radius: 50%;\n",
              "    cursor: pointer;\n",
              "    display: none;\n",
              "    fill: var(--fill-color);\n",
              "    height: 32px;\n",
              "    padding: 0;\n",
              "    width: 32px;\n",
              "  }\n",
              "\n",
              "  .colab-df-quickchart:hover {\n",
              "    background-color: var(--hover-bg-color);\n",
              "    box-shadow: 0 1px 2px rgba(60, 64, 67, 0.3), 0 1px 3px 1px rgba(60, 64, 67, 0.15);\n",
              "    fill: var(--button-hover-fill-color);\n",
              "  }\n",
              "\n",
              "  .colab-df-quickchart-complete:disabled,\n",
              "  .colab-df-quickchart-complete:disabled:hover {\n",
              "    background-color: var(--disabled-bg-color);\n",
              "    fill: var(--disabled-fill-color);\n",
              "    box-shadow: none;\n",
              "  }\n",
              "\n",
              "  .colab-df-spinner {\n",
              "    border: 2px solid var(--fill-color);\n",
              "    border-color: transparent;\n",
              "    border-bottom-color: var(--fill-color);\n",
              "    animation:\n",
              "      spin 1s steps(1) infinite;\n",
              "  }\n",
              "\n",
              "  @keyframes spin {\n",
              "    0% {\n",
              "      border-color: transparent;\n",
              "      border-bottom-color: var(--fill-color);\n",
              "      border-left-color: var(--fill-color);\n",
              "    }\n",
              "    20% {\n",
              "      border-color: transparent;\n",
              "      border-left-color: var(--fill-color);\n",
              "      border-top-color: var(--fill-color);\n",
              "    }\n",
              "    30% {\n",
              "      border-color: transparent;\n",
              "      border-left-color: var(--fill-color);\n",
              "      border-top-color: var(--fill-color);\n",
              "      border-right-color: var(--fill-color);\n",
              "    }\n",
              "    40% {\n",
              "      border-color: transparent;\n",
              "      border-right-color: var(--fill-color);\n",
              "      border-top-color: var(--fill-color);\n",
              "    }\n",
              "    60% {\n",
              "      border-color: transparent;\n",
              "      border-right-color: var(--fill-color);\n",
              "    }\n",
              "    80% {\n",
              "      border-color: transparent;\n",
              "      border-right-color: var(--fill-color);\n",
              "      border-bottom-color: var(--fill-color);\n",
              "    }\n",
              "    90% {\n",
              "      border-color: transparent;\n",
              "      border-bottom-color: var(--fill-color);\n",
              "    }\n",
              "  }\n",
              "</style>\n",
              "\n",
              "  <script>\n",
              "    async function quickchart(key) {\n",
              "      const quickchartButtonEl =\n",
              "        document.querySelector('#' + key + ' button');\n",
              "      quickchartButtonEl.disabled = true;  // To prevent multiple clicks.\n",
              "      quickchartButtonEl.classList.add('colab-df-spinner');\n",
              "      try {\n",
              "        const charts = await google.colab.kernel.invokeFunction(\n",
              "            'suggestCharts', [key], {});\n",
              "      } catch (error) {\n",
              "        console.error('Error during call to suggestCharts:', error);\n",
              "      }\n",
              "      quickchartButtonEl.classList.remove('colab-df-spinner');\n",
              "      quickchartButtonEl.classList.add('colab-df-quickchart-complete');\n",
              "    }\n",
              "    (() => {\n",
              "      let quickchartButtonEl =\n",
              "        document.querySelector('#df-5806b58f-2cbe-4c1d-854c-4ff213e82699 button');\n",
              "      quickchartButtonEl.style.display =\n",
              "        google.colab.kernel.accessAllowed ? 'block' : 'none';\n",
              "    })();\n",
              "  </script>\n",
              "</div>\n",
              "    </div>\n",
              "  </div>\n"
            ]
          },
          "metadata": {},
          "execution_count": 62
        }
      ],
      "source": [
        "df = pd.DataFrame([[\"A\", 1], [\"B\", 2],\n",
        "                   [\"A\", 3], [\"D\", 4]],\n",
        "                  columns=[\"col_A\", \"col_B\"])\n",
        "\n",
        "\n",
        "## start your code below\n",
        "groups = df.groupby(\"col_A\")\n",
        "group_A = groups.get_group(\"A\")\n",
        "## end your code here\n",
        "\n",
        "group_A"
      ]
    },
    {
      "cell_type": "markdown",
      "metadata": {
        "id": "a6PWZhA_Pe8E"
      },
      "source": [
        "### 178. Get the rows where the value of \"col_A\" is equal to \"col_B\"."
      ]
    },
    {
      "cell_type": "code",
      "execution_count": 61,
      "metadata": {
        "id": "VwiSSWd5Pe8E",
        "outputId": "3055e76a-527e-4e46-f0e1-3b353d314379",
        "colab": {
          "base_uri": "https://localhost:8080/"
        }
      },
      "outputs": [
        {
          "output_type": "stream",
          "name": "stdout",
          "text": [
            "   col_A  col_B  col_C\n",
            "1      5      5      9\n"
          ]
        }
      ],
      "source": [
        "df = pd.DataFrame([[4, 1, 5],\n",
        "                   [5, 5, 9],\n",
        "                   [2, 9, 3],\n",
        "                   [8, 5, 8]],\n",
        "                  columns=[\"col_A\", \"col_B\", \"col_C\"])\n",
        "\n",
        "\n",
        "## start your code below\n",
        "new_df = df[df[\"col_A\"] == df[\"col_B\"]]\n",
        "\n",
        "## end your code here\n",
        "\n",
        "print(new_df)"
      ]
    },
    {
      "cell_type": "markdown",
      "metadata": {
        "id": "sBaZqoE1Pe8E"
      },
      "source": [
        "### 180. Sort the Data on col_A and col_B"
      ]
    },
    {
      "cell_type": "markdown",
      "metadata": {
        "id": "BgE4yGt5Pe8F"
      },
      "source": [
        "col_A -> Ascending\n",
        "col_B -> Descending"
      ]
    },
    {
      "cell_type": "code",
      "execution_count": 60,
      "metadata": {
        "id": "rIXbUrmUPe8F",
        "outputId": "ee39a577-5baa-4fe0-bdc8-1884349f6a8a",
        "colab": {
          "base_uri": "https://localhost:8080/"
        }
      },
      "outputs": [
        {
          "output_type": "stream",
          "name": "stdout",
          "text": [
            "   col_A  col_B  col_C\n",
            "2      2      9      3\n",
            "1      2      5      9\n",
            "0      4      1      5\n",
            "3      8      5      8\n"
          ]
        }
      ],
      "source": [
        "df = pd.DataFrame([[4, 1, 5],\n",
        "                   [2, 5, 9],\n",
        "                   [2, 9, 3],\n",
        "                   [8, 5, 8]],\n",
        "                  columns=[\"col_A\", \"col_B\", \"col_C\"])\n",
        "\n",
        "\n",
        "## start your code below\n",
        "new_df = df.sort_values(by=[\"col_A\", \"col_B\"], ascending=[True, False])\n",
        "\n",
        "## end your code here\n",
        "\n",
        "print(new_df)"
      ]
    },
    {
      "cell_type": "markdown",
      "metadata": {
        "id": "IuV4_g_EPe8F"
      },
      "source": [
        "### 182. Get the mean of every column"
      ]
    },
    {
      "cell_type": "code",
      "execution_count": null,
      "metadata": {
        "id": "ziefgTwrPe8F",
        "outputId": "15599489-3c9f-499a-9133-3438ddd343e4"
      },
      "outputs": [
        {
          "name": "stdout",
          "output_type": "stream",
          "text": [
            "col_A    4.75\n",
            "col_B    5.00\n",
            "col_C    6.25\n",
            "dtype: float64\n"
          ]
        }
      ],
      "source": [
        "df = pd.DataFrame([[4, 1, 5],\n",
        "                   [5, 5, 9],\n",
        "                   [2, 9, 3],\n",
        "                   [8, 5, 8]],\n",
        "                  columns=[\"col_A\", \"col_B\", \"col_C\"])\n",
        "\n",
        "\n",
        "## start your code below\n",
        "\n",
        "\n",
        "## end your code here\n",
        "\n",
        "print(mean)"
      ]
    },
    {
      "cell_type": "markdown",
      "metadata": {
        "id": "-cd9kqXQPe8G"
      },
      "source": [
        "### 182. Get the mean of every row"
      ]
    },
    {
      "cell_type": "code",
      "execution_count": null,
      "metadata": {
        "id": "QNmOWWiGPe8G",
        "outputId": "0105b52c-d308-47dd-f4a3-c2e62e7b0022"
      },
      "outputs": [
        {
          "name": "stdout",
          "output_type": "stream",
          "text": [
            "0    3.333333\n",
            "1    6.333333\n",
            "2    4.666667\n",
            "3    7.000000\n",
            "dtype: float64\n"
          ]
        }
      ],
      "source": [
        "df = pd.DataFrame([[4, 1, 5],\n",
        "                   [5, 5, 9],\n",
        "                   [2, 9, 3],\n",
        "                   [8, 5, 8]],\n",
        "                  columns=[\"col_A\", \"col_B\", \"col_C\"])\n",
        "\n",
        "\n",
        "## start your code below\n",
        "\n",
        "\n",
        "## end your code here\n",
        "\n",
        "print(mean)"
      ]
    },
    {
      "cell_type": "markdown",
      "metadata": {
        "id": "aSbmaEiDPe8G"
      },
      "source": [
        "### 183. Concatentate the two DataFrames row-wise"
      ]
    },
    {
      "cell_type": "code",
      "execution_count": null,
      "metadata": {
        "id": "2y5hJG5BPe8G",
        "outputId": "a777be01-fb23-43e9-f3e9-0c49da3d2d41"
      },
      "outputs": [
        {
          "name": "stdout",
          "output_type": "stream",
          "text": [
            "  col_A  col_B\n",
            "0     A      1\n",
            "1     B      2\n",
            "2     A      3\n",
            "3     C      4\n"
          ]
        }
      ],
      "source": [
        "df1 = pd.DataFrame([[\"A\", 1], [\"B\", 2]],\n",
        "                  columns=[\"col_A\", \"col_B\"])\n",
        "\n",
        "df2 = pd.DataFrame([[\"A\", 3], [\"C\", 4]],\n",
        "                  columns=[\"col_A\", \"col_B\"])\n",
        "\n",
        "## start your code below\n",
        "\n",
        "\n",
        "## end your code here\n",
        "\n",
        "print(new_df)"
      ]
    },
    {
      "cell_type": "markdown",
      "metadata": {
        "id": "uB6zGw2IPe8H"
      },
      "source": [
        "### 184. Concatentate the two DataFrames column-wise"
      ]
    },
    {
      "cell_type": "code",
      "execution_count": null,
      "metadata": {
        "id": "Y1R5RLSxPe8H",
        "outputId": "16a2d7f1-eda4-4b3f-a82c-d70abfe3f939"
      },
      "outputs": [
        {
          "name": "stdout",
          "output_type": "stream",
          "text": [
            "   0  1  2  3\n",
            "0  A  1  A  3\n",
            "1  B  2  C  4\n"
          ]
        }
      ],
      "source": [
        "df1 = pd.DataFrame([[\"A\", 1], [\"B\", 2]],\n",
        "                  columns=[\"col_A\", \"col_B\"])\n",
        "\n",
        "df2 = pd.DataFrame([[\"A\", 3], [\"C\", 4]],\n",
        "                  columns=[\"col_C\", \"col_D\"])\n",
        "\n",
        "## start your code below\n",
        "\n",
        "\n",
        "## end your code here\n",
        "\n",
        "print(new_df)"
      ]
    },
    {
      "cell_type": "markdown",
      "metadata": {
        "id": "HDT_fAddPe8H"
      },
      "source": [
        "### 185. Change the last two values in the last column to [2,4]"
      ]
    },
    {
      "cell_type": "markdown",
      "metadata": {
        "id": "ZXi81-5PPe8H"
      },
      "source": [
        "Change 3 -> 2\n",
        "Change 8 -> 4\n",
        "\n",
        "**Note: You should do this in a single line of code**"
      ]
    },
    {
      "cell_type": "code",
      "execution_count": null,
      "metadata": {
        "id": "Js16VFnuPe8H",
        "outputId": "bae18e49-16b7-4085-e6bd-f7c95ce34c1a"
      },
      "outputs": [
        {
          "name": "stdout",
          "output_type": "stream",
          "text": [
            "   col_A  col_B  col_C\n",
            "0      4      1      5\n",
            "1      5      5      9\n",
            "2      2      9      2\n",
            "3      8      5      4\n"
          ]
        }
      ],
      "source": [
        "df = pd.DataFrame([[4, 1, 5],\n",
        "                   [5, 5, 9],\n",
        "                   [2, 9, 3],\n",
        "                   [8, 5, 8]],\n",
        "                  columns=[\"col_A\", \"col_B\", \"col_C\"])\n",
        "\n",
        "\n",
        "## start your code below\n",
        "\n",
        "\n",
        "## end your code here\n",
        "\n",
        "print(df)"
      ]
    },
    {
      "cell_type": "markdown",
      "metadata": {
        "id": "4Juf2-66Pe8I"
      },
      "source": [
        "### 186. Replace all '1' with '2'"
      ]
    },
    {
      "cell_type": "code",
      "execution_count": null,
      "metadata": {
        "id": "nfmz1WmcPe8I",
        "outputId": "cc728c21-8072-4382-f276-80486ef01d0b"
      },
      "outputs": [
        {
          "name": "stdout",
          "output_type": "stream",
          "text": [
            "   col_A  col_B  col_C\n",
            "0      4      2      5\n",
            "1      5      5      2\n",
            "2      2      9      3\n",
            "3      8      5      8\n"
          ]
        }
      ],
      "source": [
        "df = pd.DataFrame([[4, 1, 5],\n",
        "                   [5, 5, 1],\n",
        "                   [1, 9, 3],\n",
        "                   [8, 5, 8]],\n",
        "                  columns=[\"col_A\", \"col_B\", \"col_C\"])\n",
        "\n",
        "\n",
        "## start your code below\n",
        "\n",
        "\n",
        "## end your code here\n",
        "\n",
        "print(df)"
      ]
    },
    {
      "cell_type": "markdown",
      "metadata": {
        "id": "s30cVPk7Pe8I"
      },
      "source": [
        "### 187. Replace all '1' with '2' and '5' with '6' in a single line of code"
      ]
    },
    {
      "cell_type": "code",
      "execution_count": null,
      "metadata": {
        "id": "5UJN-Hr7Pe8I",
        "outputId": "d59358db-757a-40ee-a48f-b4a8ce530ebf"
      },
      "outputs": [
        {
          "name": "stdout",
          "output_type": "stream",
          "text": [
            "   col_A  col_B  col_C\n",
            "0      4      2      6\n",
            "1      6      6      2\n",
            "2      2      9      3\n",
            "3      8      6      8\n"
          ]
        }
      ],
      "source": [
        "df = pd.DataFrame([[4, 1, 5],\n",
        "                   [5, 5, 1],\n",
        "                   [1, 9, 3],\n",
        "                   [8, 5, 8]],\n",
        "                  columns=[\"col_A\", \"col_B\", \"col_C\"])\n",
        "\n",
        "\n",
        "## start your code below\n",
        "\n",
        "\n",
        "## end your code here\n",
        "\n",
        "print(df)"
      ]
    },
    {
      "cell_type": "markdown",
      "metadata": {
        "id": "iQgW4UhrPe8J"
      },
      "source": [
        "### 189. Convert the DataFrame to a list of lists. Don't include the header row."
      ]
    },
    {
      "cell_type": "code",
      "execution_count": null,
      "metadata": {
        "id": "1ywo_MqWPe8J",
        "outputId": "e884f5a0-32fd-440e-ae2c-c6417e1c88d0"
      },
      "outputs": [
        {
          "name": "stdout",
          "output_type": "stream",
          "text": [
            "[[4, 1, 5], [5, 5, 1], [1, 9, 3], [8, 5, 8]]\n"
          ]
        }
      ],
      "source": [
        "df = pd.DataFrame([[4, 1, 5],\n",
        "                   [5, 5, 1],\n",
        "                   [1, 9, 3],\n",
        "                   [8, 5, 8]],\n",
        "                  columns=[\"col_A\", \"col_B\", \"col_C\"])\n",
        "\n",
        "\n",
        "## start your code below\n",
        "\n",
        "\n",
        "## end your code here\n",
        "\n",
        "print(data_list)"
      ]
    },
    {
      "cell_type": "markdown",
      "metadata": {
        "id": "jz1xs9mdPe8J"
      },
      "source": [
        "### 190. Add three new columns that show the cumulative sum of every column"
      ]
    },
    {
      "cell_type": "code",
      "execution_count": null,
      "metadata": {
        "id": "Gk9lYwGqPe8J",
        "outputId": "c9631ebe-2d63-4591-d0e8-dedbd164161a"
      },
      "outputs": [
        {
          "name": "stdout",
          "output_type": "stream",
          "text": [
            "   col_A  col_B  col_C  cumsum1  cumsum2  cumsum3\n",
            "0      4      1      5        4        5       10\n",
            "1      5      5      1        5       10       11\n",
            "2      1      9      3        1       10       13\n",
            "3      8      5      8        8       13       21\n"
          ]
        }
      ],
      "source": [
        "df = pd.DataFrame([[4, 1, 5],\n",
        "                   [5, 5, 1],\n",
        "                   [1, 9, 3],\n",
        "                   [8, 5, 8]],\n",
        "                  columns=[\"col_A\", \"col_B\", \"col_C\"])\n",
        "\n",
        "\n",
        "## start your code below\n",
        "\n",
        "\n",
        "## end your code here\n",
        "\n",
        "print(df)"
      ]
    },
    {
      "cell_type": "markdown",
      "metadata": {
        "id": "9qCigFOXPe8K"
      },
      "source": [
        "### 191. Print the cumulative sum of every row in a new column."
      ]
    },
    {
      "cell_type": "markdown",
      "metadata": {
        "id": "VayiPXaHPe8K"
      },
      "source": [
        "### In other words, make a column that stores the cumulative sum of the (sum of every row)."
      ]
    },
    {
      "cell_type": "code",
      "execution_count": null,
      "metadata": {
        "id": "uC9GxcZNPe8K",
        "outputId": "fdc11155-6038-4319-d8a9-77b0127f480c"
      },
      "outputs": [
        {
          "name": "stdout",
          "output_type": "stream",
          "text": [
            "   col_A  col_B  cumsum  cumsum\n",
            "0      4      1       5      10\n",
            "1      5      5       1      11\n",
            "2      1      9       3      13\n",
            "3      8      5       8      21\n"
          ]
        }
      ],
      "source": [
        "df = pd.DataFrame([[4, 1, 5],\n",
        "                   [5, 5, 1],\n",
        "                   [1, 9, 3],\n",
        "                   [8, 5, 8]],\n",
        "                  columns=[\"col_A\", \"col_B\", \"col_C\"])\n",
        "\n",
        "\n",
        "## start your code below\n",
        "\n",
        "\n",
        "## end your code here\n",
        "\n",
        "print(df)"
      ]
    },
    {
      "cell_type": "markdown",
      "metadata": {
        "id": "-Z5JOgHhPe8K"
      },
      "source": [
        "### 194. GroupBy col_A, then find the sum of col_B and mean of col_C"
      ]
    },
    {
      "cell_type": "code",
      "execution_count": null,
      "metadata": {
        "id": "-Rw6XlEaPe8K",
        "outputId": "cb116560-f209-4cdf-adf4-8e9e0ef3808a"
      },
      "outputs": [
        {
          "name": "stdout",
          "output_type": "stream",
          "text": [
            "col_A\n",
            "A    6\n",
            "B    5\n",
            "C    9\n",
            "Name: col_B, dtype: int64 col_A\n",
            "A    6.5\n",
            "B    1.0\n",
            "C    3.0\n",
            "Name: col_C, dtype: float64\n"
          ]
        }
      ],
      "source": [
        "df = pd.DataFrame([[\"A\", 1, 5],\n",
        "                   [\"B\", 5, 1],\n",
        "                   [\"C\", 9, 3],\n",
        "                   [\"A\", 5, 8]],\n",
        "                  columns=[\"col_A\", \"col_B\", \"col_C\"])\n",
        "\n",
        "\n",
        "## start your code below\n",
        "\n",
        "\n",
        "## end your code here\n",
        "\n"
      ]
    },
    {
      "cell_type": "markdown",
      "metadata": {
        "id": "dA4_0kDGPe8L"
      },
      "source": [
        "### 195. Find the correlation between every pair of column"
      ]
    },
    {
      "cell_type": "code",
      "execution_count": null,
      "metadata": {
        "id": "20Luc7I3Pe8L",
        "outputId": "208d3c5d-e0e3-4d87-974f-a1f9af788f10"
      },
      "outputs": [
        {
          "name": "stdout",
          "output_type": "stream",
          "text": [
            "          col_A     col_B     col_C\n",
            "col_A  1.000000 -0.424264  0.599377\n",
            "col_B -0.424264  1.000000 -0.273434\n",
            "col_C  0.599377 -0.273434  1.000000\n"
          ]
        }
      ],
      "source": [
        "df = pd.DataFrame([[4, 1, 5],\n",
        "                   [5, 5, 1],\n",
        "                   [1, 9, 3],\n",
        "                   [8, 5, 8]],\n",
        "                  columns=[\"col_A\", \"col_B\", \"col_C\"])\n",
        "\n",
        "\n",
        "## start your code below\n",
        "\n",
        "\n",
        "## end your code here\n",
        "\n",
        "print(new_df)"
      ]
    },
    {
      "cell_type": "markdown",
      "metadata": {
        "id": "6bPI8RosPe8L"
      },
      "source": [
        "### 198. Merge the two dataframes using the join() method on col_A.\n",
        "참고) Note that the `join()` method is similar to the `merge()` method, but it operates on the index by default and has a simplified syntax.\n",
        "\n",
        "\n",
        "\n",
        "\n",
        "\n"
      ]
    },
    {
      "cell_type": "code",
      "execution_count": null,
      "metadata": {
        "id": "CnCojcBXPe8L",
        "outputId": "7815e702-7d4b-4542-9339-f567d309950b"
      },
      "outputs": [
        {
          "name": "stdout",
          "output_type": "stream",
          "text": [
            "  col_A  col_B  col_C\n",
            "0     A    1.0    3.0\n",
            "1     B    2.0    NaN\n",
            "2     C    NaN    4.0\n"
          ]
        }
      ],
      "source": [
        "df1 = pd.DataFrame([[\"A\", 1], [\"B\", 2]],\n",
        "                  columns=[\"col_A\", \"col_B\"])\n",
        "\n",
        "df2 = pd.DataFrame([[\"A\", 3], [\"C\", 4]],\n",
        "                  columns=[\"col_A\", \"col_C\"])\n",
        "\n",
        "## start your code below\n",
        "\n",
        "# end your code here\n",
        "\n",
        "print(new_df)"
      ]
    },
    {
      "cell_type": "markdown",
      "metadata": {
        "id": "57TodkT8Pe8M"
      },
      "source": [
        "### 199. Perform the full outer join on the two DataFrames."
      ]
    },
    {
      "cell_type": "code",
      "execution_count": null,
      "metadata": {
        "id": "VQOIzyYOPe8M",
        "outputId": "e2bb393e-d0e6-403e-b29a-35f516e38c75"
      },
      "outputs": [
        {
          "name": "stdout",
          "output_type": "stream",
          "text": [
            "  col_A  col_B  col_C\n",
            "0     A    1.0    3.0\n",
            "1     B    2.0    NaN\n",
            "2     C    NaN    4.0\n"
          ]
        }
      ],
      "source": [
        "df1 = pd.DataFrame([[\"A\", 1], [\"B\", 2]],\n",
        "                  columns=[\"col_A\", \"col_B\"])\n",
        "\n",
        "df2 = pd.DataFrame([[\"A\", 3], [\"C\", 4]],\n",
        "                  columns=[\"col_A\", \"col_C\"])\n",
        "\n",
        "## start your code below\n",
        "\n",
        "\n",
        "## end your code here\n",
        "\n",
        "print(new_df)"
      ]
    },
    {
      "cell_type": "markdown",
      "metadata": {
        "id": "riDJXX7LPe8M"
      },
      "source": [
        "### 200. Convert the DataFrame to a dictionary."
      ]
    },
    {
      "cell_type": "code",
      "execution_count": null,
      "metadata": {
        "id": "xRSfy5E3Pe8M",
        "outputId": "b53ac994-e2d9-4b91-9c45-eba13c91a410"
      },
      "outputs": [
        {
          "data": {
            "text/plain": [
              "{'col_A': {0: 4, 1: 5, 2: 1, 3: 8},\n",
              " 'col_B': {0: 1, 1: 5, 2: 9, 3: 5},\n",
              " 'col_C': {0: 5, 1: 1, 2: 3, 3: 8}}"
            ]
          },
          "metadata": {},
          "output_type": "display_data"
        }
      ],
      "source": [
        "df = pd.DataFrame([[4, 1, 5],\n",
        "                   [5, 5, 1],\n",
        "                   [1, 9, 3],\n",
        "                   [8, 5, 8]],\n",
        "                  columns=[\"col_A\", \"col_B\", \"col_C\"])\n",
        "\n",
        "\n",
        "## start your code below\n",
        "\n",
        "\n",
        "## end your code here\n",
        "\n",
        "dict_df"
      ]
    },
    {
      "cell_type": "markdown",
      "metadata": {
        "id": "h_DkYvWnPe8N"
      },
      "source": [
        "### 끝.\n",
        "### 고생하셨습니다."
      ]
    }
  ],
  "metadata": {
    "deepnote": {},
    "deepnote_execution_queue": [],
    "deepnote_notebook_id": "07dac775df544b37af03c6a6f77c87ab",
    "kernelspec": {
      "display_name": "base",
      "language": "python",
      "name": "python3"
    },
    "language_info": {
      "codemirror_mode": {
        "name": "ipython",
        "version": 3
      },
      "file_extension": ".py",
      "mimetype": "text/x-python",
      "name": "python",
      "nbconvert_exporter": "python",
      "pygments_lexer": "ipython3",
      "version": "3.10.9"
    },
    "orig_nbformat": 2,
    "colab": {
      "provenance": []
    }
  },
  "nbformat": 4,
  "nbformat_minor": 0
}