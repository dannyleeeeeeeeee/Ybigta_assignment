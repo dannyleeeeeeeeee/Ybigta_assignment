{
  "cells": [
    {
      "cell_type": "markdown",
      "metadata": {
        "id": "4sSY3DjNbPEa"
      },
      "source": [
        "### 필요 Package download"
      ]
    },
    {
      "cell_type": "code",
      "execution_count": null,
      "metadata": {
        "id": "PK3bVKuBcbZ6"
      },
      "outputs": [],
      "source": [
        "import torch\n",
        "import torchvision\n",
        "import torchvision.transforms as transforms"
      ]
    },
    {
      "cell_type": "code",
      "source": [
        "device = torch.device('cuda' if torch.cuda.is_available() else 'cpu')\n",
        "\n",
        "# 현재 gpu를 사용중이면 cuda로 출력됩니다!:\n",
        "# gpu 변경은 런타임 -> 런타임 유형변경 -> 하드웨어 가속기: GPU로 할 수 있습니다.\n",
        "\n",
        "print(device)"
      ],
      "metadata": {
        "colab": {
          "base_uri": "https://localhost:8080/"
        },
        "id": "B7Jp6DQLn3sz",
        "outputId": "e813991b-86d9-4f80-8bd8-e4cd0af8203d"
      },
      "execution_count": null,
      "outputs": [
        {
          "output_type": "stream",
          "name": "stdout",
          "text": [
            "cuda\n"
          ]
        }
      ]
    },
    {
      "cell_type": "markdown",
      "source": [
        "## 데이터 부연설명\n",
        "* 저희가 사용할 dataset은 cifar-10이라는 이름을 가진, 컬러 이미지 데이터 60,000개가 들어있는\n",
        "dataset입니다. <br>\n",
        "* 해당 dataset은 총 10개의 class로 나누어져 있으며, 이 task는 각 이미지에 대한 class의 분류 accuracy를 높이는 것이 목적입니다."
      ],
      "metadata": {
        "id": "W9v_beLpA34L"
      }
    },
    {
      "cell_type": "markdown",
      "source": [
        "### Data Normalize & DataLoader Settting"
      ],
      "metadata": {
        "id": "Z8e8Z-lhhxZ7"
      }
    },
    {
      "cell_type": "code",
      "execution_count": null,
      "metadata": {
        "colab": {
          "base_uri": "https://localhost:8080/"
        },
        "id": "itmleb14cdyh",
        "outputId": "cf52242a-ddf2-4368-fc99-f27e305277fe"
      },
      "outputs": [
        {
          "output_type": "stream",
          "name": "stdout",
          "text": [
            "Downloading https://www.cs.toronto.edu/~kriz/cifar-10-python.tar.gz to ./data/cifar-10-python.tar.gz\n"
          ]
        },
        {
          "output_type": "stream",
          "name": "stderr",
          "text": [
            "100%|██████████| 170498071/170498071 [00:03<00:00, 48453607.82it/s]\n"
          ]
        },
        {
          "output_type": "stream",
          "name": "stdout",
          "text": [
            "Extracting ./data/cifar-10-python.tar.gz to ./data\n",
            "Files already downloaded and verified\n"
          ]
        }
      ],
      "source": [
        "transform = transforms.Compose(\n",
        "    [transforms.ToTensor(),\n",
        "     transforms.Normalize((0.5, 0.5, 0.5), (0.5, 0.5, 0.5))])\n",
        "\n",
        "trainset = torchvision.datasets.CIFAR10(root='./data', train=True,\n",
        "                                        download=True, transform=transform)\n",
        "trainloader = torch.utils.data.DataLoader(trainset, batch_size=4,\n",
        "                                          shuffle=True, num_workers=2)\n",
        "\n",
        "testset = torchvision.datasets.CIFAR10(root='./data', train=False,\n",
        "                                       download=True, transform=transform)\n",
        "testloader = torch.utils.data.DataLoader(testset, batch_size=4,\n",
        "                                         shuffle=False, num_workers=2)\n",
        "\n",
        "classes = ('plane', 'car', 'bird', 'cat',\n",
        "           'deer', 'dog', 'frog', 'horse', 'ship', 'truck')"
      ]
    },
    {
      "cell_type": "code",
      "execution_count": null,
      "metadata": {
        "colab": {
          "base_uri": "https://localhost:8080/",
          "height": 211
        },
        "id": "ViOCagdocmEt",
        "outputId": "59fd41cd-0cc6-441d-e7a3-a3defca04180"
      },
      "outputs": [
        {
          "output_type": "stream",
          "name": "stdout",
          "text": [
            " frog   car plane  frog\n"
          ]
        },
        {
          "output_type": "display_data",
          "data": {
            "text/plain": [
              "<Figure size 640x480 with 1 Axes>"
            ],
            "image/png": "[encoded data removed]"
          },
          "metadata": {}
        }
      ],
      "source": [
        "import matplotlib.pyplot as plt\n",
        "import numpy as np\n",
        "\n",
        "# 이미지를 보여주기 위한 함수\n",
        "\n",
        "\n",
        "def imshow(img):\n",
        "    img = img / 2 + 0.5     # 표준화 해제\n",
        "    npimg = img.numpy()\n",
        "    plt.imshow(np.transpose(npimg, (1, 2, 0)))\n",
        "\n",
        "\n",
        "# 학습용 이미지를 무작위로 가져오기\n",
        "dataiter = iter(trainloader)\n",
        "images, labels = dataiter.__next__()\n",
        "\n",
        "# 이미지 보여주기\n",
        "imshow(torchvision.utils.make_grid(images))\n",
        "# 정답(label) 출력\n",
        "print(' '.join('%5s' % classes[labels[j]] for j in range(4)))\n",
        "plt.show()"
      ]
    },
    {
      "cell_type": "code",
      "execution_count": null,
      "metadata": {
        "id": "TQsfjGTWcm-i"
      },
      "outputs": [],
      "source": [
        "import torch.nn as nn\n",
        "import torch.nn.functional as F\n",
        "import torch.optim as optim\n",
        "#해당 부분은 어느 정도 CNN의 개념이 포함되어 있습니다! 과제를 수행하는데 아무 관련도 없으니 그대로 두시면 됩니다!\n",
        "class Net(nn.Module):\n",
        "    def __init__(self):\n",
        "        super(Net, self).__init__()\n",
        "        self.conv1 = nn.Conv2d(3, 6, 5) # input channels, output channels, kernel size\n",
        "        self.pool = nn.MaxPool2d(2, 2)  # kernel size, stride, padding = 0 (default)\n",
        "        self.conv2 = nn.Conv2d(6, 16, 5)\n",
        "        #아래 부분의 코드를 수정 혹은 추가해주시면 됩니다! (layer를 추가할때는 self.fc'num'=nn.Linear(x,y)의 형태로 추가하시면 됩니다!)\n",
        "        self.fc1 = nn.Linear(400, 120) # input features, output features\n",
        "        self.fc2 = nn.Linear(120, 48)\n",
        "        self.fc3 = nn.Linear(48, 10)\n",
        "        self.fc4 = nn.Linear(10, 10)\n",
        "\n",
        "    def forward(self, x):\n",
        "        x = self.pool(F.relu(self.conv1(x)))\n",
        "        x = self.pool(F.relu(self.conv2(x)))\n",
        "        x = x.view(-1, 16 * 5 * 5)\n",
        "        #아래 부분에서 코드를 수정하거나 추가하여 forward 함수를 새롭게 지정해주시기 바랍니다!\n",
        "        #Hint: relu 함수는 출력층을 제외한 모든 층에서 활성화 함수로써 작동되어야 합니다.\n",
        "        x = F.relu(self.fc1(x))\n",
        "        x = F.relu(self.fc2(x))\n",
        "        x = self.fc3(x)\n",
        "        x = F.relu(x)\n",
        "        x = self.fc4(x)\n",
        "        return x\n",
        "\n",
        "\n",
        "net = Net()"
      ]
    },
    {
      "cell_type": "code",
      "execution_count": null,
      "metadata": {
        "id": "HmJhscg1dIhs"
      },
      "outputs": [],
      "source": [
        "import torch.optim as optim\n",
        "\n",
        "#optimizer를 변경하거나 수치를 조정해보는 것도 accuracy를 높이는 데 도움을 줄 수 있습니다!\n",
        "criterion = nn.CrossEntropyLoss()\n",
        "optimizer = optim.SGD(net.parameters(), lr=0.001, momentum = 0.9)"
      ]
    },
    {
      "cell_type": "code",
      "execution_count": null,
      "metadata": {
        "colab": {
          "base_uri": "https://localhost:8080/"
        },
        "id": "wpAa24bGdT3_",
        "outputId": "575e92eb-af5b-43f0-e43b-35271585e0f8"
      },
      "outputs": [
        {
          "output_type": "stream",
          "name": "stdout",
          "text": [
            "[1,  1500] epoch loss: 1.299\n",
            "[1,  3000] epoch loss: 1.273\n",
            "[1,  4500] epoch loss: 1.272\n",
            "[1,  6000] epoch loss: 1.268\n",
            "[1,  7500] epoch loss: 1.267\n",
            "[1,  9000] epoch loss: 1.253\n",
            "[1, 10500] epoch loss: 1.246\n",
            "[1, 12000] epoch loss: 1.214\n",
            "[2,  1500] epoch loss: 1.172\n",
            "[2,  3000] epoch loss: 1.148\n",
            "[2,  4500] epoch loss: 1.146\n",
            "[2,  6000] epoch loss: 1.156\n",
            "[2,  7500] epoch loss: 1.181\n",
            "[2,  9000] epoch loss: 1.165\n",
            "[2, 10500] epoch loss: 1.141\n",
            "[2, 12000] epoch loss: 1.135\n",
            "[3,  1500] epoch loss: 1.070\n",
            "[3,  3000] epoch loss: 1.065\n",
            "[3,  4500] epoch loss: 1.070\n",
            "[3,  6000] epoch loss: 1.100\n",
            "[3,  7500] epoch loss: 1.095\n",
            "[3,  9000] epoch loss: 1.081\n",
            "[3, 10500] epoch loss: 1.047\n",
            "[3, 12000] epoch loss: 1.088\n",
            "[4,  1500] epoch loss: 1.007\n",
            "[4,  3000] epoch loss: 0.998\n",
            "[4,  4500] epoch loss: 1.027\n",
            "[4,  6000] epoch loss: 1.023\n",
            "[4,  7500] epoch loss: 0.988\n",
            "[4,  9000] epoch loss: 1.029\n",
            "[4, 10500] epoch loss: 1.012\n",
            "[4, 12000] epoch loss: 1.029\n",
            "[5,  1500] epoch loss: 0.930\n",
            "[5,  3000] epoch loss: 0.966\n",
            "[5,  4500] epoch loss: 0.970\n",
            "[5,  6000] epoch loss: 0.959\n",
            "[5,  7500] epoch loss: 0.979\n",
            "[5,  9000] epoch loss: 0.993\n",
            "[5, 10500] epoch loss: 0.961\n",
            "[5, 12000] epoch loss: 0.978\n",
            "[6,  1500] epoch loss: 0.917\n",
            "[6,  3000] epoch loss: 0.939\n",
            "[6,  4500] epoch loss: 0.907\n",
            "[6,  6000] epoch loss: 0.922\n",
            "[6,  7500] epoch loss: 0.914\n",
            "[6,  9000] epoch loss: 0.954\n",
            "[6, 10500] epoch loss: 0.958\n",
            "[6, 12000] epoch loss: 0.936\n",
            "[7,  1500] epoch loss: 0.834\n",
            "[7,  3000] epoch loss: 0.867\n",
            "[7,  4500] epoch loss: 0.867\n",
            "[7,  6000] epoch loss: 0.880\n",
            "[7,  7500] epoch loss: 0.898\n",
            "[7,  9000] epoch loss: 0.930\n",
            "[7, 10500] epoch loss: 0.912\n",
            "[7, 12000] epoch loss: 0.917\n",
            "Finished Training\n"
          ]
        }
      ],
      "source": [
        "for epoch in range(7):  # 데이터셋을 n차례 반복하여 학습합니다. 또한 range 속의 숫자도 바꾸어 학습률을 높이는 것도 도움이 될 겁니다!\n",
        "\n",
        "    running_loss = 0.0\n",
        "    for i, data in enumerate(trainloader, 0):\n",
        "        # 입력을 받은 후\n",
        "        inputs, labels = data\n",
        "        # 변화도(Gradient) 매개변수를 0으로 만든 후\n",
        "        optimizer.zero_grad()\n",
        "\n",
        "        # 순전파 + 역전파 + 최적화\n",
        "        outputs = net(inputs)\n",
        "        loss = criterion(outputs, labels)\n",
        "        loss.backward()\n",
        "        optimizer.step()\n",
        "\n",
        "        # 통계 출력\n",
        "\n",
        "        running_loss += loss.item()\n",
        "        # 2000개의 data를 학습할때마다 loss 출력\n",
        "        if i % 1500 == 1499:    # % 뒤에 들어갈 숫자의 크기를 조정하여 batch_size를 조정할 수 있습니다! 그리고 i % n == n-1:로 숫자를 맞춰주셔야 한다는 점 잊지 마세요!\n",
        "            print('[%d, %5d] epoch loss: %.3f' %\n",
        "                  (epoch + 1, i + 1, running_loss / 1500)) # running_loss 우측의 숫자 역시 윗줄에서 바꾼 batch_size로 바꿔주어야 합니다!\n",
        "            running_loss = 0.0\n",
        "\n",
        "print('Finished Training')"
      ]
    },
    {
      "cell_type": "code",
      "source": [
        "dataiter = iter(testloader)\n",
        "images, labels = dataiter.__next__()\n",
        "\n",
        "# print images\n",
        "imshow(torchvision.utils.make_grid(images))\n",
        "print('GroundTruth: ', ' '.join('%5s' % classes[labels[j]] for j in range(4)))\n",
        "plt.show()"
      ],
      "metadata": {
        "colab": {
          "base_uri": "https://localhost:8080/",
          "height": 211
        },
        "id": "rNF7TthMfA37",
        "outputId": "13e66e46-8597-433e-cb54-d5c87e161ff7"
      },
      "execution_count": null,
      "outputs": [
        {
          "output_type": "stream",
          "name": "stdout",
          "text": [
            "GroundTruth:    cat  ship  ship plane\n"
          ]
        },
        {
          "output_type": "display_data",
          "data": {
            "text/plain": [
              "<Figure size 640x480 with 1 Axes>"
            ],
            "image/png": "[encoded data removed]"
          },
          "metadata": {}
        }
      ]
    },
    {
      "cell_type": "code",
      "source": [
        "outputs = net(images)\n",
        "_, predicted = torch.max(outputs, 1)\n",
        "\n",
        "print('Predicted: ', ' '.join('%5s' % classes[predicted[j]]\n",
        "                              for j in range(4)))"
      ],
      "metadata": {
        "colab": {
          "base_uri": "https://localhost:8080/"
        },
        "id": "NJqS91M8hYv1",
        "outputId": "01bd01ff-4132-4f10-fa33-14c823f116a1"
      },
      "execution_count": null,
      "outputs": [
        {
          "output_type": "stream",
          "name": "stdout",
          "text": [
            "Predicted:    cat   car plane plane\n"
          ]
        }
      ]
    },
    {
      "cell_type": "code",
      "source": [
        "#과제2에서 요구하는 accuracy의 결과값이 나오는 code입니다! 캡처를 하실 때는 해당 코드의 결과를 캡처하시고, 이를 제출하여 주시기 바랍니다~\n",
        "correct = 0\n",
        "total = 0\n",
        "with torch.no_grad():\n",
        "    for data in testloader:\n",
        "        images, labels = data\n",
        "        outputs = net(images)\n",
        "        _, predicted = torch.max(outputs.data, 1)\n",
        "        total += labels.size(0)\n",
        "        correct += (predicted == labels).sum().item()\n",
        "\n",
        "print('Accuracy of the network on the 10000 test images: %d %%' % (\n",
        "    100 * correct / total))"
      ],
      "metadata": {
        "colab": {
          "base_uri": "https://localhost:8080/"
        },
        "id": "wKItpc_2heNT",
        "outputId": "64b937c0-910c-4993-f112-7a767c5d6857"
      },
      "execution_count": null,
      "outputs": [
        {
          "output_type": "stream",
          "name": "stdout",
          "text": [
            "Accuracy of the network on the 10000 test images: 61 %\n"
          ]
        }
      ]
    },
    {
      "cell_type": "code",
      "source": [
        "class_correct = list(0. for i in range(10))\n",
        "class_total = list(0. for i in range(10))\n",
        "with torch.no_grad():\n",
        "    for data in testloader:\n",
        "        images, labels = data\n",
        "        outputs = net(images)\n",
        "        _, predicted = torch.max(outputs, 1)\n",
        "        c = (predicted == labels).squeeze()\n",
        "        for i in range(4):\n",
        "            label = labels[i]\n",
        "            class_correct[label] += c[i].item()\n",
        "            class_total[label] += 1\n",
        "\n",
        "\n",
        "for i in range(10):\n",
        "    print('Accuracy of %5s : %2d %%' % (\n",
        "        classes[i], 100 * class_correct[i] / class_total[i]))"
      ],
      "metadata": {
        "colab": {
          "base_uri": "https://localhost:8080/"
        },
        "id": "2VD2MZ91hkk1",
        "outputId": "7a34a59e-cdc2-43a2-a016-bd237e1c3294"
      },
      "execution_count": null,
      "outputs": [
        {
          "output_type": "stream",
          "name": "stdout",
          "text": [
            "Accuracy of plane : 81 %\n",
            "Accuracy of   car : 71 %\n",
            "Accuracy of  bird : 54 %\n",
            "Accuracy of   cat : 42 %\n",
            "Accuracy of  deer : 53 %\n",
            "Accuracy of   dog : 45 %\n",
            "Accuracy of  frog : 79 %\n",
            "Accuracy of horse : 65 %\n",
            "Accuracy of  ship : 51 %\n",
            "Accuracy of truck : 72 %\n"
          ]
        }
      ]
    },
    {
      "cell_type": "markdown",
      "source": [
        "출처: https://m.blog.naver.com/ckdgus1433/221406102936의 튜토리얼을 참고하였습니다!"
      ],
      "metadata": {
        "id": "FXdtUROHSU4_"
      }
    },
    {
      "cell_type": "markdown",
      "source": [
        "#과제"
      ],
      "metadata": {
        "id": "SXfXZ7HorjRI"
      }
    },
    {
      "cell_type": "markdown",
      "source": [
        "##1. 실습 파일의 overfitting model의 optimizer, epoch, learning rate 등을 변경하여 실행한 결과와, underfitting의 layer를 2개 이상 추가하여 실행한 결과를 각각 캡처하여 overfit, underfit이라는 이름으로 깃허브에 제출하기."
      ],
      "metadata": {
        "id": "PxXa62w5rmyq"
      }
    },
    {
      "cell_type": "markdown",
      "source": [
        "##2. 과제 파일을 수정하여 Test image에 대한 accuracy를 53% 이상으로 높이고, 모델의 결과에 대한 캡처본과 파일을 모두 깃허브에 제출하기. <br>\n",
        "\n",
        "Hint: 파일 중간중간에 설명이 있는 부분을 참고하시면 아마 될 겁니다!<br>\n",
        "(layer 추가, optimizer 변경, learning rate 조정 등...)"
      ],
      "metadata": {
        "id": "IN3brBzmyaTu"
      }
    },
    {
      "cell_type": "markdown",
      "source": [
        "##3. MLP model과 기존 ML model의 차이점을 최소 2가지 측면에서 서술하기. <br>\n",
        "답1:ML model은 머신러닝 알고리즘의 다양한 구현체를 말하지만 MLP 모델은 이 중 신경망에 속하는 특정한 모델을 뜻하기에 개념적인 범주에서의 차이가 있습니다.\n",
        "\n",
        "답2:학습방법에 있어서 역시 차이점이 있는데, 먼저 ML model은 종류마다 다양한 학습 알고리즘을 사용하지만, MLP model은 graient descent와 backpropagation방법을 이용하여 학습합니다."
      ],
      "metadata": {
        "id": "4BWi0Uspyaba"
      }
    },
    {
      "cell_type": "markdown",
      "source": [
        "##4. Backpropagation이 무엇인지 자신의 언어로 한줄 요약!    <br>\n",
        "답: Backpropagation은 역으로 거슬러 올라가면서 가중치와 편향을 조정하며 오차를 최소화하는것을 가능하게 해주는 알고리즘입니다.\n"
      ],
      "metadata": {
        "id": "J8qI2lfvyajC"
      }
    }
  ],
  "metadata": {
    "accelerator": "GPU",
    "colab": {
      "provenance": [],
      "gpuType": "T4"
    },
    "kernelspec": {
      "display_name": "Python 3",
      "name": "python3"
    },
    "language_info": {
      "name": "python"
    }
  },
  "nbformat": 4,
  "nbformat_minor": 0
}